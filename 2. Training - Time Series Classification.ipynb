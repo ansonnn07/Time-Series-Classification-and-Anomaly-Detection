{
 "cells": [
  {
   "cell_type": "markdown",
   "id": "56c638fd-0806-4e11-920f-f2f68eaaaf6e",
   "metadata": {
    "id": "56c638fd-0806-4e11-920f-f2f68eaaaf6e"
   },
   "source": [
    "# Setup"
   ]
  },
  {
   "cell_type": "markdown",
   "id": "735c3931-08e8-48f1-873c-3d6aa9418f3e",
   "metadata": {},
   "source": [
    "You can open the Colab notebook version of this Jupyter notebook here for the latest updates: https://colab.research.google.com/drive/1lcEF_rHSl1oS4pZg2NKSLZBTc0O7RpAK?usp=sharing."
   ]
  },
  {
   "cell_type": "code",
   "execution_count": null,
   "id": "6c517d36-86ee-49ec-8687-07fc911cdc4d",
   "metadata": {
    "id": "6c517d36-86ee-49ec-8687-07fc911cdc4d",
    "tags": []
   },
   "outputs": [],
   "source": [
    "import os\n",
    "import time\n",
    "import math\n",
    "# use this display function to display DataFrames nicely\n",
    "from IPython.display import display, clear_output\n",
    "\n",
    "import pandas as pd\n",
    "import numpy as np\n",
    "import matplotlib.pyplot as plt\n",
    "import seaborn as sns\n",
    "from tqdm import tqdm\n",
    "\n",
    "from sklearn.preprocessing import LabelEncoder\n",
    "from sklearn.model_selection import train_test_split\n",
    "\n",
    "import torch\n",
    "from torch.utils.data import Dataset, DataLoader\n",
    "from torch import nn\n",
    "from torch.nn import functional as F\n",
    "from torch.optim import Adam\n",
    "from torch.optim.lr_scheduler import ReduceLROnPlateau"
   ]
  },
  {
   "cell_type": "code",
   "execution_count": null,
   "id": "sxiO-De-2a6K",
   "metadata": {
    "id": "sxiO-De-2a6K"
   },
   "outputs": [],
   "source": [
    "# # change the font_scale all at once\n",
    "sns.set(font_scale=1.5)\n",
    "\n",
    "# use the ggplot theme for our figures\n",
    "plt.style.use('ggplot')\n",
    "# set default figure size\n",
    "plt.rcParams['figure.figsize'] = (16, 10)"
   ]
  },
  {
   "cell_type": "code",
   "execution_count": null,
   "id": "2d64ee9c-6d94-4785-aed9-4e942c66ed95",
   "metadata": {
    "colab": {
     "base_uri": "https://localhost:8080/"
    },
    "id": "2d64ee9c-6d94-4785-aed9-4e942c66ed95",
    "outputId": "186cb57d-6e50-449f-b7df-1f4b003b6a43"
   },
   "outputs": [
    {
     "data": {
      "text/plain": [
       "True"
      ]
     },
     "execution_count": 3,
     "metadata": {},
     "output_type": "execute_result"
    }
   ],
   "source": [
    "# check whether your PyTorch has access to GPU\n",
    "# if you don't, make sure to follow the steps mentioned\n",
    "#  in the README file.\n",
    "torch.cuda.is_available()"
   ]
  },
  {
   "cell_type": "code",
   "execution_count": null,
   "id": "p3vGJ6TSWe71",
   "metadata": {
    "colab": {
     "base_uri": "https://localhost:8080/",
     "height": 35
    },
    "id": "p3vGJ6TSWe71",
    "outputId": "94d4c6fb-75ab-4d5a-88f1-b701efefdfa1"
   },
   "outputs": [
    {
     "data": {
      "application/vnd.google.colaboratory.intrinsic+json": {
       "type": "string"
      },
      "text/plain": [
       "'1.9.0+cu102'"
      ]
     },
     "execution_count": 4,
     "metadata": {},
     "output_type": "execute_result"
    }
   ],
   "source": [
    "torch.__version__"
   ]
  },
  {
   "cell_type": "code",
   "execution_count": null,
   "id": "Rjy880B-cZWU",
   "metadata": {
    "colab": {
     "base_uri": "https://localhost:8080/"
    },
    "id": "Rjy880B-cZWU",
    "outputId": "b34ffa0a-1985-43fb-f02e-525edf6f6995"
   },
   "outputs": [
    {
     "data": {
      "text/plain": [
       "<torch._C.Generator at 0x7f4c89f9df90>"
      ]
     },
     "execution_count": 67,
     "metadata": {},
     "output_type": "execute_result"
    }
   ],
   "source": [
    "RANDOM_SEED = 42\n",
    "\n",
    "np.random.seed(RANDOM_SEED)\n",
    "torch.manual_seed(RANDOM_SEED)"
   ]
  },
  {
   "cell_type": "code",
   "execution_count": null,
   "id": "3fd31c15-308f-4d66-a603-67a17d06a9de",
   "metadata": {
    "id": "3fd31c15-308f-4d66-a603-67a17d06a9de"
   },
   "outputs": [],
   "source": [
    "# set up the device to use for our torch tensors\n",
    "device = 'cuda' if torch.cuda.is_available() else 'cpu'"
   ]
  },
  {
   "cell_type": "markdown",
   "id": "AOgDWOuItC6Y",
   "metadata": {
    "id": "AOgDWOuItC6Y"
   },
   "source": [
    "You may choose to download the dataset from Kaggle and upload the entire dataset into Google Drive directly for faster upload time than uploading to here directly. Or just directly download the dataset into the Google Colab environment here by using Kaggle API. \n",
    "\n",
    "1. Go to homepage www.kaggle.com -> Your Account -> Create New API token and a `kaggle.json` file will be downloaded.\n",
    "2. Upload the `kaggle.json` file to Google Colab at the left panel.\n",
    "3. Then, run the cell below to create a kaggle directory and copy the `kaggle.json` API key into the directory."
   ]
  },
  {
   "cell_type": "code",
   "execution_count": null,
   "id": "pW_EsGrjigOM",
   "metadata": {
    "colab": {
     "base_uri": "https://localhost:8080/"
    },
    "id": "pW_EsGrjigOM",
    "outputId": "d6b5420b-714c-4a86-ed2e-f057b3901c81"
   },
   "outputs": [
    {
     "name": "stdout",
     "output_type": "stream",
     "text": [
      "mkdir: cannot create directory ‘/root/.kaggle’: File exists\n"
     ]
    }
   ],
   "source": [
    "!mkdir ~/.kaggle\n",
    "!cp /content/kaggle.json ~/.kaggle/kaggle.json\n",
    "!chmod 600 ~/.kaggle/kaggle.json"
   ]
  },
  {
   "cell_type": "code",
   "execution_count": null,
   "id": "CaqB6Hb_iWAL",
   "metadata": {
    "colab": {
     "base_uri": "https://localhost:8080/"
    },
    "id": "CaqB6Hb_iWAL",
    "outputId": "a0db8de0-3c71-4167-f0c2-a5001bc30e4c"
   },
   "outputs": [
    {
     "name": "stdout",
     "output_type": "stream",
     "text": [
      "Warning: Looks like you're using an outdated API Version, please consider updating (server 1.5.12 / client 1.5.4)\n",
      "X_train.csv.zip: Skipping, found more recently modified local copy (use --force to force download)\n",
      "y_train.csv: Skipping, found more recently modified local copy (use --force to force download)\n",
      "sample_submission.csv: Skipping, found more recently modified local copy (use --force to force download)\n",
      "X_test.csv.zip: Skipping, found more recently modified local copy (use --force to force download)\n"
     ]
    }
   ],
   "source": [
    "!kaggle competitions download -c career-con-2019"
   ]
  },
  {
   "cell_type": "code",
   "execution_count": null,
   "id": "GILSC7QliSyC",
   "metadata": {
    "id": "GILSC7QliSyC"
   },
   "outputs": [],
   "source": [
    "!unzip --qq X_train.csv.zip"
   ]
  },
  {
   "cell_type": "code",
   "execution_count": null,
   "id": "79c3edfa-e0ec-4216-b0b7-dacee9bd2117",
   "metadata": {
    "colab": {
     "base_uri": "https://localhost:8080/",
     "height": 224
    },
    "id": "79c3edfa-e0ec-4216-b0b7-dacee9bd2117",
    "outputId": "78b77836-4cda-4052-a10b-5b927537c0f9"
   },
   "outputs": [
    {
     "data": {
      "text/html": [
       "<div>\n",
       "<style scoped>\n",
       "    .dataframe tbody tr th:only-of-type {\n",
       "        vertical-align: middle;\n",
       "    }\n",
       "\n",
       "    .dataframe tbody tr th {\n",
       "        vertical-align: top;\n",
       "    }\n",
       "\n",
       "    .dataframe thead th {\n",
       "        text-align: right;\n",
       "    }\n",
       "</style>\n",
       "<table border=\"1\" class=\"dataframe\">\n",
       "  <thead>\n",
       "    <tr style=\"text-align: right;\">\n",
       "      <th></th>\n",
       "      <th>row_id</th>\n",
       "      <th>series_id</th>\n",
       "      <th>measurement_number</th>\n",
       "      <th>orientation_X</th>\n",
       "      <th>orientation_Y</th>\n",
       "      <th>orientation_Z</th>\n",
       "      <th>orientation_W</th>\n",
       "      <th>angular_velocity_X</th>\n",
       "      <th>angular_velocity_Y</th>\n",
       "      <th>angular_velocity_Z</th>\n",
       "      <th>linear_acceleration_X</th>\n",
       "      <th>linear_acceleration_Y</th>\n",
       "      <th>linear_acceleration_Z</th>\n",
       "    </tr>\n",
       "  </thead>\n",
       "  <tbody>\n",
       "    <tr>\n",
       "      <th>0</th>\n",
       "      <td>0_0</td>\n",
       "      <td>0</td>\n",
       "      <td>0</td>\n",
       "      <td>-0.75853</td>\n",
       "      <td>-0.63435</td>\n",
       "      <td>-0.10488</td>\n",
       "      <td>-0.10597</td>\n",
       "      <td>0.107650</td>\n",
       "      <td>0.017561</td>\n",
       "      <td>0.000767</td>\n",
       "      <td>-0.74857</td>\n",
       "      <td>2.1030</td>\n",
       "      <td>-9.7532</td>\n",
       "    </tr>\n",
       "    <tr>\n",
       "      <th>1</th>\n",
       "      <td>0_1</td>\n",
       "      <td>0</td>\n",
       "      <td>1</td>\n",
       "      <td>-0.75853</td>\n",
       "      <td>-0.63434</td>\n",
       "      <td>-0.10490</td>\n",
       "      <td>-0.10600</td>\n",
       "      <td>0.067851</td>\n",
       "      <td>0.029939</td>\n",
       "      <td>0.003385</td>\n",
       "      <td>0.33995</td>\n",
       "      <td>1.5064</td>\n",
       "      <td>-9.4128</td>\n",
       "    </tr>\n",
       "    <tr>\n",
       "      <th>2</th>\n",
       "      <td>0_2</td>\n",
       "      <td>0</td>\n",
       "      <td>2</td>\n",
       "      <td>-0.75853</td>\n",
       "      <td>-0.63435</td>\n",
       "      <td>-0.10492</td>\n",
       "      <td>-0.10597</td>\n",
       "      <td>0.007275</td>\n",
       "      <td>0.028934</td>\n",
       "      <td>-0.005978</td>\n",
       "      <td>-0.26429</td>\n",
       "      <td>1.5922</td>\n",
       "      <td>-8.7267</td>\n",
       "    </tr>\n",
       "    <tr>\n",
       "      <th>3</th>\n",
       "      <td>0_3</td>\n",
       "      <td>0</td>\n",
       "      <td>3</td>\n",
       "      <td>-0.75852</td>\n",
       "      <td>-0.63436</td>\n",
       "      <td>-0.10495</td>\n",
       "      <td>-0.10597</td>\n",
       "      <td>-0.013053</td>\n",
       "      <td>0.019448</td>\n",
       "      <td>-0.008974</td>\n",
       "      <td>0.42684</td>\n",
       "      <td>1.0993</td>\n",
       "      <td>-10.0960</td>\n",
       "    </tr>\n",
       "    <tr>\n",
       "      <th>4</th>\n",
       "      <td>0_4</td>\n",
       "      <td>0</td>\n",
       "      <td>4</td>\n",
       "      <td>-0.75852</td>\n",
       "      <td>-0.63435</td>\n",
       "      <td>-0.10495</td>\n",
       "      <td>-0.10596</td>\n",
       "      <td>0.005135</td>\n",
       "      <td>0.007652</td>\n",
       "      <td>0.005245</td>\n",
       "      <td>-0.50969</td>\n",
       "      <td>1.4689</td>\n",
       "      <td>-10.4410</td>\n",
       "    </tr>\n",
       "  </tbody>\n",
       "</table>\n",
       "</div>"
      ],
      "text/plain": [
       "  row_id  series_id  ...  linear_acceleration_Y  linear_acceleration_Z\n",
       "0    0_0          0  ...                 2.1030                -9.7532\n",
       "1    0_1          0  ...                 1.5064                -9.4128\n",
       "2    0_2          0  ...                 1.5922                -8.7267\n",
       "3    0_3          0  ...                 1.0993               -10.0960\n",
       "4    0_4          0  ...                 1.4689               -10.4410\n",
       "\n",
       "[5 rows x 13 columns]"
      ]
     },
     "execution_count": 6,
     "metadata": {},
     "output_type": "execute_result"
    }
   ],
   "source": [
    "X_train = pd.read_csv(\"X_train.csv\")\n",
    "X_train.head()"
   ]
  },
  {
   "cell_type": "code",
   "execution_count": null,
   "id": "21065d7e-4fa5-4d7f-b8ac-87168c930bed",
   "metadata": {
    "colab": {
     "base_uri": "https://localhost:8080/",
     "height": 204
    },
    "id": "21065d7e-4fa5-4d7f-b8ac-87168c930bed",
    "outputId": "992c9e90-3654-4485-b8ca-6e2ac0192bf2"
   },
   "outputs": [
    {
     "data": {
      "text/html": [
       "<div>\n",
       "<style scoped>\n",
       "    .dataframe tbody tr th:only-of-type {\n",
       "        vertical-align: middle;\n",
       "    }\n",
       "\n",
       "    .dataframe tbody tr th {\n",
       "        vertical-align: top;\n",
       "    }\n",
       "\n",
       "    .dataframe thead th {\n",
       "        text-align: right;\n",
       "    }\n",
       "</style>\n",
       "<table border=\"1\" class=\"dataframe\">\n",
       "  <thead>\n",
       "    <tr style=\"text-align: right;\">\n",
       "      <th></th>\n",
       "      <th>series_id</th>\n",
       "      <th>group_id</th>\n",
       "      <th>surface</th>\n",
       "    </tr>\n",
       "  </thead>\n",
       "  <tbody>\n",
       "    <tr>\n",
       "      <th>0</th>\n",
       "      <td>0</td>\n",
       "      <td>13</td>\n",
       "      <td>fine_concrete</td>\n",
       "    </tr>\n",
       "    <tr>\n",
       "      <th>1</th>\n",
       "      <td>1</td>\n",
       "      <td>31</td>\n",
       "      <td>concrete</td>\n",
       "    </tr>\n",
       "    <tr>\n",
       "      <th>2</th>\n",
       "      <td>2</td>\n",
       "      <td>20</td>\n",
       "      <td>concrete</td>\n",
       "    </tr>\n",
       "    <tr>\n",
       "      <th>3</th>\n",
       "      <td>3</td>\n",
       "      <td>31</td>\n",
       "      <td>concrete</td>\n",
       "    </tr>\n",
       "    <tr>\n",
       "      <th>4</th>\n",
       "      <td>4</td>\n",
       "      <td>22</td>\n",
       "      <td>soft_tiles</td>\n",
       "    </tr>\n",
       "  </tbody>\n",
       "</table>\n",
       "</div>"
      ],
      "text/plain": [
       "   series_id  group_id        surface\n",
       "0          0        13  fine_concrete\n",
       "1          1        31       concrete\n",
       "2          2        20       concrete\n",
       "3          3        31       concrete\n",
       "4          4        22     soft_tiles"
      ]
     },
     "execution_count": 7,
     "metadata": {},
     "output_type": "execute_result"
    }
   ],
   "source": [
    "y_train = pd.read_csv(\"y_train.csv\")\n",
    "y_train.head()"
   ]
  },
  {
   "cell_type": "markdown",
   "id": "5b81de63-d9e2-4b0d-8abc-cd58545a455d",
   "metadata": {
    "id": "5b81de63-d9e2-4b0d-8abc-cd58545a455d"
   },
   "source": [
    "# Training Config"
   ]
  },
  {
   "cell_type": "code",
   "execution_count": null,
   "id": "218fb4f4-61cf-4062-9da2-0e805e1a88ad",
   "metadata": {
    "id": "218fb4f4-61cf-4062-9da2-0e805e1a88ad"
   },
   "outputs": [],
   "source": [
    "BATCH_SIZE = 64\n",
    "EPOCHS = 250\n",
    "LEARNING_RATE = 1e-4\n",
    "\n",
    "CHECKPOINT_PATH = \"my_checkpoint.pth.tar\"\n",
    "\n",
    "SEQUENCE_LENGTH = 128\n",
    "N_CLASSES = y_train['surface'].nunique()"
   ]
  },
  {
   "cell_type": "code",
   "execution_count": null,
   "id": "-GM6dqY6iDIe",
   "metadata": {
    "colab": {
     "base_uri": "https://localhost:8080/"
    },
    "id": "-GM6dqY6iDIe",
    "outputId": "9150eeb3-583f-414c-a2d9-a22a31412948"
   },
   "outputs": [
    {
     "data": {
      "text/plain": [
       "9"
      ]
     },
     "execution_count": 9,
     "metadata": {},
     "output_type": "execute_result"
    }
   ],
   "source": [
    "N_CLASSES"
   ]
  },
  {
   "cell_type": "markdown",
   "id": "2281e018-6fee-4df7-ba22-0e1eb28a6305",
   "metadata": {
    "id": "2281e018-6fee-4df7-ba22-0e1eb28a6305"
   },
   "source": [
    "# Some Visualizations"
   ]
  },
  {
   "cell_type": "code",
   "execution_count": null,
   "id": "c32a1b89-254b-4b21-b495-19f57c647075",
   "metadata": {
    "colab": {
     "base_uri": "https://localhost:8080/",
     "height": 750
    },
    "id": "c32a1b89-254b-4b21-b495-19f57c647075",
    "outputId": "e2933422-fedb-4f04-8447-a2a4cc573ef1"
   },
   "outputs": [
    {
     "data": {
      "image/png": "[encoded data removed]",
      "text/plain": [
       "<Figure size 1152x720 with 1 Axes>"
      ]
     },
     "metadata": {},
     "output_type": "display_data"
    }
   ],
   "source": [
    "y_train['surface'].value_counts().plot(kind='bar')\n",
    "plt.title(\"Number of Sequences for each Class\", size=20)\n",
    "plt.xticks(rotation=45)\n",
    "plt.show()"
   ]
  },
  {
   "cell_type": "code",
   "execution_count": null,
   "id": "JzhPvqwMpX1A",
   "metadata": {
    "colab": {
     "base_uri": "https://localhost:8080/"
    },
    "id": "JzhPvqwMpX1A",
    "outputId": "780e286f-9197-47f0-8834-29e536578435"
   },
   "outputs": [
    {
     "data": {
      "text/plain": [
       "array(['orientation_X', 'orientation_Y', 'orientation_Z', 'orientation_W',\n",
       "       'angular_velocity_X', 'angular_velocity_Y', 'angular_velocity_Z',\n",
       "       'linear_acceleration_X', 'linear_acceleration_Y',\n",
       "       'linear_acceleration_Z'], dtype=object)"
      ]
     },
     "execution_count": 149,
     "metadata": {},
     "output_type": "execute_result"
    }
   ],
   "source": [
    "# get the feature columns\n",
    "feature_cols = X_train.columns[3:].values\n",
    "feature_cols"
   ]
  },
  {
   "cell_type": "code",
   "execution_count": null,
   "id": "Ctr_Hl25x6gr",
   "metadata": {
    "colab": {
     "base_uri": "https://localhost:8080/",
     "height": 763
    },
    "id": "Ctr_Hl25x6gr",
    "outputId": "c0881e69-b583-44f4-e62e-8d1d2258e2cf"
   },
   "outputs": [
    {
     "name": "stdout",
     "output_type": "stream",
     "text": [
      "Surface = hard_tiles\n",
      "\n"
     ]
    },
    {
     "data": {
      "image/png": "[encoded data removed]",
      "text/plain": [
       "<Figure size 1152x720 with 10 Axes>"
      ]
     },
     "metadata": {},
     "output_type": "display_data"
    }
   ],
   "source": [
    "# DRAW A PLOT OF TIME SERIES\n",
    "random_idx = np.random.randint(X_train['series_id'].nunique())\n",
    "row = X_train.loc[X_train['series_id'] == random_idx]\n",
    "label = y_train.loc[y_train['series_id'] == random_idx, 'surface'].values[0]\n",
    "\n",
    "print(f\"Surface = {label}\\n\")\n",
    "row[feature_cols].plot(\n",
    "    subplots=True,\n",
    "    layout=(5, 2),\n",
    "    fontsize=12,\n",
    ")\n",
    "plt.tight_layout()\n",
    "plt.show()"
   ]
  },
  {
   "cell_type": "markdown",
   "id": "c073f219-708f-4d89-9731-47e67e82caf8",
   "metadata": {
    "id": "c073f219-708f-4d89-9731-47e67e82caf8"
   },
   "source": [
    "# Preprocess the data"
   ]
  },
  {
   "cell_type": "code",
   "execution_count": null,
   "id": "jzx_El4Ic63s",
   "metadata": {
    "colab": {
     "base_uri": "https://localhost:8080/",
     "height": 359
    },
    "id": "jzx_El4Ic63s",
    "outputId": "177bc51b-ab24-4362-b866-e257f36dc62f"
   },
   "outputs": [
    {
     "data": {
      "text/html": [
       "<div>\n",
       "<style scoped>\n",
       "    .dataframe tbody tr th:only-of-type {\n",
       "        vertical-align: middle;\n",
       "    }\n",
       "\n",
       "    .dataframe tbody tr th {\n",
       "        vertical-align: top;\n",
       "    }\n",
       "\n",
       "    .dataframe thead th {\n",
       "        text-align: right;\n",
       "    }\n",
       "</style>\n",
       "<table border=\"1\" class=\"dataframe\">\n",
       "  <thead>\n",
       "    <tr style=\"text-align: right;\">\n",
       "      <th></th>\n",
       "      <th>series_id</th>\n",
       "      <th>group_id</th>\n",
       "      <th>surface</th>\n",
       "      <th>encoded_label</th>\n",
       "    </tr>\n",
       "  </thead>\n",
       "  <tbody>\n",
       "    <tr>\n",
       "      <th>0</th>\n",
       "      <td>0</td>\n",
       "      <td>13</td>\n",
       "      <td>fine_concrete</td>\n",
       "      <td>2</td>\n",
       "    </tr>\n",
       "    <tr>\n",
       "      <th>1</th>\n",
       "      <td>1</td>\n",
       "      <td>31</td>\n",
       "      <td>concrete</td>\n",
       "      <td>1</td>\n",
       "    </tr>\n",
       "    <tr>\n",
       "      <th>2</th>\n",
       "      <td>2</td>\n",
       "      <td>20</td>\n",
       "      <td>concrete</td>\n",
       "      <td>1</td>\n",
       "    </tr>\n",
       "    <tr>\n",
       "      <th>3</th>\n",
       "      <td>3</td>\n",
       "      <td>31</td>\n",
       "      <td>concrete</td>\n",
       "      <td>1</td>\n",
       "    </tr>\n",
       "    <tr>\n",
       "      <th>4</th>\n",
       "      <td>4</td>\n",
       "      <td>22</td>\n",
       "      <td>soft_tiles</td>\n",
       "      <td>6</td>\n",
       "    </tr>\n",
       "    <tr>\n",
       "      <th>5</th>\n",
       "      <td>5</td>\n",
       "      <td>1</td>\n",
       "      <td>tiled</td>\n",
       "      <td>7</td>\n",
       "    </tr>\n",
       "    <tr>\n",
       "      <th>6</th>\n",
       "      <td>6</td>\n",
       "      <td>34</td>\n",
       "      <td>soft_pvc</td>\n",
       "      <td>5</td>\n",
       "    </tr>\n",
       "    <tr>\n",
       "      <th>7</th>\n",
       "      <td>7</td>\n",
       "      <td>31</td>\n",
       "      <td>concrete</td>\n",
       "      <td>1</td>\n",
       "    </tr>\n",
       "    <tr>\n",
       "      <th>8</th>\n",
       "      <td>8</td>\n",
       "      <td>33</td>\n",
       "      <td>hard_tiles_large_space</td>\n",
       "      <td>4</td>\n",
       "    </tr>\n",
       "    <tr>\n",
       "      <th>9</th>\n",
       "      <td>9</td>\n",
       "      <td>11</td>\n",
       "      <td>tiled</td>\n",
       "      <td>7</td>\n",
       "    </tr>\n",
       "  </tbody>\n",
       "</table>\n",
       "</div>"
      ],
      "text/plain": [
       "   series_id  group_id                 surface  encoded_label\n",
       "0          0        13           fine_concrete              2\n",
       "1          1        31                concrete              1\n",
       "2          2        20                concrete              1\n",
       "3          3        31                concrete              1\n",
       "4          4        22              soft_tiles              6\n",
       "5          5         1                   tiled              7\n",
       "6          6        34                soft_pvc              5\n",
       "7          7        31                concrete              1\n",
       "8          8        33  hard_tiles_large_space              4\n",
       "9          9        11                   tiled              7"
      ]
     },
     "execution_count": 10,
     "metadata": {},
     "output_type": "execute_result"
    }
   ],
   "source": [
    "encoder = LabelEncoder()\n",
    "y_train['encoded_label'] = encoder.fit_transform(y_train['surface'])\n",
    "y_train.head(10)"
   ]
  },
  {
   "cell_type": "code",
   "execution_count": null,
   "id": "CiD07QJhdMWv",
   "metadata": {
    "colab": {
     "base_uri": "https://localhost:8080/"
    },
    "id": "CiD07QJhdMWv",
    "outputId": "324769af-86de-42e3-ef05-b8983f5fe424"
   },
   "outputs": [
    {
     "data": {
      "text/plain": [
       "array([2, 1, 6, 7, 5, 4, 0, 3, 8])"
      ]
     },
     "execution_count": 11,
     "metadata": {},
     "output_type": "execute_result"
    }
   ],
   "source": [
    "y_train.encoded_label.unique()"
   ]
  },
  {
   "cell_type": "code",
   "execution_count": null,
   "id": "1m4Qc0gxdPkv",
   "metadata": {
    "colab": {
     "base_uri": "https://localhost:8080/"
    },
    "id": "1m4Qc0gxdPkv",
    "outputId": "fe8142d2-e0e7-4dd9-c748-4359063e5c21"
   },
   "outputs": [
    {
     "data": {
      "text/plain": [
       "array(['carpet', 'concrete', 'fine_concrete', 'hard_tiles',\n",
       "       'hard_tiles_large_space', 'soft_pvc', 'soft_tiles', 'tiled',\n",
       "       'wood'], dtype=object)"
      ]
     },
     "execution_count": 12,
     "metadata": {},
     "output_type": "execute_result"
    }
   ],
   "source": [
    "encoder.classes_"
   ]
  },
  {
   "cell_type": "code",
   "execution_count": null,
   "id": "b546f9fc-95e2-48cf-af56-9bcfaa6bf6da",
   "metadata": {
    "colab": {
     "base_uri": "https://localhost:8080/"
    },
    "id": "b546f9fc-95e2-48cf-af56-9bcfaa6bf6da",
    "outputId": "a4b2be15-39b7-492d-d9a0-ff1e9f9d66b4",
    "tags": []
   },
   "outputs": [
    {
     "data": {
      "text/plain": [
       "array(['orientation_X', 'orientation_Y', 'orientation_Z', 'orientation_W',\n",
       "       'angular_velocity_X', 'angular_velocity_Y', 'angular_velocity_Z',\n",
       "       'linear_acceleration_X', 'linear_acceleration_Y',\n",
       "       'linear_acceleration_Z'], dtype=object)"
      ]
     },
     "execution_count": 13,
     "metadata": {},
     "output_type": "execute_result"
    }
   ],
   "source": [
    "# get the feature columns\n",
    "feature_cols = X_train.columns[3:].values\n",
    "feature_cols"
   ]
  },
  {
   "cell_type": "code",
   "execution_count": null,
   "id": "0f457744-aad7-4514-a4f1-4494d761075d",
   "metadata": {
    "colab": {
     "base_uri": "https://localhost:8080/"
    },
    "id": "0f457744-aad7-4514-a4f1-4494d761075d",
    "outputId": "a6e3c2a8-bd09-4685-906c-6ae190d573a5"
   },
   "outputs": [
    {
     "data": {
      "text/plain": [
       "True"
      ]
     },
     "execution_count": 14,
     "metadata": {},
     "output_type": "execute_result"
    }
   ],
   "source": [
    "# there are 128 timesteps for each sequence\n",
    "(X_train.groupby(\"series_id\")['row_id'].count() == 128).all()"
   ]
  },
  {
   "cell_type": "code",
   "execution_count": null,
   "id": "ae7ccdc0-3d67-4db1-830b-0f85e6e37d83",
   "metadata": {
    "id": "ae7ccdc0-3d67-4db1-830b-0f85e6e37d83"
   },
   "outputs": [],
   "source": [
    "# create a list of tuples of sequences and encoded labels\n",
    "sequence_list = []\n",
    "for series_id, group in X_train.groupby(\"series_id\"):\n",
    "    sequence = group[feature_cols].values\n",
    "    label = y_train.loc[y_train['series_id'] == series_id,\n",
    "                        'encoded_label'].values[0]\n",
    "    # append the sequence and label as tuple into the list\n",
    "    sequence_list.append((sequence, label))"
   ]
  },
  {
   "cell_type": "code",
   "execution_count": null,
   "id": "83798162-3761-40d6-b9ac-2af5f08bffe6",
   "metadata": {
    "colab": {
     "base_uri": "https://localhost:8080/"
    },
    "id": "83798162-3761-40d6-b9ac-2af5f08bffe6",
    "outputId": "4f9d70d3-2215-4d2f-b435-71c60fdb4b19"
   },
   "outputs": [
    {
     "name": "stdout",
     "output_type": "stream",
     "text": [
      "label = 2\n",
      "['fine_concrete']\n",
      "[[ -0.75853  -0.63435  -0.10488 ...  -0.74857   2.103    -9.7532 ]\n",
      " [ -0.75853  -0.63434  -0.1049  ...   0.33995   1.5064   -9.4128 ]\n",
      " [ -0.75853  -0.63435  -0.10492 ...  -0.26429   1.5922   -8.7267 ]\n",
      " ...\n",
      " [ -0.75949  -0.63309  -0.10467 ...  -0.98193   0.97328  -9.9795 ]\n",
      " [ -0.7595   -0.63307  -0.10464 ...  -0.72591   0.34931 -11.977  ]\n",
      " [ -0.75953  -0.63306  -0.10461 ...  -0.53426   0.80346 -10.697  ]]\n"
     ]
    }
   ],
   "source": [
    "# showing an example of sequence with its label\n",
    "sequence_idx = 0\n",
    "sequence = sequence_list[sequence_idx][0]\n",
    "label = sequence_list[sequence_idx][1]\n",
    "print(f\"label = {label}\")\n",
    "print(encoder.inverse_transform([label]))\n",
    "print(sequence)"
   ]
  },
  {
   "cell_type": "code",
   "execution_count": null,
   "id": "90d11064-1b20-473b-aec1-f1f7d650da27",
   "metadata": {
    "colab": {
     "base_uri": "https://localhost:8080/"
    },
    "id": "90d11064-1b20-473b-aec1-f1f7d650da27",
    "outputId": "3e820088-63bf-4e4c-826d-a1e0e1b6f8d8"
   },
   "outputs": [
    {
     "name": "stdout",
     "output_type": "stream",
     "text": [
      "3048\n",
      "762\n"
     ]
    }
   ],
   "source": [
    "train_sequences, val_sequences = train_test_split(\n",
    "    sequence_list,\n",
    "    test_size=0.2,\n",
    "    random_state=RANDOM_SEED,\n",
    ")\n",
    "print(len(train_sequences))\n",
    "print(len(val_sequences))"
   ]
  },
  {
   "cell_type": "markdown",
   "id": "de1567d3-6eba-4da4-bb9b-013384d193c4",
   "metadata": {
    "id": "de1567d3-6eba-4da4-bb9b-013384d193c4"
   },
   "source": [
    "# Create PyTorch Dataset and DataLoaders"
   ]
  },
  {
   "cell_type": "code",
   "execution_count": null,
   "id": "6515a02a-06e6-4875-8b56-78ad886fe6e5",
   "metadata": {
    "id": "6515a02a-06e6-4875-8b56-78ad886fe6e5"
   },
   "outputs": [],
   "source": [
    "# create PyTorch dataset by inheriting the Dataset class\n",
    "class SequenceDataset(Dataset):\n",
    "    def __init__(self, sequence_list):\n",
    "        \"\"\"The `sequence_list` parameter contains tuples of (sequence, label).\"\"\"\n",
    "        self.sequence_list = sequence_list\n",
    "        \n",
    "    def __len__(self):\n",
    "        return len(self.sequence_list)\n",
    "    \n",
    "    def __getitem__(self, idx):\n",
    "        sequence = sequence_list[idx][0]\n",
    "        label = sequence_list[idx][1]\n",
    "        \n",
    "        sequence = torch.tensor(sequence).float()\n",
    "        label = torch.tensor(label)\n",
    "        return sequence, label"
   ]
  },
  {
   "cell_type": "code",
   "execution_count": null,
   "id": "5b6acb2e-39a1-4a83-889f-3f373d76fc73",
   "metadata": {
    "id": "5b6acb2e-39a1-4a83-889f-3f373d76fc73"
   },
   "outputs": [],
   "source": [
    "train_dataset = SequenceDataset(train_sequences)\n",
    "val_dataset = SequenceDataset(val_sequences)"
   ]
  },
  {
   "cell_type": "code",
   "execution_count": null,
   "id": "92b1e324-1c19-4844-8d1e-376d7eeec6ea",
   "metadata": {
    "colab": {
     "base_uri": "https://localhost:8080/"
    },
    "id": "92b1e324-1c19-4844-8d1e-376d7eeec6ea",
    "outputId": "4abaa894-c874-4ccc-8f03-76f41fdeabea"
   },
   "outputs": [
    {
     "name": "stdout",
     "output_type": "stream",
     "text": [
      "tensor(2)\n",
      "tensor([[ -0.7585,  -0.6344,  -0.1049,  ...,  -0.7486,   2.1030,  -9.7532],\n",
      "        [ -0.7585,  -0.6343,  -0.1049,  ...,   0.3399,   1.5064,  -9.4128],\n",
      "        [ -0.7585,  -0.6344,  -0.1049,  ...,  -0.2643,   1.5922,  -8.7267],\n",
      "        ...,\n",
      "        [ -0.7595,  -0.6331,  -0.1047,  ...,  -0.9819,   0.9733,  -9.9795],\n",
      "        [ -0.7595,  -0.6331,  -0.1046,  ...,  -0.7259,   0.3493, -11.9770],\n",
      "        [ -0.7595,  -0.6331,  -0.1046,  ...,  -0.5343,   0.8035, -10.6970]])\n",
      "torch.Size([128, 10])\n"
     ]
    }
   ],
   "source": [
    "for x, y in train_dataset:\n",
    "    print(y)\n",
    "    print(x)\n",
    "    print(x.shape)\n",
    "    break"
   ]
  },
  {
   "cell_type": "code",
   "execution_count": null,
   "id": "a7144d36-ca03-42d0-8ec2-9ed3df8b662a",
   "metadata": {
    "id": "a7144d36-ca03-42d0-8ec2-9ed3df8b662a"
   },
   "outputs": [],
   "source": [
    "train_dl = DataLoader(train_dataset, batch_size=BATCH_SIZE, shuffle=True)\n",
    "val_dl = DataLoader(val_dataset, batch_size=BATCH_SIZE, shuffle=True)\n",
    "# we use the validation dataset as our test set in this case since we don't have\n",
    "#  access to the test set in Kaggle competition\n",
    "test_dl = DataLoader(val_dataset, batch_size=BATCH_SIZE, shuffle=True)"
   ]
  },
  {
   "cell_type": "code",
   "execution_count": null,
   "id": "03a3f630-13e2-471f-8d2a-87c48f8114fc",
   "metadata": {
    "colab": {
     "base_uri": "https://localhost:8080/"
    },
    "id": "03a3f630-13e2-471f-8d2a-87c48f8114fc",
    "outputId": "13c4b964-b434-4959-9d7b-d6d8f249ac6c"
   },
   "outputs": [
    {
     "name": "stdout",
     "output_type": "stream",
     "text": [
      "torch.Size([64, 128, 10])\n",
      "torch.Size([64])\n"
     ]
    }
   ],
   "source": [
    "for x, y in train_dl:\n",
    "    print(x.shape)\n",
    "    print(y.shape)\n",
    "    break"
   ]
  },
  {
   "cell_type": "markdown",
   "id": "bd84c29b-27bd-49c4-a5a5-020709ddd39a",
   "metadata": {
    "id": "bd84c29b-27bd-49c4-a5a5-020709ddd39a"
   },
   "source": [
    "# Build Model"
   ]
  },
  {
   "cell_type": "code",
   "execution_count": null,
   "id": "25ab4285-c424-426a-af20-cfc8964ca64e",
   "metadata": {
    "id": "25ab4285-c424-426a-af20-cfc8964ca64e"
   },
   "outputs": [],
   "source": [
    "class SequenceModel(nn.Module):\n",
    "    def __init__(self, n_features, n_classes=N_CLASSES, n_hidden=256, n_layers=3, verbose=0):\n",
    "        super().__init__()\n",
    "\n",
    "        self.verbose = verbose\n",
    "\n",
    "        self.lstm = nn.LSTM(\n",
    "            input_size=n_features,\n",
    "            hidden_size=n_hidden,\n",
    "            num_layers=n_layers,\n",
    "            batch_first=True,\n",
    "            dropout=0.75\n",
    "        )\n",
    "\n",
    "        self.fc = nn.Linear(n_hidden, n_classes)\n",
    "\n",
    "    def forward(self, x):\n",
    "        last_hidden, (hidden_states, _) = self.lstm(x)\n",
    "        last_output = hidden_states[-1]\n",
    "        x = self.fc(last_output)\n",
    "        \n",
    "        if self.verbose:\n",
    "            print(f\"last_hidden.shape = {last_hidden.shape}\")\n",
    "            print(f\"hidden_states.shape = {hidden_states.shape}\")\n",
    "            print(f\"last_output.shape = {last_output.shape}\")\n",
    "            print(f\"output shape = {x.shape}\")\n",
    "        return x"
   ]
  },
  {
   "cell_type": "code",
   "execution_count": null,
   "id": "_uEC9F7pgI9K",
   "metadata": {
    "colab": {
     "base_uri": "https://localhost:8080/"
    },
    "id": "_uEC9F7pgI9K",
    "outputId": "02651bf0-c3d2-44d2-baa5-917bc04e4c9e"
   },
   "outputs": [
    {
     "data": {
      "text/plain": [
       "SequenceModel(\n",
       "  (lstm): LSTM(10, 256, num_layers=3, batch_first=True, dropout=0.75)\n",
       "  (fc): Linear(in_features=256, out_features=9, bias=True)\n",
       ")"
      ]
     },
     "execution_count": 81,
     "metadata": {},
     "output_type": "execute_result"
    }
   ],
   "source": [
    "model = SequenceModel(\n",
    "    n_features=len(feature_cols),\n",
    "    n_classes=N_CLASSES,\n",
    "    n_hidden=256,\n",
    "    n_layers=3\n",
    ")\n",
    "model.to(device)"
   ]
  },
  {
   "cell_type": "code",
   "execution_count": null,
   "id": "vBEbHIjnUxvk",
   "metadata": {
    "colab": {
     "base_uri": "https://localhost:8080/"
    },
    "id": "vBEbHIjnUxvk",
    "outputId": "f76c3066-0675-4ada-bc2e-ff4654dc9bd4"
   },
   "outputs": [
    {
     "data": {
      "text/plain": [
       "torch.Size([64, 9])"
      ]
     },
     "execution_count": 82,
     "metadata": {},
     "output_type": "execute_result"
    }
   ],
   "source": [
    "model(x.to(device)).shape"
   ]
  },
  {
   "cell_type": "code",
   "execution_count": null,
   "id": "a7WhSce5jIaQ",
   "metadata": {
    "id": "a7WhSce5jIaQ"
   },
   "outputs": [],
   "source": [
    "criterion = nn.CrossEntropyLoss()\n",
    "optimizer = Adam(model.parameters(), lr=LEARNING_RATE)\n",
    "scheduler = ReduceLROnPlateau(optimizer, 'min', patience=10, verbose=True)"
   ]
  },
  {
   "cell_type": "markdown",
   "id": "FIxXfCBl5FGL",
   "metadata": {
    "id": "FIxXfCBl5FGL"
   },
   "source": [
    "# Training"
   ]
  },
  {
   "cell_type": "code",
   "execution_count": null,
   "id": "6AeS7hrRsa0p",
   "metadata": {
    "colab": {
     "base_uri": "https://localhost:8080/"
    },
    "id": "6AeS7hrRsa0p",
    "outputId": "6e9b9d8e-3c4c-43a2-9d69-b532d509741b"
   },
   "outputs": [
    {
     "name": "stderr",
     "output_type": "stream",
     "text": [
      "48it [00:05,  9.24it/s]\n"
     ]
    }
   ],
   "source": [
    "## optionally use tqdm with colored progress bar\n",
    "# from tqdm.notebook import tqdm as tqdm_notebook\n",
    "\n",
    "steps_per_epoch = math.ceil(len(train_dataset) / train_dl.batch_size)\n",
    "prog_bar = tqdm(\n",
    "    enumerate(train_dl),\n",
    "    total=steps_per_epoch,\n",
    "    leave=True\n",
    ")\n",
    "\n",
    "for x in prog_bar:\n",
    "    time.sleep(0.1)"
   ]
  },
  {
   "cell_type": "code",
   "execution_count": null,
   "id": "mLdMhZI8sODT",
   "metadata": {
    "id": "mLdMhZI8sODT"
   },
   "outputs": [],
   "source": [
    "def fit(model, train_dl, train_dataset, optimizer, criterion):\n",
    "    # set to training mode\n",
    "    model.train()\n",
    "    \n",
    "    counter = 0\n",
    "    total = 0\n",
    "    train_running_loss = 0.0\n",
    "    train_running_correct = 0\n",
    "\n",
    "    steps_per_epoch = math.ceil(len(train_dataset) / train_dl.batch_size)\n",
    "    prog_bar = tqdm(\n",
    "        enumerate(train_dl),\n",
    "        total=steps_per_epoch,\n",
    "        leave=False\n",
    "    )\n",
    "\n",
    "    for batch_idx, (sequences, labels) in prog_bar:\n",
    "        train_running_loss = 0.0\n",
    "        train_running_correct = 0\n",
    "        counter = 0\n",
    "        total = 0\n",
    "\n",
    "        sequences = sequences.to(device)\n",
    "        labels = labels.to(device)\n",
    "\n",
    "        y_pred = model(sequences)\n",
    "        # y_pred = torch.argmax(y_proba, axis=-1)\n",
    "\n",
    "        # print(y_pred.shape)\n",
    "        # print(labels.shape)\n",
    "\n",
    "        # calculate the loss\n",
    "        loss = criterion(y_pred, labels)\n",
    "        \n",
    "        # must reset the gradients to zero before update gradients for\n",
    "        # current batch\n",
    "        optimizer.zero_grad()\n",
    "\n",
    "        # backward propagation to update gradients\n",
    "        loss.backward()\n",
    "\n",
    "        # gradient descent using optimizer\n",
    "        optimizer.step()\n",
    "\n",
    "        counter += 1\n",
    "        total += len(labels)\n",
    "        train_running_correct += (torch.argmax(y_pred, -1) == labels).sum().item()\n",
    "        train_running_loss += loss.item()\n",
    "\n",
    "    train_accuracy = train_running_correct / total\n",
    "    train_loss = train_running_loss / counter\n",
    "    return train_accuracy, train_loss"
   ]
  },
  {
   "cell_type": "code",
   "execution_count": null,
   "id": "2GwIRwpom0qp",
   "metadata": {
    "id": "2GwIRwpom0qp"
   },
   "outputs": [],
   "source": [
    "def validate(model, val_dl, val_dataset, criterion):\n",
    "    # set to evaluation mode\n",
    "    model.eval()\n",
    "\n",
    "    counter = 0\n",
    "    total = 0\n",
    "    val_running_loss = 0.0\n",
    "    val_running_correct = 0\n",
    "\n",
    "    steps_per_epoch = math.ceil(len(val_dataset) / val_dl.batch_size)\n",
    "    prog_bar = tqdm(\n",
    "        enumerate(val_dl),\n",
    "        total=steps_per_epoch,\n",
    "        leave=False\n",
    "    )\n",
    "\n",
    "    # do not update gradients here\n",
    "    with torch.no_grad():\n",
    "        for batch_idx, (sequences, labels) in prog_bar:\n",
    "            sequences = sequences.to(device)\n",
    "            labels = labels.to(device)\n",
    "\n",
    "            y_pred = model(sequences)\n",
    "            # y_pred = torch.argmax(y_proba, axis=-1)\n",
    "\n",
    "            loss = criterion(y_pred, labels)\n",
    "\n",
    "            counter += 1\n",
    "            total += len(labels)\n",
    "            val_running_correct += (torch.argmax(y_pred, -1) == labels).sum().item()\n",
    "            val_running_loss += loss.item()\n",
    "\n",
    "        val_accuracy = val_running_correct / total\n",
    "        val_loss = val_running_loss / counter\n",
    "    \n",
    "    return val_accuracy, val_loss"
   ]
  },
  {
   "cell_type": "code",
   "execution_count": null,
   "id": "fHcVntR0CJqd",
   "metadata": {
    "id": "fHcVntR0CJqd"
   },
   "outputs": [],
   "source": [
    "def save_ckpt(state, filepath=\"my_checkpoint.pth.tar\"):\n",
    "    print(f\"[INFO] Saving checkpoint to {filepath}\")\n",
    "    torch.save(state, filepath)"
   ]
  },
  {
   "cell_type": "code",
   "execution_count": null,
   "id": "0t9DNGbykTxr",
   "metadata": {
    "colab": {
     "base_uri": "https://localhost:8080/"
    },
    "id": "0t9DNGbykTxr",
    "outputId": "0bac8434-471d-44ff-a164-7a32fadb6bcf"
   },
   "outputs": [
    {
     "name": "stdout",
     "output_type": "stream",
     "text": [
      "Epoch (0/250):"
     ]
    },
    {
     "name": "stderr",
     "output_type": "stream",
     "text": []
    },
    {
     "name": "stdout",
     "output_type": "stream",
     "text": [
      " 6.31 s\n",
      "[INFO] Saving checkpoint to my_checkpoint.pth.tar\n",
      "accuracy = 0.3  loss = 1.9219573736190796  val_accuracy = 0.22440944881889763  val_loss = 2.1030176182587943\n",
      "\n",
      "Epoch (1/250):"
     ]
    },
    {
     "name": "stderr",
     "output_type": "stream",
     "text": []
    },
    {
     "name": "stdout",
     "output_type": "stream",
     "text": [
      " 6.18 s\n",
      "[INFO] Saving checkpoint to my_checkpoint.pth.tar\n",
      "accuracy = 0.15  loss = 2.085019588470459  val_accuracy = 0.22572178477690288  val_loss = 2.072087128957113\n",
      "\n",
      "Epoch (2/250):"
     ]
    },
    {
     "name": "stderr",
     "output_type": "stream",
     "text": []
    },
    {
     "name": "stdout",
     "output_type": "stream",
     "text": [
      " 6.18 s\n",
      "[INFO] Saving checkpoint to my_checkpoint.pth.tar\n",
      "accuracy = 0.275  loss = 2.060514211654663  val_accuracy = 0.3333333333333333  val_loss = 2.0381898085276284\n",
      "\n",
      "Epoch (3/250):"
     ]
    },
    {
     "name": "stderr",
     "output_type": "stream",
     "text": []
    },
    {
     "name": "stdout",
     "output_type": "stream",
     "text": [
      " 6.18 s\n",
      "[INFO] Saving checkpoint to my_checkpoint.pth.tar\n",
      "accuracy = 0.2  loss = 1.9515098333358765  val_accuracy = 0.36089238845144356  val_loss = 1.9135826230049133\n",
      "\n",
      "Epoch (4/250):"
     ]
    },
    {
     "name": "stderr",
     "output_type": "stream",
     "text": []
    },
    {
     "name": "stdout",
     "output_type": "stream",
     "text": [
      " 6.17 s\n",
      "accuracy = 0.25  loss = 1.9761991500854492  val_accuracy = 0.3569553805774278  val_loss = 2.0423551897207894\n",
      "\n",
      "Epoch (5/250):"
     ]
    },
    {
     "name": "stderr",
     "output_type": "stream",
     "text": []
    },
    {
     "name": "stdout",
     "output_type": "stream",
     "text": [
      " 6.18 s\n",
      "accuracy = 0.225  loss = 1.9890167713165283  val_accuracy = 0.35170603674540685  val_loss = 2.016828715801239\n",
      "\n",
      "Epoch (6/250):"
     ]
    },
    {
     "name": "stderr",
     "output_type": "stream",
     "text": []
    },
    {
     "name": "stdout",
     "output_type": "stream",
     "text": [
      " 6.17 s\n",
      "accuracy = 0.25  loss = 2.0096819400787354  val_accuracy = 0.32545931758530183  val_loss = 1.9796443978945415\n",
      "\n",
      "Epoch (7/250):"
     ]
    },
    {
     "name": "stderr",
     "output_type": "stream",
     "text": []
    },
    {
     "name": "stdout",
     "output_type": "stream",
     "text": [
      " 6.18 s\n",
      "[INFO] Saving checkpoint to my_checkpoint.pth.tar\n",
      "accuracy = 0.375  loss = 1.851356863975525  val_accuracy = 0.3530183727034121  val_loss = 1.8774768114089966\n",
      "\n",
      "Epoch (8/250):"
     ]
    },
    {
     "name": "stderr",
     "output_type": "stream",
     "text": []
    },
    {
     "name": "stdout",
     "output_type": "stream",
     "text": [
      " 6.16 s\n",
      "[INFO] Saving checkpoint to my_checkpoint.pth.tar\n",
      "accuracy = 0.275  loss = 1.8261337280273438  val_accuracy = 0.3451443569553806  val_loss = 1.8276821374893188\n",
      "\n",
      "Epoch (9/250):"
     ]
    },
    {
     "name": "stderr",
     "output_type": "stream",
     "text": []
    },
    {
     "name": "stdout",
     "output_type": "stream",
     "text": [
      " 6.16 s\n",
      "[INFO] Saving checkpoint to my_checkpoint.pth.tar\n",
      "accuracy = 0.35  loss = 1.8967702388763428  val_accuracy = 0.37401574803149606  val_loss = 1.7567924360434215\n",
      "\n",
      "Epoch (10/250):"
     ]
    },
    {
     "name": "stderr",
     "output_type": "stream",
     "text": []
    },
    {
     "name": "stdout",
     "output_type": "stream",
     "text": [
      " 6.16 s\n",
      "[INFO] Saving checkpoint to my_checkpoint.pth.tar\n",
      "accuracy = 0.325  loss = 1.8333631753921509  val_accuracy = 0.3766404199475066  val_loss = 1.7051315406958263\n",
      "\n",
      "Epoch (11/250):"
     ]
    },
    {
     "name": "stderr",
     "output_type": "stream",
     "text": []
    },
    {
     "name": "stdout",
     "output_type": "stream",
     "text": [
      " 6.18 s\n",
      "accuracy = 0.375  loss = 1.6770312786102295  val_accuracy = 0.3766404199475066  val_loss = 1.7367398242155712\n",
      "\n",
      "Epoch (12/250):"
     ]
    },
    {
     "name": "stderr",
     "output_type": "stream",
     "text": []
    },
    {
     "name": "stdout",
     "output_type": "stream",
     "text": [
      " 6.30 s\n",
      "[INFO] Saving checkpoint to my_checkpoint.pth.tar\n",
      "accuracy = 0.325  loss = 1.8213293552398682  val_accuracy = 0.3884514435695538  val_loss = 1.6762555241584778\n",
      "\n",
      "Epoch (13/250):"
     ]
    },
    {
     "name": "stderr",
     "output_type": "stream",
     "text": []
    },
    {
     "name": "stdout",
     "output_type": "stream",
     "text": [
      " 6.18 s\n",
      "[INFO] Saving checkpoint to my_checkpoint.pth.tar\n",
      "accuracy = 0.375  loss = 1.580857276916504  val_accuracy = 0.40551181102362205  val_loss = 1.6203183432420094\n",
      "\n",
      "Epoch (14/250):"
     ]
    },
    {
     "name": "stderr",
     "output_type": "stream",
     "text": []
    },
    {
     "name": "stdout",
     "output_type": "stream",
     "text": [
      " 6.24 s\n",
      "accuracy = 0.375  loss = 1.683645248413086  val_accuracy = 0.3989501312335958  val_loss = 1.7806963125864665\n",
      "\n",
      "Epoch (15/250):"
     ]
    },
    {
     "name": "stderr",
     "output_type": "stream",
     "text": []
    },
    {
     "name": "stdout",
     "output_type": "stream",
     "text": [
      " 6.17 s\n",
      "accuracy = 0.325  loss = 1.58206307888031  val_accuracy = 0.36089238845144356  val_loss = 1.6374336779117584\n",
      "\n",
      "Epoch (16/250):"
     ]
    },
    {
     "name": "stderr",
     "output_type": "stream",
     "text": []
    },
    {
     "name": "stdout",
     "output_type": "stream",
     "text": [
      " 6.19 s\n",
      "accuracy = 0.325  loss = 1.6903187036514282  val_accuracy = 0.38451443569553806  val_loss = 1.6497453053792317\n",
      "\n",
      "Epoch (17/250):"
     ]
    },
    {
     "name": "stderr",
     "output_type": "stream",
     "text": []
    },
    {
     "name": "stdout",
     "output_type": "stream",
     "text": [
      " 6.17 s\n",
      "[INFO] Saving checkpoint to my_checkpoint.pth.tar\n",
      "accuracy = 0.325  loss = 1.577498197555542  val_accuracy = 0.3700787401574803  val_loss = 1.6061000923315685\n",
      "\n",
      "Epoch (18/250):"
     ]
    },
    {
     "name": "stderr",
     "output_type": "stream",
     "text": []
    },
    {
     "name": "stdout",
     "output_type": "stream",
     "text": [
      " 6.18 s\n",
      "accuracy = 0.375  loss = 1.7270119190216064  val_accuracy = 0.4409448818897638  val_loss = 1.6617911954720814\n",
      "\n",
      "Epoch (19/250):"
     ]
    },
    {
     "name": "stderr",
     "output_type": "stream",
     "text": []
    },
    {
     "name": "stdout",
     "output_type": "stream",
     "text": [
      " 6.17 s\n",
      "[INFO] Saving checkpoint to my_checkpoint.pth.tar\n",
      "accuracy = 0.325  loss = 1.7339775562286377  val_accuracy = 0.4448818897637795  val_loss = 1.5790755152702332\n",
      "\n",
      "Epoch (20/250):"
     ]
    },
    {
     "name": "stderr",
     "output_type": "stream",
     "text": []
    },
    {
     "name": "stdout",
     "output_type": "stream",
     "text": [
      " 6.19 s\n",
      "[INFO] Saving checkpoint to my_checkpoint.pth.tar\n",
      "accuracy = 0.425  loss = 1.6055415868759155  val_accuracy = 0.46194225721784776  val_loss = 1.519647051890691\n",
      "\n",
      "Epoch (21/250):"
     ]
    },
    {
     "name": "stderr",
     "output_type": "stream",
     "text": []
    },
    {
     "name": "stdout",
     "output_type": "stream",
     "text": [
      " 6.18 s\n",
      "accuracy = 0.525  loss = 1.5808532238006592  val_accuracy = 0.41732283464566927  val_loss = 1.5623035530249278\n",
      "\n",
      "Epoch (22/250):"
     ]
    },
    {
     "name": "stderr",
     "output_type": "stream",
     "text": []
    },
    {
     "name": "stdout",
     "output_type": "stream",
     "text": [
      " 6.16 s\n",
      "[INFO] Saving checkpoint to my_checkpoint.pth.tar\n",
      "accuracy = 0.425  loss = 1.5959866046905518  val_accuracy = 0.5223097112860893  val_loss = 1.4071409304936726\n",
      "\n",
      "Epoch (23/250):"
     ]
    },
    {
     "name": "stderr",
     "output_type": "stream",
     "text": []
    },
    {
     "name": "stdout",
     "output_type": "stream",
     "text": [
      " 6.19 s\n",
      "accuracy = 0.4  loss = 1.420098066329956  val_accuracy = 0.5341207349081365  val_loss = 1.4163017372290294\n",
      "\n",
      "Epoch (24/250):"
     ]
    },
    {
     "name": "stderr",
     "output_type": "stream",
     "text": []
    },
    {
     "name": "stdout",
     "output_type": "stream",
     "text": [
      " 6.19 s\n",
      "accuracy = 0.425  loss = 1.5886461734771729  val_accuracy = 0.5131233595800525  val_loss = 1.4998389979203541\n",
      "\n",
      "Epoch (25/250):"
     ]
    },
    {
     "name": "stderr",
     "output_type": "stream",
     "text": []
    },
    {
     "name": "stdout",
     "output_type": "stream",
     "text": [
      " 6.18 s\n",
      "[INFO] Saving checkpoint to my_checkpoint.pth.tar\n",
      "accuracy = 0.5  loss = 1.3145849704742432  val_accuracy = 0.46981627296587924  val_loss = 1.4061061441898346\n",
      "\n",
      "Epoch (26/250):"
     ]
    },
    {
     "name": "stderr",
     "output_type": "stream",
     "text": []
    },
    {
     "name": "stdout",
     "output_type": "stream",
     "text": [
      " 6.18 s\n",
      "[INFO] Saving checkpoint to my_checkpoint.pth.tar\n",
      "accuracy = 0.425  loss = 1.3433682918548584  val_accuracy = 0.5065616797900262  val_loss = 1.341484804948171\n",
      "\n",
      "Epoch (27/250):"
     ]
    },
    {
     "name": "stderr",
     "output_type": "stream",
     "text": []
    },
    {
     "name": "stdout",
     "output_type": "stream",
     "text": [
      " 6.23 s\n",
      "accuracy = 0.525  loss = 1.2043371200561523  val_accuracy = 0.41601049868766404  val_loss = 1.4311450223128002\n",
      "\n",
      "Epoch (28/250):"
     ]
    },
    {
     "name": "stderr",
     "output_type": "stream",
     "text": []
    },
    {
     "name": "stdout",
     "output_type": "stream",
     "text": [
      " 6.18 s\n",
      "accuracy = 0.35  loss = 1.4899697303771973  val_accuracy = 0.3779527559055118  val_loss = 1.6208759248256683\n",
      "\n",
      "Epoch (29/250):"
     ]
    },
    {
     "name": "stderr",
     "output_type": "stream",
     "text": []
    },
    {
     "name": "stdout",
     "output_type": "stream",
     "text": [
      " 6.19 s\n",
      "[INFO] Saving checkpoint to my_checkpoint.pth.tar\n",
      "accuracy = 0.375  loss = 1.4401599168777466  val_accuracy = 0.5196850393700787  val_loss = 1.3414071202278137\n",
      "\n",
      "Epoch (30/250):"
     ]
    },
    {
     "name": "stderr",
     "output_type": "stream",
     "text": []
    },
    {
     "name": "stdout",
     "output_type": "stream",
     "text": [
      " 6.23 s\n",
      "accuracy = 0.35  loss = 1.5048096179962158  val_accuracy = 0.5498687664041995  val_loss = 1.3494716386000316\n",
      "\n",
      "Epoch (31/250):"
     ]
    },
    {
     "name": "stderr",
     "output_type": "stream",
     "text": []
    },
    {
     "name": "stdout",
     "output_type": "stream",
     "text": [
      " 6.18 s\n",
      "[INFO] Saving checkpoint to my_checkpoint.pth.tar\n",
      "accuracy = 0.475  loss = 1.4780312776565552  val_accuracy = 0.5787401574803149  val_loss = 1.247081955273946\n",
      "\n",
      "Epoch (32/250):"
     ]
    },
    {
     "name": "stderr",
     "output_type": "stream",
     "text": []
    },
    {
     "name": "stdout",
     "output_type": "stream",
     "text": [
      " 6.19 s\n",
      "[INFO] Saving checkpoint to my_checkpoint.pth.tar\n",
      "accuracy = 0.575  loss = 1.4218053817749023  val_accuracy = 0.5761154855643045  val_loss = 1.2082995772361755\n",
      "\n",
      "Epoch (33/250):"
     ]
    },
    {
     "name": "stderr",
     "output_type": "stream",
     "text": []
    },
    {
     "name": "stdout",
     "output_type": "stream",
     "text": [
      " 6.18 s\n",
      "accuracy = 0.525  loss = 1.4198276996612549  val_accuracy = 0.5183727034120735  val_loss = 1.3171594142913818\n",
      "\n",
      "Epoch (34/250):"
     ]
    },
    {
     "name": "stderr",
     "output_type": "stream",
     "text": []
    },
    {
     "name": "stdout",
     "output_type": "stream",
     "text": [
      " 6.18 s\n",
      "accuracy = 0.5  loss = 1.4156863689422607  val_accuracy = 0.5  val_loss = 1.432849109172821\n",
      "\n",
      "Epoch (35/250):"
     ]
    },
    {
     "name": "stderr",
     "output_type": "stream",
     "text": []
    },
    {
     "name": "stdout",
     "output_type": "stream",
     "text": [
      " 6.20 s\n",
      "[INFO] Saving checkpoint to my_checkpoint.pth.tar\n",
      "accuracy = 0.375  loss = 1.4924275875091553  val_accuracy = 0.573490813648294  val_loss = 1.1605190684398015\n",
      "\n",
      "Epoch (36/250):"
     ]
    },
    {
     "name": "stderr",
     "output_type": "stream",
     "text": []
    },
    {
     "name": "stdout",
     "output_type": "stream",
     "text": [
      " 6.16 s\n",
      "accuracy = 0.575  loss = 1.292881727218628  val_accuracy = 0.41338582677165353  val_loss = 1.512596199909846\n",
      "\n",
      "Epoch (37/250):"
     ]
    },
    {
     "name": "stderr",
     "output_type": "stream",
     "text": []
    },
    {
     "name": "stdout",
     "output_type": "stream",
     "text": [
      " 6.21 s\n",
      "accuracy = 0.55  loss = 1.3197208642959595  val_accuracy = 0.5748031496062992  val_loss = 1.2239116728305817\n",
      "\n",
      "Epoch (38/250):"
     ]
    },
    {
     "name": "stderr",
     "output_type": "stream",
     "text": []
    },
    {
     "name": "stdout",
     "output_type": "stream",
     "text": [
      " 6.21 s\n",
      "accuracy = 0.55  loss = 1.317321538925171  val_accuracy = 0.610236220472441  val_loss = 1.2014499455690384\n",
      "\n",
      "Epoch (39/250):"
     ]
    },
    {
     "name": "stderr",
     "output_type": "stream",
     "text": []
    },
    {
     "name": "stdout",
     "output_type": "stream",
     "text": [
      " 6.17 s\n",
      "accuracy = 0.55  loss = 1.1779998540878296  val_accuracy = 0.6023622047244095  val_loss = 1.2131884495417278\n",
      "\n",
      "Epoch (40/250):"
     ]
    },
    {
     "name": "stderr",
     "output_type": "stream",
     "text": []
    },
    {
     "name": "stdout",
     "output_type": "stream",
     "text": [
      " 6.20 s\n",
      "accuracy = 0.475  loss = 1.263486623764038  val_accuracy = 0.6062992125984252  val_loss = 1.1682250499725342\n",
      "\n",
      "Epoch (41/250):"
     ]
    },
    {
     "name": "stderr",
     "output_type": "stream",
     "text": []
    },
    {
     "name": "stdout",
     "output_type": "stream",
     "text": [
      " 6.21 s\n",
      "accuracy = 0.55  loss = 1.2398868799209595  val_accuracy = 0.5328083989501312  val_loss = 1.3083298901716869\n",
      "\n",
      "Epoch (42/250):"
     ]
    },
    {
     "name": "stderr",
     "output_type": "stream",
     "text": []
    },
    {
     "name": "stdout",
     "output_type": "stream",
     "text": [
      " 6.19 s\n",
      "[INFO] Saving checkpoint to my_checkpoint.pth.tar\n",
      "accuracy = 0.625  loss = 1.1151150465011597  val_accuracy = 0.610236220472441  val_loss = 1.1321761012077332\n",
      "\n",
      "Epoch (43/250):"
     ]
    },
    {
     "name": "stderr",
     "output_type": "stream",
     "text": []
    },
    {
     "name": "stdout",
     "output_type": "stream",
     "text": [
      " 6.18 s\n",
      "[INFO] Saving checkpoint to my_checkpoint.pth.tar\n",
      "accuracy = 0.575  loss = 1.4256895780563354  val_accuracy = 0.6141732283464567  val_loss = 1.1211833357810974\n",
      "\n",
      "Epoch (44/250):"
     ]
    },
    {
     "name": "stderr",
     "output_type": "stream",
     "text": []
    },
    {
     "name": "stdout",
     "output_type": "stream",
     "text": [
      " 6.21 s\n",
      "[INFO] Saving checkpoint to my_checkpoint.pth.tar\n",
      "accuracy = 0.6  loss = 1.1489431858062744  val_accuracy = 0.6089238845144357  val_loss = 1.1191773265600204\n",
      "\n",
      "Epoch (45/250):"
     ]
    },
    {
     "name": "stderr",
     "output_type": "stream",
     "text": []
    },
    {
     "name": "stdout",
     "output_type": "stream",
     "text": [
      " 6.20 s\n",
      "[INFO] Saving checkpoint to my_checkpoint.pth.tar\n",
      "accuracy = 0.55  loss = 1.1407808065414429  val_accuracy = 0.6220472440944882  val_loss = 1.1025516390800476\n",
      "\n",
      "Epoch (46/250):"
     ]
    },
    {
     "name": "stderr",
     "output_type": "stream",
     "text": []
    },
    {
     "name": "stdout",
     "output_type": "stream",
     "text": [
      " 6.19 s\n",
      "[INFO] Saving checkpoint to my_checkpoint.pth.tar\n",
      "accuracy = 0.55  loss = 1.222364902496338  val_accuracy = 0.6404199475065617  val_loss = 1.064544250567754\n",
      "\n",
      "Epoch (47/250):"
     ]
    },
    {
     "name": "stderr",
     "output_type": "stream",
     "text": []
    },
    {
     "name": "stdout",
     "output_type": "stream",
     "text": [
      " 6.20 s\n",
      "[INFO] Saving checkpoint to my_checkpoint.pth.tar\n",
      "accuracy = 0.625  loss = 1.1083518266677856  val_accuracy = 0.6614173228346457  val_loss = 1.0339492013057072\n",
      "\n",
      "Epoch (48/250):"
     ]
    },
    {
     "name": "stderr",
     "output_type": "stream",
     "text": []
    },
    {
     "name": "stdout",
     "output_type": "stream",
     "text": [
      " 6.15 s\n",
      "accuracy = 0.475  loss = 1.3424556255340576  val_accuracy = 0.6220472440944882  val_loss = 1.0833049515883129\n",
      "\n",
      "Epoch (49/250):"
     ]
    },
    {
     "name": "stderr",
     "output_type": "stream",
     "text": []
    },
    {
     "name": "stdout",
     "output_type": "stream",
     "text": [
      " 6.21 s\n",
      "[INFO] Saving checkpoint to my_checkpoint.pth.tar\n",
      "accuracy = 0.575  loss = 0.9552260637283325  val_accuracy = 0.6601049868766404  val_loss = 0.9661645193894705\n",
      "\n",
      "Epoch (50/250):"
     ]
    },
    {
     "name": "stderr",
     "output_type": "stream",
     "text": []
    },
    {
     "name": "stdout",
     "output_type": "stream",
     "text": [
      " 6.20 s\n",
      "accuracy = 0.75  loss = 0.9779297113418579  val_accuracy = 0.6548556430446194  val_loss = 1.0011866142352421\n",
      "\n",
      "Epoch (51/250):"
     ]
    },
    {
     "name": "stderr",
     "output_type": "stream",
     "text": []
    },
    {
     "name": "stdout",
     "output_type": "stream",
     "text": [
      " 6.20 s\n",
      "[INFO] Saving checkpoint to my_checkpoint.pth.tar\n",
      "accuracy = 0.6  loss = 1.1153274774551392  val_accuracy = 0.6692913385826772  val_loss = 0.9421239793300629\n",
      "\n",
      "Epoch (52/250):"
     ]
    },
    {
     "name": "stderr",
     "output_type": "stream",
     "text": []
    },
    {
     "name": "stdout",
     "output_type": "stream",
     "text": [
      " 6.20 s\n",
      "[INFO] Saving checkpoint to my_checkpoint.pth.tar\n",
      "accuracy = 0.675  loss = 0.9890475273132324  val_accuracy = 0.6916010498687664  val_loss = 0.9210591912269592\n",
      "\n",
      "Epoch (53/250):"
     ]
    },
    {
     "name": "stderr",
     "output_type": "stream",
     "text": []
    },
    {
     "name": "stdout",
     "output_type": "stream",
     "text": [
      " 6.18 s\n",
      "accuracy = 0.7  loss = 0.8646427989006042  val_accuracy = 0.6653543307086615  val_loss = 0.940120279788971\n",
      "\n",
      "Epoch (54/250):"
     ]
    },
    {
     "name": "stderr",
     "output_type": "stream",
     "text": []
    },
    {
     "name": "stdout",
     "output_type": "stream",
     "text": [
      " 6.21 s\n",
      "[INFO] Saving checkpoint to my_checkpoint.pth.tar\n",
      "accuracy = 0.625  loss = 1.0569379329681396  val_accuracy = 0.7099737532808399  val_loss = 0.8360779931147894\n",
      "\n",
      "Epoch (55/250):"
     ]
    },
    {
     "name": "stderr",
     "output_type": "stream",
     "text": []
    },
    {
     "name": "stdout",
     "output_type": "stream",
     "text": [
      " 6.20 s\n",
      "accuracy = 0.675  loss = 1.114290475845337  val_accuracy = 0.6417322834645669  val_loss = 0.955507829785347\n",
      "\n",
      "Epoch (56/250):"
     ]
    },
    {
     "name": "stderr",
     "output_type": "stream",
     "text": []
    },
    {
     "name": "stdout",
     "output_type": "stream",
     "text": [
      " 6.19 s\n",
      "accuracy = 0.625  loss = 1.0613315105438232  val_accuracy = 0.6614173228346457  val_loss = 0.9296911060810089\n",
      "\n",
      "Epoch (57/250):"
     ]
    },
    {
     "name": "stderr",
     "output_type": "stream",
     "text": []
    },
    {
     "name": "stdout",
     "output_type": "stream",
     "text": [
      " 6.20 s\n",
      "accuracy = 0.575  loss = 1.2620887756347656  val_accuracy = 0.6666666666666666  val_loss = 0.912939523657163\n",
      "\n",
      "Epoch (58/250):"
     ]
    },
    {
     "name": "stderr",
     "output_type": "stream",
     "text": []
    },
    {
     "name": "stdout",
     "output_type": "stream",
     "text": [
      " 6.19 s\n",
      "accuracy = 0.625  loss = 1.221362829208374  val_accuracy = 0.7112860892388452  val_loss = 0.8526792029539744\n",
      "\n",
      "Epoch (59/250):"
     ]
    },
    {
     "name": "stderr",
     "output_type": "stream",
     "text": []
    },
    {
     "name": "stdout",
     "output_type": "stream",
     "text": [
      " 6.19 s\n",
      "accuracy = 0.75  loss = 0.8175681829452515  val_accuracy = 0.6824146981627297  val_loss = 0.8498501429955164\n",
      "\n",
      "Epoch (60/250):"
     ]
    },
    {
     "name": "stderr",
     "output_type": "stream",
     "text": []
    },
    {
     "name": "stdout",
     "output_type": "stream",
     "text": [
      " 6.20 s\n",
      "[INFO] Saving checkpoint to my_checkpoint.pth.tar\n",
      "accuracy = 0.475  loss = 1.2968852519989014  val_accuracy = 0.7388451443569554  val_loss = 0.7712436070044836\n",
      "\n",
      "Epoch (61/250):"
     ]
    },
    {
     "name": "stderr",
     "output_type": "stream",
     "text": []
    },
    {
     "name": "stdout",
     "output_type": "stream",
     "text": [
      " 6.20 s\n",
      "accuracy = 0.725  loss = 1.050790786743164  val_accuracy = 0.6824146981627297  val_loss = 0.8761381854613622\n",
      "\n",
      "Epoch (62/250):"
     ]
    },
    {
     "name": "stderr",
     "output_type": "stream",
     "text": []
    },
    {
     "name": "stdout",
     "output_type": "stream",
     "text": [
      " 6.23 s\n",
      "accuracy = 0.775  loss = 0.7575730085372925  val_accuracy = 0.699475065616798  val_loss = 0.825711652636528\n",
      "\n",
      "Epoch (63/250):"
     ]
    },
    {
     "name": "stderr",
     "output_type": "stream",
     "text": []
    },
    {
     "name": "stdout",
     "output_type": "stream",
     "text": [
      " 6.19 s\n",
      "accuracy = 0.725  loss = 0.846270740032196  val_accuracy = 0.6627296587926509  val_loss = 0.9072665224472681\n",
      "\n",
      "Epoch (64/250):"
     ]
    },
    {
     "name": "stderr",
     "output_type": "stream",
     "text": []
    },
    {
     "name": "stdout",
     "output_type": "stream",
     "text": [
      " 6.19 s\n",
      "[INFO] Saving checkpoint to my_checkpoint.pth.tar\n",
      "accuracy = 0.6  loss = 0.9666773676872253  val_accuracy = 0.7165354330708661  val_loss = 0.760948712627093\n",
      "\n",
      "Epoch (65/250):"
     ]
    },
    {
     "name": "stderr",
     "output_type": "stream",
     "text": []
    },
    {
     "name": "stdout",
     "output_type": "stream",
     "text": [
      " 6.17 s\n",
      "accuracy = 0.7  loss = 0.8360601663589478  val_accuracy = 0.6679790026246719  val_loss = 0.9259973565737406\n",
      "\n",
      "Epoch (66/250):"
     ]
    },
    {
     "name": "stderr",
     "output_type": "stream",
     "text": []
    },
    {
     "name": "stdout",
     "output_type": "stream",
     "text": [
      " 6.21 s\n",
      "accuracy = 0.6  loss = 1.0738601684570312  val_accuracy = 0.6496062992125984  val_loss = 0.9565387666225433\n",
      "\n",
      "Epoch (67/250):"
     ]
    },
    {
     "name": "stderr",
     "output_type": "stream",
     "text": []
    },
    {
     "name": "stdout",
     "output_type": "stream",
     "text": [
      " 6.20 s\n",
      "[INFO] Saving checkpoint to my_checkpoint.pth.tar\n",
      "accuracy = 0.675  loss = 0.9402018785476685  val_accuracy = 0.7440944881889764  val_loss = 0.7301213890314102\n",
      "\n",
      "Epoch (68/250):"
     ]
    },
    {
     "name": "stderr",
     "output_type": "stream",
     "text": []
    },
    {
     "name": "stdout",
     "output_type": "stream",
     "text": [
      " 6.17 s\n",
      "[INFO] Saving checkpoint to my_checkpoint.pth.tar\n",
      "accuracy = 0.75  loss = 0.6676266193389893  val_accuracy = 0.7559055118110236  val_loss = 0.7157533665498098\n",
      "\n",
      "Epoch (69/250):"
     ]
    },
    {
     "name": "stderr",
     "output_type": "stream",
     "text": []
    },
    {
     "name": "stdout",
     "output_type": "stream",
     "text": [
      " 6.19 s\n",
      "accuracy = 0.55  loss = 1.0941163301467896  val_accuracy = 0.7244094488188977  val_loss = 0.7754002610842387\n",
      "\n",
      "Epoch (70/250):"
     ]
    },
    {
     "name": "stderr",
     "output_type": "stream",
     "text": []
    },
    {
     "name": "stdout",
     "output_type": "stream",
     "text": [
      " 6.19 s\n",
      "accuracy = 0.7  loss = 0.8227415084838867  val_accuracy = 0.7060367454068242  val_loss = 0.7979526420434316\n",
      "\n",
      "Epoch (71/250):"
     ]
    },
    {
     "name": "stderr",
     "output_type": "stream",
     "text": []
    },
    {
     "name": "stdout",
     "output_type": "stream",
     "text": [
      " 6.21 s\n",
      "[INFO] Saving checkpoint to my_checkpoint.pth.tar\n",
      "accuracy = 0.725  loss = 0.8131516575813293  val_accuracy = 0.7427821522309711  val_loss = 0.6976774111390114\n",
      "\n",
      "Epoch (72/250):"
     ]
    },
    {
     "name": "stderr",
     "output_type": "stream",
     "text": []
    },
    {
     "name": "stdout",
     "output_type": "stream",
     "text": [
      " 6.18 s\n",
      "accuracy = 0.725  loss = 0.8071942329406738  val_accuracy = 0.7204724409448819  val_loss = 0.7769076724847158\n",
      "\n",
      "Epoch (73/250):"
     ]
    },
    {
     "name": "stderr",
     "output_type": "stream",
     "text": []
    },
    {
     "name": "stdout",
     "output_type": "stream",
     "text": [
      " 6.22 s\n",
      "[INFO] Saving checkpoint to my_checkpoint.pth.tar\n",
      "accuracy = 0.65  loss = 1.0249207019805908  val_accuracy = 0.7519685039370079  val_loss = 0.6768992096185684\n",
      "\n",
      "Epoch (74/250):"
     ]
    },
    {
     "name": "stderr",
     "output_type": "stream",
     "text": []
    },
    {
     "name": "stdout",
     "output_type": "stream",
     "text": [
      " 6.21 s\n",
      "accuracy = 0.65  loss = 1.030207633972168  val_accuracy = 0.7532808398950132  val_loss = 0.6950577149788538\n",
      "\n",
      "Epoch (75/250):"
     ]
    },
    {
     "name": "stderr",
     "output_type": "stream",
     "text": []
    },
    {
     "name": "stdout",
     "output_type": "stream",
     "text": [
      " 6.21 s\n",
      "accuracy = 0.65  loss = 0.9648825526237488  val_accuracy = 0.7401574803149606  val_loss = 0.6818016171455383\n",
      "\n",
      "Epoch (76/250):"
     ]
    },
    {
     "name": "stderr",
     "output_type": "stream",
     "text": []
    },
    {
     "name": "stdout",
     "output_type": "stream",
     "text": [
      " 6.20 s\n",
      "[INFO] Saving checkpoint to my_checkpoint.pth.tar\n",
      "accuracy = 0.75  loss = 0.8320975303649902  val_accuracy = 0.7519685039370079  val_loss = 0.6333391765753428\n",
      "\n",
      "Epoch (77/250):"
     ]
    },
    {
     "name": "stderr",
     "output_type": "stream",
     "text": []
    },
    {
     "name": "stdout",
     "output_type": "stream",
     "text": [
      " 6.22 s\n",
      "accuracy = 0.725  loss = 0.756578266620636  val_accuracy = 0.7729658792650919  val_loss = 0.660809134443601\n",
      "\n",
      "Epoch (78/250):"
     ]
    },
    {
     "name": "stderr",
     "output_type": "stream",
     "text": []
    },
    {
     "name": "stdout",
     "output_type": "stream",
     "text": [
      " 6.19 s\n",
      "accuracy = 0.6  loss = 1.121171236038208  val_accuracy = 0.699475065616798  val_loss = 0.7970461597045263\n",
      "\n",
      "Epoch (79/250):"
     ]
    },
    {
     "name": "stderr",
     "output_type": "stream",
     "text": []
    },
    {
     "name": "stdout",
     "output_type": "stream",
     "text": [
      " 6.22 s\n",
      "accuracy = 0.7  loss = 0.7832269668579102  val_accuracy = 0.7755905511811023  val_loss = 0.6495576351881027\n",
      "\n",
      "Epoch (80/250):"
     ]
    },
    {
     "name": "stderr",
     "output_type": "stream",
     "text": []
    },
    {
     "name": "stdout",
     "output_type": "stream",
     "text": [
      " 6.18 s\n",
      "accuracy = 0.725  loss = 0.8131717443466187  val_accuracy = 0.7020997375328084  val_loss = 0.7619199504454931\n",
      "\n",
      "Epoch (81/250):"
     ]
    },
    {
     "name": "stderr",
     "output_type": "stream",
     "text": []
    },
    {
     "name": "stdout",
     "output_type": "stream",
     "text": [
      " 6.24 s\n",
      "accuracy = 0.7  loss = 0.8666019439697266  val_accuracy = 0.7244094488188977  val_loss = 0.7452903290589651\n",
      "\n",
      "Epoch (82/250):"
     ]
    },
    {
     "name": "stderr",
     "output_type": "stream",
     "text": []
    },
    {
     "name": "stdout",
     "output_type": "stream",
     "text": [
      " 6.22 s\n",
      "[INFO] Saving checkpoint to my_checkpoint.pth.tar\n",
      "accuracy = 0.9  loss = 0.472954660654068  val_accuracy = 0.7729658792650919  val_loss = 0.6154908140500387\n",
      "\n",
      "Epoch (83/250):"
     ]
    },
    {
     "name": "stderr",
     "output_type": "stream",
     "text": []
    },
    {
     "name": "stdout",
     "output_type": "stream",
     "text": [
      " 6.19 s\n",
      "[INFO] Saving checkpoint to my_checkpoint.pth.tar\n",
      "accuracy = 0.625  loss = 0.8138526082038879  val_accuracy = 0.7729658792650919  val_loss = 0.6139129673441251\n",
      "\n",
      "Epoch (84/250):"
     ]
    },
    {
     "name": "stderr",
     "output_type": "stream",
     "text": []
    },
    {
     "name": "stdout",
     "output_type": "stream",
     "text": [
      " 6.20 s\n",
      "[INFO] Saving checkpoint to my_checkpoint.pth.tar\n",
      "accuracy = 0.825  loss = 0.5704792737960815  val_accuracy = 0.7677165354330708  val_loss = 0.6081777016321818\n",
      "\n",
      "Epoch (85/250):"
     ]
    },
    {
     "name": "stderr",
     "output_type": "stream",
     "text": []
    },
    {
     "name": "stdout",
     "output_type": "stream",
     "text": [
      " 6.21 s\n",
      "accuracy = 0.675  loss = 0.8125424385070801  val_accuracy = 0.7992125984251969  val_loss = 0.6136687671144804\n",
      "\n",
      "Epoch (86/250):"
     ]
    },
    {
     "name": "stderr",
     "output_type": "stream",
     "text": []
    },
    {
     "name": "stdout",
     "output_type": "stream",
     "text": [
      " 6.18 s\n",
      "accuracy = 0.575  loss = 1.0312741994857788  val_accuracy = 0.7296587926509186  val_loss = 0.7349464694658915\n",
      "\n",
      "Epoch (87/250):"
     ]
    },
    {
     "name": "stderr",
     "output_type": "stream",
     "text": []
    },
    {
     "name": "stdout",
     "output_type": "stream",
     "text": [
      " 6.21 s\n",
      "[INFO] Saving checkpoint to my_checkpoint.pth.tar\n",
      "accuracy = 0.85  loss = 0.5578144788742065  val_accuracy = 0.7887139107611548  val_loss = 0.5930429001649221\n",
      "\n",
      "Epoch (88/250):"
     ]
    },
    {
     "name": "stderr",
     "output_type": "stream",
     "text": []
    },
    {
     "name": "stdout",
     "output_type": "stream",
     "text": [
      " 6.20 s\n",
      "accuracy = 0.825  loss = 0.6639655232429504  val_accuracy = 0.7755905511811023  val_loss = 0.5939954693118731\n",
      "\n",
      "Epoch (89/250):"
     ]
    },
    {
     "name": "stderr",
     "output_type": "stream",
     "text": []
    },
    {
     "name": "stdout",
     "output_type": "stream",
     "text": [
      " 6.24 s\n",
      "accuracy = 0.75  loss = 0.6480581760406494  val_accuracy = 0.7362204724409449  val_loss = 0.7067162940899531\n",
      "\n",
      "Epoch (90/250):"
     ]
    },
    {
     "name": "stderr",
     "output_type": "stream",
     "text": []
    },
    {
     "name": "stdout",
     "output_type": "stream",
     "text": [
      " 6.22 s\n",
      "[INFO] Saving checkpoint to my_checkpoint.pth.tar\n",
      "accuracy = 0.8  loss = 0.69020015001297  val_accuracy = 0.7926509186351706  val_loss = 0.5502887293696404\n",
      "\n",
      "Epoch (91/250):"
     ]
    },
    {
     "name": "stderr",
     "output_type": "stream",
     "text": []
    },
    {
     "name": "stdout",
     "output_type": "stream",
     "text": [
      " 6.19 s\n",
      "accuracy = 0.6  loss = 0.9353528022766113  val_accuracy = 0.7440944881889764  val_loss = 0.7824811885754267\n",
      "\n",
      "Epoch (92/250):"
     ]
    },
    {
     "name": "stderr",
     "output_type": "stream",
     "text": []
    },
    {
     "name": "stdout",
     "output_type": "stream",
     "text": [
      " 6.22 s\n",
      "accuracy = 0.7  loss = 0.8222060203552246  val_accuracy = 0.7677165354330708  val_loss = 0.6394600371519724\n",
      "\n",
      "Epoch (93/250):"
     ]
    },
    {
     "name": "stderr",
     "output_type": "stream",
     "text": []
    },
    {
     "name": "stdout",
     "output_type": "stream",
     "text": [
      " 6.17 s\n",
      "accuracy = 0.85  loss = 0.570774257183075  val_accuracy = 0.8057742782152231  val_loss = 0.6016046206156412\n",
      "\n",
      "Epoch (94/250):"
     ]
    },
    {
     "name": "stderr",
     "output_type": "stream",
     "text": []
    },
    {
     "name": "stdout",
     "output_type": "stream",
     "text": [
      " 6.22 s\n",
      "accuracy = 0.625  loss = 0.8414028286933899  val_accuracy = 0.7808398950131233  val_loss = 0.6197525088985761\n",
      "\n",
      "Epoch (95/250):"
     ]
    },
    {
     "name": "stderr",
     "output_type": "stream",
     "text": []
    },
    {
     "name": "stdout",
     "output_type": "stream",
     "text": [
      " 6.22 s\n",
      "accuracy = 0.775  loss = 0.5338156223297119  val_accuracy = 0.7257217847769029  val_loss = 0.7679233551025391\n",
      "\n",
      "Epoch (96/250):"
     ]
    },
    {
     "name": "stderr",
     "output_type": "stream",
     "text": []
    },
    {
     "name": "stdout",
     "output_type": "stream",
     "text": [
      " 6.22 s\n",
      "[INFO] Saving checkpoint to my_checkpoint.pth.tar\n",
      "accuracy = 0.775  loss = 0.5105100870132446  val_accuracy = 0.8136482939632546  val_loss = 0.5413602689901987\n",
      "\n",
      "Epoch (97/250):"
     ]
    },
    {
     "name": "stderr",
     "output_type": "stream",
     "text": []
    },
    {
     "name": "stdout",
     "output_type": "stream",
     "text": [
      " 6.21 s\n",
      "accuracy = 0.75  loss = 0.5381115674972534  val_accuracy = 0.8097112860892388  val_loss = 0.554213784635067\n",
      "\n",
      "Epoch (98/250):"
     ]
    },
    {
     "name": "stderr",
     "output_type": "stream",
     "text": []
    },
    {
     "name": "stdout",
     "output_type": "stream",
     "text": [
      " 6.19 s\n",
      "[INFO] Saving checkpoint to my_checkpoint.pth.tar\n",
      "accuracy = 0.85  loss = 0.5908082723617554  val_accuracy = 0.8280839895013123  val_loss = 0.5251383185386658\n",
      "\n",
      "Epoch (99/250):"
     ]
    },
    {
     "name": "stderr",
     "output_type": "stream",
     "text": []
    },
    {
     "name": "stdout",
     "output_type": "stream",
     "text": [
      " 6.21 s\n",
      "[INFO] Saving checkpoint to my_checkpoint.pth.tar\n",
      "accuracy = 0.775  loss = 0.6319527626037598  val_accuracy = 0.8398950131233596  val_loss = 0.5179377893606821\n",
      "\n",
      "Epoch (100/250):"
     ]
    },
    {
     "name": "stderr",
     "output_type": "stream",
     "text": []
    },
    {
     "name": "stdout",
     "output_type": "stream",
     "text": [
      " 6.20 s\n",
      "accuracy = 0.8  loss = 0.535964846611023  val_accuracy = 0.8110236220472441  val_loss = 0.5523379743099213\n",
      "\n",
      "Epoch (101/250):"
     ]
    },
    {
     "name": "stderr",
     "output_type": "stream",
     "text": []
    },
    {
     "name": "stdout",
     "output_type": "stream",
     "text": [
      " 6.21 s\n",
      "[INFO] Saving checkpoint to my_checkpoint.pth.tar\n",
      "accuracy = 0.825  loss = 0.5176082849502563  val_accuracy = 0.8398950131233596  val_loss = 0.4837438215812047\n",
      "\n",
      "Epoch (102/250):"
     ]
    },
    {
     "name": "stderr",
     "output_type": "stream",
     "text": []
    },
    {
     "name": "stdout",
     "output_type": "stream",
     "text": [
      " 6.24 s\n",
      "accuracy = 0.825  loss = 0.6204545497894287  val_accuracy = 0.8228346456692913  val_loss = 0.5196510876218478\n",
      "\n",
      "Epoch (103/250):"
     ]
    },
    {
     "name": "stderr",
     "output_type": "stream",
     "text": []
    },
    {
     "name": "stdout",
     "output_type": "stream",
     "text": [
      " 6.21 s\n",
      "accuracy = 0.7  loss = 0.8419860601425171  val_accuracy = 0.8162729658792651  val_loss = 0.5331922794381777\n",
      "\n",
      "Epoch (104/250):"
     ]
    },
    {
     "name": "stderr",
     "output_type": "stream",
     "text": []
    },
    {
     "name": "stdout",
     "output_type": "stream",
     "text": [
      " 6.19 s\n",
      "accuracy = 0.75  loss = 0.7243077158927917  val_accuracy = 0.8320209973753281  val_loss = 0.49125702927509945\n",
      "\n",
      "Epoch (105/250):"
     ]
    },
    {
     "name": "stderr",
     "output_type": "stream",
     "text": []
    },
    {
     "name": "stdout",
     "output_type": "stream",
     "text": [
      " 6.20 s\n",
      "[INFO] Saving checkpoint to my_checkpoint.pth.tar\n",
      "accuracy = 0.9  loss = 0.34797775745391846  val_accuracy = 0.8346456692913385  val_loss = 0.46718620012203854\n",
      "\n",
      "Epoch (106/250):"
     ]
    },
    {
     "name": "stderr",
     "output_type": "stream",
     "text": []
    },
    {
     "name": "stdout",
     "output_type": "stream",
     "text": [
      " 6.17 s\n",
      "accuracy = 0.7  loss = 0.6349923610687256  val_accuracy = 0.7388451443569554  val_loss = 0.6705193320910136\n",
      "\n",
      "Epoch (107/250):"
     ]
    },
    {
     "name": "stderr",
     "output_type": "stream",
     "text": []
    },
    {
     "name": "stdout",
     "output_type": "stream",
     "text": [
      " 6.21 s\n",
      "[INFO] Saving checkpoint to my_checkpoint.pth.tar\n",
      "accuracy = 0.825  loss = 0.49015459418296814  val_accuracy = 0.847769028871391  val_loss = 0.4667745654781659\n",
      "\n",
      "Epoch (108/250):"
     ]
    },
    {
     "name": "stderr",
     "output_type": "stream",
     "text": []
    },
    {
     "name": "stdout",
     "output_type": "stream",
     "text": [
      " 6.17 s\n",
      "accuracy = 0.725  loss = 0.7883959412574768  val_accuracy = 0.8320209973753281  val_loss = 0.47059336801369983\n",
      "\n",
      "Epoch (109/250):"
     ]
    },
    {
     "name": "stderr",
     "output_type": "stream",
     "text": []
    },
    {
     "name": "stdout",
     "output_type": "stream",
     "text": [
      " 6.19 s\n",
      "[INFO] Saving checkpoint to my_checkpoint.pth.tar\n",
      "accuracy = 0.85  loss = 0.7115836143493652  val_accuracy = 0.8713910761154856  val_loss = 0.3958780864874522\n",
      "\n",
      "Epoch (110/250):"
     ]
    },
    {
     "name": "stderr",
     "output_type": "stream",
     "text": []
    },
    {
     "name": "stdout",
     "output_type": "stream",
     "text": [
      " 6.24 s\n",
      "accuracy = 0.85  loss = 0.42221999168395996  val_accuracy = 0.8582677165354331  val_loss = 0.43491001923878986\n",
      "\n",
      "Epoch (111/250):"
     ]
    },
    {
     "name": "stderr",
     "output_type": "stream",
     "text": []
    },
    {
     "name": "stdout",
     "output_type": "stream",
     "text": [
      " 6.22 s\n",
      "accuracy = 0.85  loss = 0.46114426851272583  val_accuracy = 0.8097112860892388  val_loss = 0.5278101290265719\n",
      "\n",
      "Epoch (112/250):"
     ]
    },
    {
     "name": "stderr",
     "output_type": "stream",
     "text": []
    },
    {
     "name": "stdout",
     "output_type": "stream",
     "text": [
      " 6.21 s\n",
      "accuracy = 0.825  loss = 0.546837329864502  val_accuracy = 0.863517060367454  val_loss = 0.4207196881373723\n",
      "\n",
      "Epoch (113/250):"
     ]
    },
    {
     "name": "stderr",
     "output_type": "stream",
     "text": []
    },
    {
     "name": "stdout",
     "output_type": "stream",
     "text": [
      " 6.18 s\n",
      "accuracy = 0.7  loss = 0.6955686807632446  val_accuracy = 0.8057742782152231  val_loss = 0.5138672043879827\n",
      "\n",
      "Epoch (114/250):"
     ]
    },
    {
     "name": "stderr",
     "output_type": "stream",
     "text": []
    },
    {
     "name": "stdout",
     "output_type": "stream",
     "text": [
      " 6.19 s\n",
      "accuracy = 0.725  loss = 0.7501605749130249  val_accuracy = 0.8490813648293963  val_loss = 0.4512420917550723\n",
      "\n",
      "Epoch (115/250):"
     ]
    },
    {
     "name": "stderr",
     "output_type": "stream",
     "text": []
    },
    {
     "name": "stdout",
     "output_type": "stream",
     "text": [
      " 6.20 s\n",
      "accuracy = 0.775  loss = 0.6177336573600769  val_accuracy = 0.8070866141732284  val_loss = 0.5644511356949806\n",
      "\n",
      "Epoch (116/250):"
     ]
    },
    {
     "name": "stderr",
     "output_type": "stream",
     "text": []
    },
    {
     "name": "stdout",
     "output_type": "stream",
     "text": [
      " 6.17 s\n",
      "accuracy = 0.675  loss = 0.689782977104187  val_accuracy = 0.8412073490813649  val_loss = 0.4630408162871997\n",
      "\n",
      "Epoch (117/250):"
     ]
    },
    {
     "name": "stderr",
     "output_type": "stream",
     "text": []
    },
    {
     "name": "stdout",
     "output_type": "stream",
     "text": [
      " 6.25 s\n",
      "accuracy = 0.75  loss = 0.6436501145362854  val_accuracy = 0.8307086614173228  val_loss = 0.4514492650826772\n",
      "\n",
      "Epoch (118/250):"
     ]
    },
    {
     "name": "stderr",
     "output_type": "stream",
     "text": []
    },
    {
     "name": "stdout",
     "output_type": "stream",
     "text": [
      " 6.24 s\n",
      "accuracy = 0.775  loss = 0.5586419701576233  val_accuracy = 0.8346456692913385  val_loss = 0.4873877118031184\n",
      "\n",
      "Epoch (119/250):"
     ]
    },
    {
     "name": "stderr",
     "output_type": "stream",
     "text": []
    },
    {
     "name": "stdout",
     "output_type": "stream",
     "text": [
      " 6.21 s\n",
      "accuracy = 0.825  loss = 0.5627540349960327  val_accuracy = 0.8490813648293963  val_loss = 0.4350278427203496\n",
      "\n",
      "Epoch (120/250):"
     ]
    },
    {
     "name": "stderr",
     "output_type": "stream",
     "text": []
    },
    {
     "name": "stdout",
     "output_type": "stream",
     "text": [
      " 6.20 s\n",
      "Epoch   121: reducing learning rate of group 0 to 1.0000e-05.\n",
      "accuracy = 0.825  loss = 0.4425804018974304  val_accuracy = 0.8398950131233596  val_loss = 0.4223702972133954\n",
      "\n",
      "Epoch (121/250):"
     ]
    },
    {
     "name": "stderr",
     "output_type": "stream",
     "text": []
    },
    {
     "name": "stdout",
     "output_type": "stream",
     "text": [
      " 6.22 s\n",
      "[INFO] Saving checkpoint to my_checkpoint.pth.tar\n",
      "accuracy = 0.875  loss = 0.4611228108406067  val_accuracy = 0.889763779527559  val_loss = 0.3422122100989024\n",
      "\n",
      "Epoch (122/250):"
     ]
    },
    {
     "name": "stderr",
     "output_type": "stream",
     "text": []
    },
    {
     "name": "stdout",
     "output_type": "stream",
     "text": [
      " 6.20 s\n",
      "[INFO] Saving checkpoint to my_checkpoint.pth.tar\n",
      "accuracy = 0.875  loss = 0.4032095968723297  val_accuracy = 0.8884514435695539  val_loss = 0.33085376272598904\n",
      "\n",
      "Epoch (123/250):"
     ]
    },
    {
     "name": "stderr",
     "output_type": "stream",
     "text": []
    },
    {
     "name": "stdout",
     "output_type": "stream",
     "text": [
      " 6.20 s\n",
      "[INFO] Saving checkpoint to my_checkpoint.pth.tar\n",
      "accuracy = 0.725  loss = 0.5856276750564575  val_accuracy = 0.8963254593175853  val_loss = 0.32425039013226825\n",
      "\n",
      "Epoch (124/250):"
     ]
    },
    {
     "name": "stderr",
     "output_type": "stream",
     "text": []
    },
    {
     "name": "stdout",
     "output_type": "stream",
     "text": [
      " 6.20 s\n",
      "[INFO] Saving checkpoint to my_checkpoint.pth.tar\n",
      "accuracy = 0.825  loss = 0.48033151030540466  val_accuracy = 0.8989501312335958  val_loss = 0.31072114283839863\n",
      "\n",
      "Epoch (125/250):"
     ]
    },
    {
     "name": "stderr",
     "output_type": "stream",
     "text": []
    },
    {
     "name": "stdout",
     "output_type": "stream",
     "text": [
      " 6.24 s\n",
      "accuracy = 0.85  loss = 0.4932594895362854  val_accuracy = 0.89501312335958  val_loss = 0.3164334110915661\n",
      "\n",
      "Epoch (126/250):"
     ]
    },
    {
     "name": "stderr",
     "output_type": "stream",
     "text": []
    },
    {
     "name": "stdout",
     "output_type": "stream",
     "text": [
      " 6.20 s\n",
      "accuracy = 0.825  loss = 0.449592262506485  val_accuracy = 0.9041994750656168  val_loss = 0.3112169603506724\n",
      "\n",
      "Epoch (127/250):"
     ]
    },
    {
     "name": "stderr",
     "output_type": "stream",
     "text": []
    },
    {
     "name": "stdout",
     "output_type": "stream",
     "text": [
      " 6.16 s\n",
      "accuracy = 0.8  loss = 0.7313215732574463  val_accuracy = 0.8976377952755905  val_loss = 0.31174276520808536\n",
      "\n",
      "Epoch (128/250):"
     ]
    },
    {
     "name": "stderr",
     "output_type": "stream",
     "text": []
    },
    {
     "name": "stdout",
     "output_type": "stream",
     "text": [
      " 6.22 s\n",
      "[INFO] Saving checkpoint to my_checkpoint.pth.tar\n",
      "accuracy = 0.775  loss = 0.5320395231246948  val_accuracy = 0.9041994750656168  val_loss = 0.3076243077715238\n",
      "\n",
      "Epoch (129/250):"
     ]
    },
    {
     "name": "stderr",
     "output_type": "stream",
     "text": []
    },
    {
     "name": "stdout",
     "output_type": "stream",
     "text": [
      " 6.17 s\n",
      "accuracy = 0.85  loss = 0.4996111989021301  val_accuracy = 0.8910761154855643  val_loss = 0.32297980040311813\n",
      "\n",
      "Epoch (130/250):"
     ]
    },
    {
     "name": "stderr",
     "output_type": "stream",
     "text": []
    },
    {
     "name": "stdout",
     "output_type": "stream",
     "text": [
      " 6.21 s\n",
      "accuracy = 0.825  loss = 0.4060610830783844  val_accuracy = 0.89501312335958  val_loss = 0.31431520357728004\n",
      "\n",
      "Epoch (131/250):"
     ]
    },
    {
     "name": "stderr",
     "output_type": "stream",
     "text": []
    },
    {
     "name": "stdout",
     "output_type": "stream",
     "text": [
      " 6.19 s\n",
      "accuracy = 0.825  loss = 0.477884441614151  val_accuracy = 0.9015748031496063  val_loss = 0.30814942345023155\n",
      "\n",
      "Epoch (132/250):"
     ]
    },
    {
     "name": "stderr",
     "output_type": "stream",
     "text": []
    },
    {
     "name": "stdout",
     "output_type": "stream",
     "text": [
      " 6.18 s\n",
      "accuracy = 0.85  loss = 0.4519430100917816  val_accuracy = 0.9081364829396326  val_loss = 0.30918551484743756\n",
      "\n",
      "Epoch (133/250):"
     ]
    },
    {
     "name": "stderr",
     "output_type": "stream",
     "text": []
    },
    {
     "name": "stdout",
     "output_type": "stream",
     "text": [
      " 6.21 s\n",
      "accuracy = 0.85  loss = 0.3524433970451355  val_accuracy = 0.9015748031496063  val_loss = 0.30950602392355603\n",
      "\n",
      "Epoch (134/250):"
     ]
    },
    {
     "name": "stderr",
     "output_type": "stream",
     "text": []
    },
    {
     "name": "stdout",
     "output_type": "stream",
     "text": [
      " 6.16 s\n",
      "accuracy = 0.95  loss = 0.3729325532913208  val_accuracy = 0.9002624671916011  val_loss = 0.31465456013878185\n",
      "\n",
      "Epoch (135/250):"
     ]
    },
    {
     "name": "stderr",
     "output_type": "stream",
     "text": []
    },
    {
     "name": "stdout",
     "output_type": "stream",
     "text": [
      " 6.22 s\n",
      "[INFO] Saving checkpoint to my_checkpoint.pth.tar\n",
      "accuracy = 0.825  loss = 0.4898870885372162  val_accuracy = 0.9068241469816273  val_loss = 0.2994614914059639\n",
      "\n",
      "Epoch (136/250):"
     ]
    },
    {
     "name": "stderr",
     "output_type": "stream",
     "text": []
    },
    {
     "name": "stdout",
     "output_type": "stream",
     "text": [
      " 6.23 s\n",
      "accuracy = 0.925  loss = 0.39200931787490845  val_accuracy = 0.9068241469816273  val_loss = 0.301470085978508\n",
      "\n",
      "Epoch (137/250):"
     ]
    },
    {
     "name": "stderr",
     "output_type": "stream",
     "text": []
    },
    {
     "name": "stdout",
     "output_type": "stream",
     "text": [
      " 6.19 s\n",
      "[INFO] Saving checkpoint to my_checkpoint.pth.tar\n",
      "accuracy = 0.875  loss = 0.3736826777458191  val_accuracy = 0.9068241469816273  val_loss = 0.2991706430912018\n",
      "\n",
      "Epoch (138/250):"
     ]
    },
    {
     "name": "stderr",
     "output_type": "stream",
     "text": []
    },
    {
     "name": "stdout",
     "output_type": "stream",
     "text": [
      " 6.21 s\n",
      "[INFO] Saving checkpoint to my_checkpoint.pth.tar\n",
      "accuracy = 0.825  loss = 0.534107506275177  val_accuracy = 0.910761154855643  val_loss = 0.29276805619398755\n",
      "\n",
      "Epoch (139/250):"
     ]
    },
    {
     "name": "stderr",
     "output_type": "stream",
     "text": []
    },
    {
     "name": "stdout",
     "output_type": "stream",
     "text": [
      " 6.21 s\n",
      "[INFO] Saving checkpoint to my_checkpoint.pth.tar\n",
      "accuracy = 0.9  loss = 0.3425441086292267  val_accuracy = 0.9173228346456693  val_loss = 0.2897564669450124\n",
      "\n",
      "Epoch (140/250):"
     ]
    },
    {
     "name": "stderr",
     "output_type": "stream",
     "text": []
    },
    {
     "name": "stdout",
     "output_type": "stream",
     "text": [
      " 6.21 s\n",
      "[INFO] Saving checkpoint to my_checkpoint.pth.tar\n",
      "accuracy = 0.85  loss = 0.33537808060646057  val_accuracy = 0.9068241469816273  val_loss = 0.28958897292613983\n",
      "\n",
      "Epoch (141/250):"
     ]
    },
    {
     "name": "stderr",
     "output_type": "stream",
     "text": []
    },
    {
     "name": "stdout",
     "output_type": "stream",
     "text": [
      " 6.20 s\n",
      "accuracy = 0.8  loss = 0.5015666484832764  val_accuracy = 0.910761154855643  val_loss = 0.2916315272450447\n",
      "\n",
      "Epoch (142/250):"
     ]
    },
    {
     "name": "stderr",
     "output_type": "stream",
     "text": []
    },
    {
     "name": "stdout",
     "output_type": "stream",
     "text": [
      " 6.21 s\n",
      "accuracy = 0.775  loss = 0.5652443170547485  val_accuracy = 0.916010498687664  val_loss = 0.29021330922842026\n",
      "\n",
      "Epoch (143/250):"
     ]
    },
    {
     "name": "stderr",
     "output_type": "stream",
     "text": []
    },
    {
     "name": "stdout",
     "output_type": "stream",
     "text": [
      " 6.18 s\n",
      "accuracy = 0.85  loss = 0.4515032172203064  val_accuracy = 0.8989501312335958  val_loss = 0.3014168528219064\n",
      "\n",
      "Epoch (144/250):"
     ]
    },
    {
     "name": "stderr",
     "output_type": "stream",
     "text": []
    },
    {
     "name": "stdout",
     "output_type": "stream",
     "text": [
      " 6.21 s\n",
      "[INFO] Saving checkpoint to my_checkpoint.pth.tar\n",
      "accuracy = 0.925  loss = 0.22259745001792908  val_accuracy = 0.9068241469816273  val_loss = 0.28865272427598637\n",
      "\n",
      "Epoch (145/250):"
     ]
    },
    {
     "name": "stderr",
     "output_type": "stream",
     "text": []
    },
    {
     "name": "stdout",
     "output_type": "stream",
     "text": [
      " 6.19 s\n",
      "[INFO] Saving checkpoint to my_checkpoint.pth.tar\n",
      "accuracy = 0.9  loss = 0.3220084309577942  val_accuracy = 0.9133858267716536  val_loss = 0.2873760511477788\n",
      "\n",
      "Epoch (146/250):"
     ]
    },
    {
     "name": "stderr",
     "output_type": "stream",
     "text": []
    },
    {
     "name": "stdout",
     "output_type": "stream",
     "text": [
      " 6.16 s\n",
      "accuracy = 0.825  loss = 0.4048995077610016  val_accuracy = 0.905511811023622  val_loss = 0.2906996967891852\n",
      "\n",
      "Epoch (147/250):"
     ]
    },
    {
     "name": "stderr",
     "output_type": "stream",
     "text": []
    },
    {
     "name": "stdout",
     "output_type": "stream",
     "text": [
      " 6.23 s\n",
      "accuracy = 0.925  loss = 0.24070115387439728  val_accuracy = 0.910761154855643  val_loss = 0.2930605386694272\n",
      "\n",
      "Epoch (148/250):"
     ]
    },
    {
     "name": "stderr",
     "output_type": "stream",
     "text": []
    },
    {
     "name": "stdout",
     "output_type": "stream",
     "text": [
      " 6.21 s\n",
      "[INFO] Saving checkpoint to my_checkpoint.pth.tar\n",
      "accuracy = 0.875  loss = 0.31483224034309387  val_accuracy = 0.9094488188976378  val_loss = 0.28505946571628255\n",
      "\n",
      "Epoch (149/250):"
     ]
    },
    {
     "name": "stderr",
     "output_type": "stream",
     "text": []
    },
    {
     "name": "stdout",
     "output_type": "stream",
     "text": [
      " 6.18 s\n",
      "[INFO] Saving checkpoint to my_checkpoint.pth.tar\n",
      "accuracy = 0.875  loss = 0.35098809003829956  val_accuracy = 0.9120734908136483  val_loss = 0.2793651583294074\n",
      "\n",
      "Epoch (150/250):"
     ]
    },
    {
     "name": "stderr",
     "output_type": "stream",
     "text": []
    },
    {
     "name": "stdout",
     "output_type": "stream",
     "text": [
      " 6.18 s\n",
      "accuracy = 0.95  loss = 0.2262602150440216  val_accuracy = 0.9120734908136483  val_loss = 0.2865435394148032\n",
      "\n",
      "Epoch (151/250):"
     ]
    },
    {
     "name": "stderr",
     "output_type": "stream",
     "text": []
    },
    {
     "name": "stdout",
     "output_type": "stream",
     "text": [
      " 6.17 s\n",
      "accuracy = 0.825  loss = 0.4443187713623047  val_accuracy = 0.9094488188976378  val_loss = 0.2852483031650384\n",
      "\n",
      "Epoch (152/250):"
     ]
    },
    {
     "name": "stderr",
     "output_type": "stream",
     "text": []
    },
    {
     "name": "stdout",
     "output_type": "stream",
     "text": [
      " 6.21 s\n",
      "accuracy = 0.9  loss = 0.38297125697135925  val_accuracy = 0.9094488188976378  val_loss = 0.28658536324898404\n",
      "\n",
      "Epoch (153/250):"
     ]
    },
    {
     "name": "stderr",
     "output_type": "stream",
     "text": []
    },
    {
     "name": "stdout",
     "output_type": "stream",
     "text": [
      " 6.17 s\n",
      "accuracy = 0.9  loss = 0.3564142882823944  val_accuracy = 0.9081364829396326  val_loss = 0.2821345441043377\n",
      "\n",
      "Epoch (154/250):"
     ]
    },
    {
     "name": "stderr",
     "output_type": "stream",
     "text": []
    },
    {
     "name": "stdout",
     "output_type": "stream",
     "text": [
      " 6.19 s\n",
      "accuracy = 0.9  loss = 0.266711950302124  val_accuracy = 0.9041994750656168  val_loss = 0.3021545186638832\n",
      "\n",
      "Epoch (155/250):"
     ]
    },
    {
     "name": "stderr",
     "output_type": "stream",
     "text": []
    },
    {
     "name": "stdout",
     "output_type": "stream",
     "text": [
      " 6.23 s\n",
      "[INFO] Saving checkpoint to my_checkpoint.pth.tar\n",
      "accuracy = 0.8  loss = 0.4612966477870941  val_accuracy = 0.9186351706036745  val_loss = 0.27683640147248906\n",
      "\n",
      "Epoch (156/250):"
     ]
    },
    {
     "name": "stderr",
     "output_type": "stream",
     "text": []
    },
    {
     "name": "stdout",
     "output_type": "stream",
     "text": [
      " 6.18 s\n",
      "[INFO] Saving checkpoint to my_checkpoint.pth.tar\n",
      "accuracy = 0.85  loss = 0.299481064081192  val_accuracy = 0.910761154855643  val_loss = 0.27345189452171326\n",
      "\n",
      "Epoch (157/250):"
     ]
    },
    {
     "name": "stderr",
     "output_type": "stream",
     "text": []
    },
    {
     "name": "stdout",
     "output_type": "stream",
     "text": [
      " 6.17 s\n",
      "accuracy = 0.875  loss = 0.30511346459388733  val_accuracy = 0.9133858267716536  val_loss = 0.2740383905669053\n",
      "\n",
      "Epoch (158/250):"
     ]
    },
    {
     "name": "stderr",
     "output_type": "stream",
     "text": []
    },
    {
     "name": "stdout",
     "output_type": "stream",
     "text": [
      " 6.19 s\n",
      "accuracy = 0.9  loss = 0.4164809584617615  val_accuracy = 0.9081364829396326  val_loss = 0.27552355453372\n",
      "\n",
      "Epoch (159/250):"
     ]
    },
    {
     "name": "stderr",
     "output_type": "stream",
     "text": []
    },
    {
     "name": "stdout",
     "output_type": "stream",
     "text": [
      " 6.22 s\n",
      "accuracy = 0.975  loss = 0.1944815218448639  val_accuracy = 0.9094488188976378  val_loss = 0.27882411206762\n",
      "\n",
      "Epoch (160/250):"
     ]
    },
    {
     "name": "stderr",
     "output_type": "stream",
     "text": []
    },
    {
     "name": "stdout",
     "output_type": "stream",
     "text": [
      " 6.22 s\n",
      "[INFO] Saving checkpoint to my_checkpoint.pth.tar\n",
      "accuracy = 0.85  loss = 0.3860322833061218  val_accuracy = 0.9251968503937008  val_loss = 0.27044397592544556\n",
      "\n",
      "Epoch (161/250):"
     ]
    },
    {
     "name": "stderr",
     "output_type": "stream",
     "text": []
    },
    {
     "name": "stdout",
     "output_type": "stream",
     "text": [
      " 6.18 s\n",
      "accuracy = 0.925  loss = 0.29637813568115234  val_accuracy = 0.9015748031496063  val_loss = 0.2906630039215088\n",
      "\n",
      "Epoch (162/250):"
     ]
    },
    {
     "name": "stderr",
     "output_type": "stream",
     "text": []
    },
    {
     "name": "stdout",
     "output_type": "stream",
     "text": [
      " 6.22 s\n",
      "accuracy = 0.925  loss = 0.27220067381858826  val_accuracy = 0.9094488188976378  val_loss = 0.27398279309272766\n",
      "\n",
      "Epoch (163/250):"
     ]
    },
    {
     "name": "stderr",
     "output_type": "stream",
     "text": []
    },
    {
     "name": "stdout",
     "output_type": "stream",
     "text": [
      " 6.20 s\n",
      "[INFO] Saving checkpoint to my_checkpoint.pth.tar\n",
      "accuracy = 0.775  loss = 0.5287700891494751  val_accuracy = 0.9199475065616798  val_loss = 0.265253696590662\n",
      "\n",
      "Epoch (164/250):"
     ]
    },
    {
     "name": "stderr",
     "output_type": "stream",
     "text": []
    },
    {
     "name": "stdout",
     "output_type": "stream",
     "text": [
      " 6.23 s\n",
      "accuracy = 0.825  loss = 0.4048317074775696  val_accuracy = 0.916010498687664  val_loss = 0.27303798745075863\n",
      "\n",
      "Epoch (165/250):"
     ]
    },
    {
     "name": "stderr",
     "output_type": "stream",
     "text": []
    },
    {
     "name": "stdout",
     "output_type": "stream",
     "text": [
      " 6.20 s\n",
      "accuracy = 0.875  loss = 0.49333494901657104  val_accuracy = 0.9120734908136483  val_loss = 0.2741044933597247\n",
      "\n",
      "Epoch (166/250):"
     ]
    },
    {
     "name": "stderr",
     "output_type": "stream",
     "text": []
    },
    {
     "name": "stdout",
     "output_type": "stream",
     "text": [
      " 6.21 s\n",
      "accuracy = 0.9  loss = 0.40904107689857483  val_accuracy = 0.9146981627296588  val_loss = 0.27362556507190067\n",
      "\n",
      "Epoch (167/250):"
     ]
    },
    {
     "name": "stderr",
     "output_type": "stream",
     "text": []
    },
    {
     "name": "stdout",
     "output_type": "stream",
     "text": [
      " 6.23 s\n",
      "accuracy = 0.8  loss = 0.49546974897384644  val_accuracy = 0.9120734908136483  val_loss = 0.27592051898439723\n",
      "\n",
      "Epoch (168/250):"
     ]
    },
    {
     "name": "stderr",
     "output_type": "stream",
     "text": []
    },
    {
     "name": "stdout",
     "output_type": "stream",
     "text": [
      " 6.20 s\n",
      "accuracy = 0.9  loss = 0.3055473566055298  val_accuracy = 0.9133858267716536  val_loss = 0.2777363086740176\n",
      "\n",
      "Epoch (169/250):"
     ]
    },
    {
     "name": "stderr",
     "output_type": "stream",
     "text": []
    },
    {
     "name": "stdout",
     "output_type": "stream",
     "text": [
      " 6.23 s\n",
      "accuracy = 0.85  loss = 0.5108814239501953  val_accuracy = 0.9120734908136483  val_loss = 0.26625827079017955\n",
      "\n",
      "Epoch (170/250):"
     ]
    },
    {
     "name": "stderr",
     "output_type": "stream",
     "text": []
    },
    {
     "name": "stdout",
     "output_type": "stream",
     "text": [
      " 6.20 s\n",
      "accuracy = 0.875  loss = 0.31171292066574097  val_accuracy = 0.9094488188976378  val_loss = 0.27417097116510075\n",
      "\n",
      "Epoch (171/250):"
     ]
    },
    {
     "name": "stderr",
     "output_type": "stream",
     "text": []
    },
    {
     "name": "stdout",
     "output_type": "stream",
     "text": [
      " 6.20 s\n",
      "accuracy = 0.875  loss = 0.3762941360473633  val_accuracy = 0.9068241469816273  val_loss = 0.27551962435245514\n",
      "\n",
      "Epoch (172/250):"
     ]
    },
    {
     "name": "stderr",
     "output_type": "stream",
     "text": []
    },
    {
     "name": "stdout",
     "output_type": "stream",
     "text": [
      " 6.19 s\n",
      "accuracy = 0.85  loss = 0.4520169198513031  val_accuracy = 0.9146981627296588  val_loss = 0.2656414657831192\n",
      "\n",
      "Epoch (173/250):"
     ]
    },
    {
     "name": "stderr",
     "output_type": "stream",
     "text": []
    },
    {
     "name": "stdout",
     "output_type": "stream",
     "text": [
      " 6.18 s\n",
      "[INFO] Saving checkpoint to my_checkpoint.pth.tar\n",
      "accuracy = 0.825  loss = 0.42784562706947327  val_accuracy = 0.9173228346456693  val_loss = 0.26471541325251263\n",
      "\n",
      "Epoch (174/250):"
     ]
    },
    {
     "name": "stderr",
     "output_type": "stream",
     "text": []
    },
    {
     "name": "stdout",
     "output_type": "stream",
     "text": [
      " 6.21 s\n",
      "[INFO] Saving checkpoint to my_checkpoint.pth.tar\n",
      "accuracy = 0.95  loss = 0.22753234207630157  val_accuracy = 0.9199475065616798  val_loss = 0.26302002867062885\n",
      "\n",
      "Epoch (175/250):"
     ]
    },
    {
     "name": "stderr",
     "output_type": "stream",
     "text": []
    },
    {
     "name": "stdout",
     "output_type": "stream",
     "text": [
      " 6.22 s\n",
      "accuracy = 0.875  loss = 0.3725048899650574  val_accuracy = 0.9146981627296588  val_loss = 0.26586638515194255\n",
      "\n",
      "Epoch (176/250):"
     ]
    },
    {
     "name": "stderr",
     "output_type": "stream",
     "text": []
    },
    {
     "name": "stdout",
     "output_type": "stream",
     "text": [
      " 6.21 s\n",
      "[INFO] Saving checkpoint to my_checkpoint.pth.tar\n",
      "accuracy = 0.9  loss = 0.2874179184436798  val_accuracy = 0.9186351706036745  val_loss = 0.2589432547489802\n",
      "\n",
      "Epoch (177/250):"
     ]
    },
    {
     "name": "stderr",
     "output_type": "stream",
     "text": []
    },
    {
     "name": "stdout",
     "output_type": "stream",
     "text": [
      " 6.21 s\n",
      "accuracy = 0.925  loss = 0.2902979254722595  val_accuracy = 0.9120734908136483  val_loss = 0.2660855750242869\n",
      "\n",
      "Epoch (178/250):"
     ]
    },
    {
     "name": "stderr",
     "output_type": "stream",
     "text": []
    },
    {
     "name": "stdout",
     "output_type": "stream",
     "text": [
      " 6.22 s\n",
      "accuracy = 0.9  loss = 0.29215937852859497  val_accuracy = 0.9173228346456693  val_loss = 0.2613975405693054\n",
      "\n",
      "Epoch (179/250):"
     ]
    },
    {
     "name": "stderr",
     "output_type": "stream",
     "text": []
    },
    {
     "name": "stdout",
     "output_type": "stream",
     "text": [
      " 6.22 s\n",
      "accuracy = 0.9  loss = 0.3559952676296234  val_accuracy = 0.9133858267716536  val_loss = 0.2640058944622676\n",
      "\n",
      "Epoch (180/250):"
     ]
    },
    {
     "name": "stderr",
     "output_type": "stream",
     "text": []
    },
    {
     "name": "stdout",
     "output_type": "stream",
     "text": [
      " 6.20 s\n",
      "accuracy = 0.825  loss = 0.3900160789489746  val_accuracy = 0.9133858267716536  val_loss = 0.26391100759307545\n",
      "\n",
      "Epoch (181/250):"
     ]
    },
    {
     "name": "stderr",
     "output_type": "stream",
     "text": []
    },
    {
     "name": "stdout",
     "output_type": "stream",
     "text": [
      " 6.21 s\n",
      "[INFO] Saving checkpoint to my_checkpoint.pth.tar\n",
      "accuracy = 0.875  loss = 0.4402087330818176  val_accuracy = 0.916010498687664  val_loss = 0.2577090710401535\n",
      "\n",
      "Epoch (182/250):"
     ]
    },
    {
     "name": "stderr",
     "output_type": "stream",
     "text": []
    },
    {
     "name": "stdout",
     "output_type": "stream",
     "text": [
      " 6.22 s\n",
      "[INFO] Saving checkpoint to my_checkpoint.pth.tar\n",
      "accuracy = 0.825  loss = 0.3704150319099426  val_accuracy = 0.9199475065616798  val_loss = 0.25104817872246105\n",
      "\n",
      "Epoch (183/250):"
     ]
    },
    {
     "name": "stderr",
     "output_type": "stream",
     "text": []
    },
    {
     "name": "stdout",
     "output_type": "stream",
     "text": [
      " 6.19 s\n",
      "accuracy = 0.925  loss = 0.23530033230781555  val_accuracy = 0.9081364829396326  val_loss = 0.2709961036841075\n",
      "\n",
      "Epoch (184/250):"
     ]
    },
    {
     "name": "stderr",
     "output_type": "stream",
     "text": []
    },
    {
     "name": "stdout",
     "output_type": "stream",
     "text": [
      " 6.21 s\n",
      "accuracy = 0.825  loss = 0.5506161451339722  val_accuracy = 0.9120734908136483  val_loss = 0.26414711649219197\n",
      "\n",
      "Epoch (185/250):"
     ]
    },
    {
     "name": "stderr",
     "output_type": "stream",
     "text": []
    },
    {
     "name": "stdout",
     "output_type": "stream",
     "text": [
      " 6.21 s\n",
      "accuracy = 0.875  loss = 0.37604430317878723  val_accuracy = 0.9199475065616798  val_loss = 0.2530128632982572\n",
      "\n",
      "Epoch (186/250):"
     ]
    },
    {
     "name": "stderr",
     "output_type": "stream",
     "text": []
    },
    {
     "name": "stdout",
     "output_type": "stream",
     "text": [
      " 6.21 s\n",
      "[INFO] Saving checkpoint to my_checkpoint.pth.tar\n",
      "accuracy = 0.925  loss = 0.3051709830760956  val_accuracy = 0.9186351706036745  val_loss = 0.25079186633229256\n",
      "\n",
      "Epoch (187/250):"
     ]
    },
    {
     "name": "stderr",
     "output_type": "stream",
     "text": []
    },
    {
     "name": "stdout",
     "output_type": "stream",
     "text": [
      " 6.20 s\n",
      "accuracy = 0.875  loss = 0.35935187339782715  val_accuracy = 0.910761154855643  val_loss = 0.2588337690879901\n",
      "\n",
      "Epoch (188/250):"
     ]
    },
    {
     "name": "stderr",
     "output_type": "stream",
     "text": []
    },
    {
     "name": "stdout",
     "output_type": "stream",
     "text": [
      " 6.18 s\n",
      "[INFO] Saving checkpoint to my_checkpoint.pth.tar\n",
      "accuracy = 0.7  loss = 0.5993940830230713  val_accuracy = 0.9186351706036745  val_loss = 0.2498421942194303\n",
      "\n",
      "Epoch (189/250):"
     ]
    },
    {
     "name": "stderr",
     "output_type": "stream",
     "text": []
    },
    {
     "name": "stdout",
     "output_type": "stream",
     "text": [
      " 6.24 s\n",
      "accuracy = 1.0  loss = 0.1701388657093048  val_accuracy = 0.9173228346456693  val_loss = 0.2608620598912239\n",
      "\n",
      "Epoch (190/250):"
     ]
    },
    {
     "name": "stderr",
     "output_type": "stream",
     "text": []
    },
    {
     "name": "stdout",
     "output_type": "stream",
     "text": [
      " 6.23 s\n",
      "accuracy = 0.85  loss = 0.4042151868343353  val_accuracy = 0.910761154855643  val_loss = 0.2646496867140134\n",
      "\n",
      "Epoch (191/250):"
     ]
    },
    {
     "name": "stderr",
     "output_type": "stream",
     "text": []
    },
    {
     "name": "stdout",
     "output_type": "stream",
     "text": [
      " 6.20 s\n",
      "accuracy = 0.875  loss = 0.30777084827423096  val_accuracy = 0.9146981627296588  val_loss = 0.2595536212126414\n",
      "\n",
      "Epoch (192/250):"
     ]
    },
    {
     "name": "stderr",
     "output_type": "stream",
     "text": []
    },
    {
     "name": "stdout",
     "output_type": "stream",
     "text": [
      " 6.20 s\n",
      "accuracy = 0.875  loss = 0.3200938105583191  val_accuracy = 0.9120734908136483  val_loss = 0.2549575939774513\n",
      "\n",
      "Epoch (193/250):"
     ]
    },
    {
     "name": "stderr",
     "output_type": "stream",
     "text": []
    },
    {
     "name": "stdout",
     "output_type": "stream",
     "text": [
      " 6.17 s\n",
      "[INFO] Saving checkpoint to my_checkpoint.pth.tar\n",
      "accuracy = 0.85  loss = 0.4670095443725586  val_accuracy = 0.9238845144356955  val_loss = 0.24535764753818512\n",
      "\n",
      "Epoch (194/250):"
     ]
    },
    {
     "name": "stderr",
     "output_type": "stream",
     "text": []
    },
    {
     "name": "stdout",
     "output_type": "stream",
     "text": [
      " 6.24 s\n",
      "accuracy = 0.85  loss = 0.5499967336654663  val_accuracy = 0.9133858267716536  val_loss = 0.25522267321745556\n",
      "\n",
      "Epoch (195/250):"
     ]
    },
    {
     "name": "stderr",
     "output_type": "stream",
     "text": []
    },
    {
     "name": "stdout",
     "output_type": "stream",
     "text": [
      " 6.21 s\n",
      "accuracy = 0.85  loss = 0.3428179621696472  val_accuracy = 0.9173228346456693  val_loss = 0.25933703283468884\n",
      "\n",
      "Epoch (196/250):"
     ]
    },
    {
     "name": "stderr",
     "output_type": "stream",
     "text": []
    },
    {
     "name": "stdout",
     "output_type": "stream",
     "text": [
      " 6.22 s\n",
      "accuracy = 0.9  loss = 0.3591116964817047  val_accuracy = 0.9186351706036745  val_loss = 0.2489066645503044\n",
      "\n",
      "Epoch (197/250):"
     ]
    },
    {
     "name": "stderr",
     "output_type": "stream",
     "text": []
    },
    {
     "name": "stdout",
     "output_type": "stream",
     "text": [
      " 6.25 s\n",
      "accuracy = 0.925  loss = 0.2989027500152588  val_accuracy = 0.9251968503937008  val_loss = 0.24676314865549406\n",
      "\n",
      "Epoch (198/250):"
     ]
    },
    {
     "name": "stderr",
     "output_type": "stream",
     "text": []
    },
    {
     "name": "stdout",
     "output_type": "stream",
     "text": [
      " 6.19 s\n",
      "[INFO] Saving checkpoint to my_checkpoint.pth.tar\n",
      "accuracy = 0.875  loss = 0.43270769715309143  val_accuracy = 0.9225721784776902  val_loss = 0.24447950348258018\n",
      "\n",
      "Epoch (199/250):"
     ]
    },
    {
     "name": "stderr",
     "output_type": "stream",
     "text": []
    },
    {
     "name": "stdout",
     "output_type": "stream",
     "text": [
      " 6.19 s\n",
      "accuracy = 0.875  loss = 0.33941856026649475  val_accuracy = 0.9186351706036745  val_loss = 0.2519352522989114\n",
      "\n",
      "Epoch (200/250):"
     ]
    },
    {
     "name": "stderr",
     "output_type": "stream",
     "text": []
    },
    {
     "name": "stdout",
     "output_type": "stream",
     "text": [
      " 6.25 s\n",
      "[INFO] Saving checkpoint to my_checkpoint.pth.tar\n",
      "accuracy = 0.85  loss = 0.3784532845020294  val_accuracy = 0.926509186351706  val_loss = 0.23694796611865362\n",
      "\n",
      "Epoch (201/250):"
     ]
    },
    {
     "name": "stderr",
     "output_type": "stream",
     "text": []
    },
    {
     "name": "stdout",
     "output_type": "stream",
     "text": [
      " 6.17 s\n",
      "accuracy = 0.9  loss = 0.26460978388786316  val_accuracy = 0.9199475065616798  val_loss = 0.24293212592601776\n",
      "\n",
      "Epoch (202/250):"
     ]
    },
    {
     "name": "stderr",
     "output_type": "stream",
     "text": []
    },
    {
     "name": "stdout",
     "output_type": "stream",
     "text": [
      " 6.19 s\n",
      "accuracy = 0.775  loss = 0.4408304691314697  val_accuracy = 0.9173228346456693  val_loss = 0.2518068328499794\n",
      "\n",
      "Epoch (203/250):"
     ]
    },
    {
     "name": "stderr",
     "output_type": "stream",
     "text": []
    },
    {
     "name": "stdout",
     "output_type": "stream",
     "text": [
      " 6.22 s\n",
      "accuracy = 0.875  loss = 0.4071245789527893  val_accuracy = 0.9199475065616798  val_loss = 0.24552597229679426\n",
      "\n",
      "Epoch (204/250):"
     ]
    },
    {
     "name": "stderr",
     "output_type": "stream",
     "text": []
    },
    {
     "name": "stdout",
     "output_type": "stream",
     "text": [
      " 6.23 s\n",
      "accuracy = 0.925  loss = 0.3369596302509308  val_accuracy = 0.9146981627296588  val_loss = 0.24329095457990965\n",
      "\n",
      "Epoch (205/250):"
     ]
    },
    {
     "name": "stderr",
     "output_type": "stream",
     "text": []
    },
    {
     "name": "stdout",
     "output_type": "stream",
     "text": [
      " 6.20 s\n",
      "accuracy = 0.9  loss = 0.4549955725669861  val_accuracy = 0.9173228346456693  val_loss = 0.2487447919944922\n",
      "\n",
      "Epoch (206/250):"
     ]
    },
    {
     "name": "stderr",
     "output_type": "stream",
     "text": []
    },
    {
     "name": "stdout",
     "output_type": "stream",
     "text": [
      " 6.17 s\n",
      "accuracy = 0.875  loss = 0.4685315489768982  val_accuracy = 0.9186351706036745  val_loss = 0.2441982366144657\n",
      "\n",
      "Epoch (207/250):"
     ]
    },
    {
     "name": "stderr",
     "output_type": "stream",
     "text": []
    },
    {
     "name": "stdout",
     "output_type": "stream",
     "text": [
      " 6.21 s\n",
      "accuracy = 0.875  loss = 0.3112930655479431  val_accuracy = 0.9146981627296588  val_loss = 0.24611534799138704\n",
      "\n",
      "Epoch (208/250):"
     ]
    },
    {
     "name": "stderr",
     "output_type": "stream",
     "text": []
    },
    {
     "name": "stdout",
     "output_type": "stream",
     "text": [
      " 6.17 s\n",
      "accuracy = 0.875  loss = 0.3515056073665619  val_accuracy = 0.9173228346456693  val_loss = 0.2484139141937097\n",
      "\n",
      "Epoch (209/250):"
     ]
    },
    {
     "name": "stderr",
     "output_type": "stream",
     "text": []
    },
    {
     "name": "stdout",
     "output_type": "stream",
     "text": [
      " 6.16 s\n",
      "[INFO] Saving checkpoint to my_checkpoint.pth.tar\n",
      "accuracy = 0.875  loss = 0.42272162437438965  val_accuracy = 0.9251968503937008  val_loss = 0.2304129625360171\n",
      "\n",
      "Epoch (210/250):"
     ]
    },
    {
     "name": "stderr",
     "output_type": "stream",
     "text": []
    },
    {
     "name": "stdout",
     "output_type": "stream",
     "text": [
      " 6.22 s\n",
      "accuracy = 0.825  loss = 0.4332781434059143  val_accuracy = 0.9212598425196851  val_loss = 0.23526464278499284\n",
      "\n",
      "Epoch (211/250):"
     ]
    },
    {
     "name": "stderr",
     "output_type": "stream",
     "text": []
    },
    {
     "name": "stdout",
     "output_type": "stream",
     "text": [
      " 6.19 s\n",
      "accuracy = 0.95  loss = 0.2072516232728958  val_accuracy = 0.9225721784776902  val_loss = 0.23073256015777588\n",
      "\n",
      "Epoch (212/250):"
     ]
    },
    {
     "name": "stderr",
     "output_type": "stream",
     "text": []
    },
    {
     "name": "stdout",
     "output_type": "stream",
     "text": [
      " 6.21 s\n",
      "accuracy = 0.925  loss = 0.4215823709964752  val_accuracy = 0.9251968503937008  val_loss = 0.23161283507943153\n",
      "\n",
      "Epoch (213/250):"
     ]
    },
    {
     "name": "stderr",
     "output_type": "stream",
     "text": []
    },
    {
     "name": "stdout",
     "output_type": "stream",
     "text": [
      " 6.18 s\n",
      "accuracy = 0.9  loss = 0.26852259039878845  val_accuracy = 0.9186351706036745  val_loss = 0.2551543402175109\n",
      "\n",
      "Epoch (214/250):"
     ]
    },
    {
     "name": "stderr",
     "output_type": "stream",
     "text": []
    },
    {
     "name": "stdout",
     "output_type": "stream",
     "text": [
      " 6.16 s\n",
      "[INFO] Saving checkpoint to my_checkpoint.pth.tar\n",
      "accuracy = 0.925  loss = 0.2962634265422821  val_accuracy = 0.9304461942257218  val_loss = 0.2278968133032322\n",
      "\n",
      "Epoch (215/250):"
     ]
    },
    {
     "name": "stderr",
     "output_type": "stream",
     "text": []
    },
    {
     "name": "stdout",
     "output_type": "stream",
     "text": [
      " 6.22 s\n",
      "accuracy = 0.825  loss = 0.39322155714035034  val_accuracy = 0.9251968503937008  val_loss = 0.23207075893878937\n",
      "\n",
      "Epoch (216/250):"
     ]
    },
    {
     "name": "stderr",
     "output_type": "stream",
     "text": []
    },
    {
     "name": "stdout",
     "output_type": "stream",
     "text": [
      " 6.18 s\n",
      "[INFO] Saving checkpoint to my_checkpoint.pth.tar\n",
      "accuracy = 0.95  loss = 0.24157924950122833  val_accuracy = 0.9304461942257218  val_loss = 0.2255512314538161\n",
      "\n",
      "Epoch (217/250):"
     ]
    },
    {
     "name": "stderr",
     "output_type": "stream",
     "text": []
    },
    {
     "name": "stdout",
     "output_type": "stream",
     "text": [
      " 6.22 s\n",
      "accuracy = 0.825  loss = 0.6008066534996033  val_accuracy = 0.9186351706036745  val_loss = 0.23678866028785706\n",
      "\n",
      "Epoch (218/250):"
     ]
    },
    {
     "name": "stderr",
     "output_type": "stream",
     "text": []
    },
    {
     "name": "stdout",
     "output_type": "stream",
     "text": [
      " 6.16 s\n",
      "accuracy = 0.875  loss = 0.28189408779144287  val_accuracy = 0.9238845144356955  val_loss = 0.2351620209713777\n",
      "\n",
      "Epoch (219/250):"
     ]
    },
    {
     "name": "stderr",
     "output_type": "stream",
     "text": []
    },
    {
     "name": "stdout",
     "output_type": "stream",
     "text": [
      " 6.20 s\n",
      "accuracy = 0.95  loss = 0.26565343141555786  val_accuracy = 0.9238845144356955  val_loss = 0.23425253356496492\n",
      "\n",
      "Epoch (220/250):"
     ]
    },
    {
     "name": "stderr",
     "output_type": "stream",
     "text": []
    },
    {
     "name": "stdout",
     "output_type": "stream",
     "text": [
      " 6.22 s\n",
      "accuracy = 0.875  loss = 0.3299044966697693  val_accuracy = 0.9186351706036745  val_loss = 0.24260946239034334\n",
      "\n",
      "Epoch (221/250):"
     ]
    },
    {
     "name": "stderr",
     "output_type": "stream",
     "text": []
    },
    {
     "name": "stdout",
     "output_type": "stream",
     "text": [
      " 6.20 s\n",
      "accuracy = 0.9  loss = 0.31561556458473206  val_accuracy = 0.9212598425196851  val_loss = 0.22912346695860228\n",
      "\n",
      "Epoch (222/250):"
     ]
    },
    {
     "name": "stderr",
     "output_type": "stream",
     "text": []
    },
    {
     "name": "stdout",
     "output_type": "stream",
     "text": [
      " 6.20 s\n",
      "[INFO] Saving checkpoint to my_checkpoint.pth.tar\n",
      "accuracy = 0.85  loss = 0.35319942235946655  val_accuracy = 0.931758530183727  val_loss = 0.22044443090756735\n",
      "\n",
      "Epoch (223/250):"
     ]
    },
    {
     "name": "stderr",
     "output_type": "stream",
     "text": []
    },
    {
     "name": "stdout",
     "output_type": "stream",
     "text": [
      " 6.19 s\n",
      "accuracy = 0.8  loss = 0.48605313897132874  val_accuracy = 0.9291338582677166  val_loss = 0.22468390439947447\n",
      "\n",
      "Epoch (224/250):"
     ]
    },
    {
     "name": "stderr",
     "output_type": "stream",
     "text": []
    },
    {
     "name": "stdout",
     "output_type": "stream",
     "text": [
      " 6.22 s\n",
      "accuracy = 0.9  loss = 0.24328283965587616  val_accuracy = 0.9278215223097113  val_loss = 0.22678498178720474\n",
      "\n",
      "Epoch (225/250):"
     ]
    },
    {
     "name": "stderr",
     "output_type": "stream",
     "text": []
    },
    {
     "name": "stdout",
     "output_type": "stream",
     "text": [
      " 6.20 s\n",
      "accuracy = 0.925  loss = 0.2256161868572235  val_accuracy = 0.931758530183727  val_loss = 0.22415798343718052\n",
      "\n",
      "Epoch (226/250):"
     ]
    },
    {
     "name": "stderr",
     "output_type": "stream",
     "text": []
    },
    {
     "name": "stdout",
     "output_type": "stream",
     "text": [
      " 6.21 s\n",
      "accuracy = 0.875  loss = 0.37411069869995117  val_accuracy = 0.926509186351706  val_loss = 0.22347204138835272\n",
      "\n",
      "Epoch (227/250):"
     ]
    },
    {
     "name": "stderr",
     "output_type": "stream",
     "text": []
    },
    {
     "name": "stdout",
     "output_type": "stream",
     "text": [
      " 6.19 s\n",
      "accuracy = 0.775  loss = 0.5080168843269348  val_accuracy = 0.926509186351706  val_loss = 0.22812302534778914\n",
      "\n",
      "Epoch (228/250):"
     ]
    },
    {
     "name": "stderr",
     "output_type": "stream",
     "text": []
    },
    {
     "name": "stdout",
     "output_type": "stream",
     "text": [
      " 6.17 s\n",
      "[INFO] Saving checkpoint to my_checkpoint.pth.tar\n",
      "accuracy = 0.925  loss = 0.2611248195171356  val_accuracy = 0.931758530183727  val_loss = 0.22033063570658365\n",
      "\n",
      "Epoch (229/250):"
     ]
    },
    {
     "name": "stderr",
     "output_type": "stream",
     "text": []
    },
    {
     "name": "stdout",
     "output_type": "stream",
     "text": [
      " 6.15 s\n",
      "accuracy = 0.9  loss = 0.2911357283592224  val_accuracy = 0.916010498687664  val_loss = 0.23666820054252943\n",
      "\n",
      "Epoch (230/250):"
     ]
    },
    {
     "name": "stderr",
     "output_type": "stream",
     "text": []
    },
    {
     "name": "stdout",
     "output_type": "stream",
     "text": [
      " 6.23 s\n",
      "accuracy = 0.85  loss = 0.4238866865634918  val_accuracy = 0.9146981627296588  val_loss = 0.23882832874854407\n",
      "\n",
      "Epoch (231/250):"
     ]
    },
    {
     "name": "stderr",
     "output_type": "stream",
     "text": []
    },
    {
     "name": "stdout",
     "output_type": "stream",
     "text": [
      " 6.22 s\n",
      "accuracy = 0.875  loss = 0.34180936217308044  val_accuracy = 0.9278215223097113  val_loss = 0.22485119352738062\n",
      "\n",
      "Epoch (232/250):"
     ]
    },
    {
     "name": "stderr",
     "output_type": "stream",
     "text": []
    },
    {
     "name": "stdout",
     "output_type": "stream",
     "text": [
      " 6.23 s\n",
      "[INFO] Saving checkpoint to my_checkpoint.pth.tar\n",
      "accuracy = 0.95  loss = 0.32078006863594055  val_accuracy = 0.9343832020997376  val_loss = 0.21599560106794038\n",
      "\n",
      "Epoch (233/250):"
     ]
    },
    {
     "name": "stderr",
     "output_type": "stream",
     "text": []
    },
    {
     "name": "stdout",
     "output_type": "stream",
     "text": [
      " 6.22 s\n",
      "accuracy = 0.95  loss = 0.17011798918247223  val_accuracy = 0.9291338582677166  val_loss = 0.21973556776841482\n",
      "\n",
      "Epoch (234/250):"
     ]
    },
    {
     "name": "stderr",
     "output_type": "stream",
     "text": []
    },
    {
     "name": "stdout",
     "output_type": "stream",
     "text": [
      " 6.21 s\n",
      "[INFO] Saving checkpoint to my_checkpoint.pth.tar\n",
      "accuracy = 0.9  loss = 0.4210757613182068  val_accuracy = 0.926509186351706  val_loss = 0.21475760514537492\n",
      "\n",
      "Epoch (235/250):"
     ]
    },
    {
     "name": "stderr",
     "output_type": "stream",
     "text": []
    },
    {
     "name": "stdout",
     "output_type": "stream",
     "text": [
      " 6.21 s\n",
      "accuracy = 0.925  loss = 0.266272634267807  val_accuracy = 0.9212598425196851  val_loss = 0.2313847430050373\n",
      "\n",
      "Epoch (236/250):"
     ]
    },
    {
     "name": "stderr",
     "output_type": "stream",
     "text": []
    },
    {
     "name": "stdout",
     "output_type": "stream",
     "text": [
      " 6.19 s\n",
      "accuracy = 0.975  loss = 0.16943952441215515  val_accuracy = 0.9291338582677166  val_loss = 0.21846314271291098\n",
      "\n",
      "Epoch (237/250):"
     ]
    },
    {
     "name": "stderr",
     "output_type": "stream",
     "text": []
    },
    {
     "name": "stdout",
     "output_type": "stream",
     "text": [
      " 6.22 s\n",
      "accuracy = 0.825  loss = 0.4322237968444824  val_accuracy = 0.926509186351706  val_loss = 0.2199690155684948\n",
      "\n",
      "Epoch (238/250):"
     ]
    },
    {
     "name": "stderr",
     "output_type": "stream",
     "text": []
    },
    {
     "name": "stdout",
     "output_type": "stream",
     "text": [
      " 6.22 s\n",
      "accuracy = 0.925  loss = 0.2489483654499054  val_accuracy = 0.9251968503937008  val_loss = 0.2209693839152654\n",
      "\n",
      "Epoch (239/250):"
     ]
    },
    {
     "name": "stderr",
     "output_type": "stream",
     "text": []
    },
    {
     "name": "stdout",
     "output_type": "stream",
     "text": [
      " 6.26 s\n",
      "accuracy = 0.875  loss = 0.32278841733932495  val_accuracy = 0.931758530183727  val_loss = 0.21479284887512526\n",
      "\n",
      "Epoch (240/250):"
     ]
    },
    {
     "name": "stderr",
     "output_type": "stream",
     "text": []
    },
    {
     "name": "stdout",
     "output_type": "stream",
     "text": [
      " 6.19 s\n",
      "accuracy = 0.875  loss = 0.2935514748096466  val_accuracy = 0.931758530183727  val_loss = 0.21927360693613687\n",
      "\n",
      "Epoch (241/250):"
     ]
    },
    {
     "name": "stderr",
     "output_type": "stream",
     "text": []
    },
    {
     "name": "stdout",
     "output_type": "stream",
     "text": [
      " 6.23 s\n",
      "accuracy = 0.925  loss = 0.23920539021492004  val_accuracy = 0.9238845144356955  val_loss = 0.21943018461267152\n",
      "\n",
      "Epoch (242/250):"
     ]
    },
    {
     "name": "stderr",
     "output_type": "stream",
     "text": []
    },
    {
     "name": "stdout",
     "output_type": "stream",
     "text": [
      " 6.25 s\n",
      "accuracy = 0.925  loss = 0.2128123939037323  val_accuracy = 0.9225721784776902  val_loss = 0.21833556393782297\n",
      "\n",
      "Epoch (243/250):"
     ]
    },
    {
     "name": "stderr",
     "output_type": "stream",
     "text": []
    },
    {
     "name": "stdout",
     "output_type": "stream",
     "text": [
      " 6.25 s\n",
      "[INFO] Saving checkpoint to my_checkpoint.pth.tar\n",
      "accuracy = 0.8  loss = 0.42168325185775757  val_accuracy = 0.9291338582677166  val_loss = 0.21378319089611372\n",
      "\n",
      "Epoch (244/250):"
     ]
    },
    {
     "name": "stderr",
     "output_type": "stream",
     "text": []
    },
    {
     "name": "stdout",
     "output_type": "stream",
     "text": [
      " 6.60 s\n",
      "accuracy = 0.9  loss = 0.42513975501060486  val_accuracy = 0.926509186351706  val_loss = 0.2145817168056965\n",
      "\n",
      "Epoch (245/250):"
     ]
    },
    {
     "name": "stderr",
     "output_type": "stream",
     "text": []
    },
    {
     "name": "stdout",
     "output_type": "stream",
     "text": [
      " 6.38 s\n",
      "[INFO] Saving checkpoint to my_checkpoint.pth.tar\n",
      "accuracy = 0.9  loss = 0.3423767387866974  val_accuracy = 0.9304461942257218  val_loss = 0.2122907762726148\n",
      "\n",
      "Epoch (246/250):"
     ]
    },
    {
     "name": "stderr",
     "output_type": "stream",
     "text": []
    },
    {
     "name": "stdout",
     "output_type": "stream",
     "text": [
      " 6.21 s\n",
      "accuracy = 0.925  loss = 0.20337195694446564  val_accuracy = 0.9238845144356955  val_loss = 0.22103015085061392\n",
      "\n",
      "Epoch (247/250):"
     ]
    },
    {
     "name": "stderr",
     "output_type": "stream",
     "text": []
    },
    {
     "name": "stdout",
     "output_type": "stream",
     "text": [
      " 6.24 s\n",
      "accuracy = 0.85  loss = 0.3444615602493286  val_accuracy = 0.9291338582677166  val_loss = 0.21540424848596254\n",
      "\n",
      "Epoch (248/250):"
     ]
    },
    {
     "name": "stderr",
     "output_type": "stream",
     "text": []
    },
    {
     "name": "stdout",
     "output_type": "stream",
     "text": [
      " 6.18 s\n",
      "accuracy = 0.9  loss = 0.28885090351104736  val_accuracy = 0.9238845144356955  val_loss = 0.22868274711072445\n",
      "\n",
      "Epoch (249/250):"
     ]
    },
    {
     "name": "stderr",
     "output_type": "stream",
     "text": [
      "                       "
     ]
    },
    {
     "name": "stdout",
     "output_type": "stream",
     "text": [
      " 6.23 s\n",
      "[INFO] Saving checkpoint to my_checkpoint.pth.tar\n",
      "accuracy = 0.85  loss = 0.4561172425746918  val_accuracy = 0.931758530183727  val_loss = 0.20721024150649706\n",
      "\n"
     ]
    },
    {
     "name": "stderr",
     "output_type": "stream",
     "text": [
      "\r"
     ]
    }
   ],
   "source": [
    "from collections import defaultdict\n",
    "\n",
    "# to store our training accuracy and losses\n",
    "history = defaultdict(list)\n",
    "best_val_loss = np.inf\n",
    "\n",
    "for epoch in range(EPOCHS):\n",
    "    print(f\"Epoch ({epoch}/{EPOCHS}):\", end=\"\")\n",
    "    start_t = time.perf_counter()\n",
    "\n",
    "    train_accuracy, train_loss = fit(\n",
    "        model,\n",
    "        train_dl,\n",
    "        train_dataset,\n",
    "        optimizer,\n",
    "        criterion\n",
    "    )\n",
    "\n",
    "    val_accuracy, val_loss = validate(\n",
    "        model,\n",
    "        val_dl,\n",
    "        val_dataset,\n",
    "        criterion\n",
    "    )\n",
    "\n",
    "    end_t = time.perf_counter()\n",
    "    print(f\" {end_t - start_t:.2f} s\")\n",
    "\n",
    "    ## optionally can save checkpoint automatically\n",
    "    if val_loss < best_val_loss:\n",
    "        best_val_loss = val_loss\n",
    "        save_ckpt(model.state_dict(), CHECKPOINT_PATH)\n",
    "    \n",
    "    scheduler.step(val_loss)\n",
    "\n",
    "    history['train_accuracy'].append(train_accuracy)\n",
    "    history['train_loss'].append(train_loss)\n",
    "    history['val_accuracy'].append(val_accuracy)\n",
    "    history['val_loss'].append(val_loss)\n",
    "\n",
    "    print(f\"accuracy = {train_accuracy}  loss = {train_loss}  \"\n",
    "    f\"val_accuracy = {val_accuracy}  val_loss = {val_loss}\\n\")"
   ]
  },
  {
   "cell_type": "code",
   "execution_count": null,
   "id": "pRfzI0cw0Ex2",
   "metadata": {
    "colab": {
     "base_uri": "https://localhost:8080/",
     "height": 527
    },
    "id": "pRfzI0cw0Ex2",
    "outputId": "50017898-85ed-4c02-a3be-91e99cdaf4d7"
   },
   "outputs": [
    {
     "data": {
      "image/png": "[encoded data removed]",
      "text/plain": [
       "<Figure size 864x576 with 1 Axes>"
      ]
     },
     "metadata": {},
     "output_type": "display_data"
    }
   ],
   "source": [
    "plt.figure(figsize=(12, 8))\n",
    "for key, values in history.items():\n",
    "    plt.plot(values, label=key)\n",
    "plt.title(\"Training Accuracy and Loss on Dataset\")\n",
    "plt.xlabel(\"Epoch #\")\n",
    "plt.ylabel(\"Loss\")\n",
    "plt.legend(loc=\"upper right\")\n",
    "plt.show()"
   ]
  },
  {
   "cell_type": "code",
   "execution_count": null,
   "id": "vDkAfuq7CWS4",
   "metadata": {
    "id": "vDkAfuq7CWS4"
   },
   "outputs": [],
   "source": [
    "def load_ckpt(ckpt_path):\n",
    "    print(\"[INFO] Loading checkpoint\")\n",
    "    model_state = torch.load(ckpt_path)\n",
    "    model.load_state_dict(model_state)"
   ]
  },
  {
   "cell_type": "code",
   "execution_count": null,
   "id": "MvBaFbhfC72e",
   "metadata": {
    "colab": {
     "base_uri": "https://localhost:8080/"
    },
    "id": "MvBaFbhfC72e",
    "outputId": "86e0e246-2727-4135-d50a-0493e880f5f2"
   },
   "outputs": [
    {
     "name": "stdout",
     "output_type": "stream",
     "text": [
      "[INFO] Loading checkpoint\n"
     ]
    }
   ],
   "source": [
    "load_ckpt(CHECKPOINT_PATH)"
   ]
  },
  {
   "cell_type": "code",
   "execution_count": null,
   "id": "5asSkWDGDAbM",
   "metadata": {
    "colab": {
     "base_uri": "https://localhost:8080/"
    },
    "id": "5asSkWDGDAbM",
    "outputId": "83ae6d5c-28a8-4f25-e404-e9bbaf91d4ba"
   },
   "outputs": [
    {
     "name": "stdout",
     "output_type": "stream",
     "text": [
      "Validation Accuracy = 0.931758530183727\n",
      "Validation Loss = 0.20647570242484412\n"
     ]
    }
   ],
   "source": [
    "accuracy, loss = validate(model, val_dl, val_dataset, criterion)\n",
    "clear_output()\n",
    "print(f\"Validation Accuracy = {accuracy}\\nValidation Loss = {loss}\")"
   ]
  },
  {
   "cell_type": "markdown",
   "id": "THOXYqzmkTeP",
   "metadata": {
    "id": "THOXYqzmkTeP"
   },
   "source": [
    "# Show inference results"
   ]
  },
  {
   "cell_type": "code",
   "execution_count": null,
   "id": "ZsShWO1pkW66",
   "metadata": {
    "colab": {
     "base_uri": "https://localhost:8080/"
    },
    "id": "ZsShWO1pkW66",
    "outputId": "82459b29-7aa0-45aa-8867-6178a7ba898a"
   },
   "outputs": [
    {
     "name": "stdout",
     "output_type": "stream",
     "text": [
      "torch.Size([3810, 128, 10])\n",
      "torch.Size([3810])\n"
     ]
    }
   ],
   "source": [
    "val_sequences = []\n",
    "val_labels = []\n",
    "for sequence, label in val_dataset:\n",
    "    val_sequences.append(sequence.unsqueeze(0))\n",
    "    val_labels.append(label)\n",
    "\n",
    "val_sequences = torch.cat(val_sequences, axis=0).to(device)\n",
    "val_labels = torch.stack(val_labels).to(device)\n",
    "print(val_sequences.shape)\n",
    "print(val_labels.shape)"
   ]
  },
  {
   "cell_type": "code",
   "execution_count": null,
   "id": "BLVYKyETm9Cx",
   "metadata": {
    "colab": {
     "base_uri": "https://localhost:8080/"
    },
    "id": "BLVYKyETm9Cx",
    "outputId": "50d7091d-e6a0-4d00-f672-12916945347d"
   },
   "outputs": [
    {
     "data": {
      "text/plain": [
       "tensor([2, 1, 1, 1, 6])"
      ]
     },
     "execution_count": 124,
     "metadata": {},
     "output_type": "execute_result"
    }
   ],
   "source": [
    "val_labels[:5]"
   ]
  },
  {
   "cell_type": "code",
   "execution_count": null,
   "id": "8XaAPDDokXBc",
   "metadata": {
    "colab": {
     "base_uri": "https://localhost:8080/"
    },
    "id": "8XaAPDDokXBc",
    "outputId": "5580ae36-5681-4f58-d128-54f371959086"
   },
   "outputs": [
    {
     "name": "stdout",
     "output_type": "stream",
     "text": [
      "3413\n"
     ]
    }
   ],
   "source": [
    "model.eval()\n",
    "\n",
    "with torch.no_grad():\n",
    "    y_proba = model(val_sequences)\n",
    "    y_pred = torch.argmax(y_proba, axis=-1)\n",
    "\n",
    "    total_correct = (y_pred == val_labels).sum().item()\n",
    "print(total_correct)"
   ]
  },
  {
   "cell_type": "code",
   "execution_count": null,
   "id": "EWMGHNJGkXD2",
   "metadata": {
    "colab": {
     "base_uri": "https://localhost:8080/"
    },
    "id": "EWMGHNJGkXD2",
    "outputId": "7806ea00-8def-4941-c282-0e6113bb2697"
   },
   "outputs": [
    {
     "name": "stdout",
     "output_type": "stream",
     "text": [
      "0.8958005249343832\n"
     ]
    }
   ],
   "source": [
    "accuracy = total_correct / len(val_labels)\n",
    "print(accuracy)"
   ]
  },
  {
   "cell_type": "code",
   "execution_count": null,
   "id": "rebXq3akkXGQ",
   "metadata": {
    "colab": {
     "base_uri": "https://localhost:8080/"
    },
    "id": "rebXq3akkXGQ",
    "outputId": "67024805-50eb-42cc-9b1f-f80d236042c4"
   },
   "outputs": [
    {
     "name": "stdout",
     "output_type": "stream",
     "text": [
      "                        precision    recall  f1-score   support\n",
      "\n",
      "                carpet       0.85      0.89      0.87       189\n",
      "              concrete       0.91      0.89      0.90       779\n",
      "         fine_concrete       0.85      0.83      0.84       363\n",
      "            hard_tiles       0.68      0.81      0.74        21\n",
      "hard_tiles_large_space       0.96      0.91      0.93       308\n",
      "              soft_pvc       0.90      0.92      0.91       732\n",
      "            soft_tiles       0.90      0.96      0.93       297\n",
      "                 tiled       0.91      0.88      0.89       514\n",
      "                  wood       0.88      0.89      0.88       607\n",
      "\n",
      "              accuracy                           0.90      3810\n",
      "             macro avg       0.87      0.89      0.88      3810\n",
      "          weighted avg       0.90      0.90      0.90      3810\n",
      "\n"
     ]
    }
   ],
   "source": [
    "from sklearn.metrics import classification_report\n",
    "\n",
    "print(\n",
    "    classification_report(val_labels.cpu().numpy(), \n",
    "                          y_pred.cpu().numpy(), \n",
    "                          target_names=encoder.classes_\n",
    "    )\n",
    ")"
   ]
  },
  {
   "cell_type": "code",
   "execution_count": null,
   "id": "cLhrOlXPn9Jl",
   "metadata": {
    "colab": {
     "base_uri": "https://localhost:8080/"
    },
    "id": "cLhrOlXPn9Jl",
    "outputId": "e8d291a6-894c-4c06-a07a-1c2f44ce012b"
   },
   "outputs": [
    {
     "name": "stdout",
     "output_type": "stream",
     "text": [
      "Predicted: soft_pvc; Actual: soft_pvc\n"
     ]
    }
   ],
   "source": [
    "# make a single prediction\n",
    "random_idx = np.random.randint(len(val_labels))\n",
    "\n",
    "rand_sequence = val_sequences[random_idx].unsqueeze(0)\n",
    "y_true = val_labels[random_idx]\n",
    "\n",
    "y_proba = model(rand_sequence)\n",
    "y_pred = torch.argmax(y_proba, axis=-1)\n",
    "\n",
    "pred_class, true_class = encoder.inverse_transform([y_pred.item(), y_true.item()])\n",
    "\n",
    "print(f\"Predicted: {pred_class}; Actual: {true_class}\")"
   ]
  },
  {
   "cell_type": "markdown",
   "id": "gSeyrN08DX65",
   "metadata": {
    "id": "gSeyrN08DX65"
   },
   "source": [
    "# Try Conv1D model"
   ]
  },
  {
   "cell_type": "code",
   "execution_count": null,
   "id": "oqoyaLIwJHrL",
   "metadata": {
    "colab": {
     "base_uri": "https://localhost:8080/"
    },
    "id": "oqoyaLIwJHrL",
    "outputId": "5c0d903a-3c8c-49d2-a8ee-218c3a32b098"
   },
   "outputs": [
    {
     "name": "stdout",
     "output_type": "stream",
     "text": [
      "torch.Size([64, 128, 10])\n"
     ]
    }
   ],
   "source": [
    "for x, y in train_dl:\n",
    "    print(x.shape)\n",
    "    break"
   ]
  },
  {
   "cell_type": "code",
   "execution_count": null,
   "id": "ZimAFNanIl41",
   "metadata": {
    "colab": {
     "base_uri": "https://localhost:8080/"
    },
    "id": "ZimAFNanIl41",
    "outputId": "de52e127-33e4-4b9a-d235-4b812574fca0"
   },
   "outputs": [
    {
     "name": "stdout",
     "output_type": "stream",
     "text": [
      "torch.Size([64, 256, 8])\n",
      "torch.Size([64, 256, 6])\n",
      "torch.Size([64, 256, 4])\n"
     ]
    }
   ],
   "source": [
    "m = nn.Conv1d(128, 256, 3, stride=1)\n",
    "output = m(x)\n",
    "print(output.shape)\n",
    "\n",
    "m = nn.Conv1d(256, 256, 3, stride=1)\n",
    "output = m(output)\n",
    "print(output.shape)\n",
    "\n",
    "m = nn.Conv1d(256, 256, 3, stride=1)\n",
    "output = m(output)\n",
    "print(output.shape)"
   ]
  },
  {
   "cell_type": "code",
   "execution_count": null,
   "id": "S1C1BDSiKIBX",
   "metadata": {
    "colab": {
     "base_uri": "https://localhost:8080/"
    },
    "id": "S1C1BDSiKIBX",
    "outputId": "5daeecf8-a571-4851-c836-9bb849b71d37"
   },
   "outputs": [
    {
     "data": {
      "text/plain": [
       "torch.Size([1, 256])"
      ]
     },
     "execution_count": 99,
     "metadata": {},
     "output_type": "execute_result"
    }
   ],
   "source": [
    "output.mean(-1).shape"
   ]
  },
  {
   "cell_type": "code",
   "execution_count": null,
   "id": "JUugdAE0GXVy",
   "metadata": {
    "id": "JUugdAE0GXVy"
   },
   "outputs": [],
   "source": [
    "class SequenceConvModel(nn.Module):\n",
    "    def __init__(self, sequence_len, n_classes=N_CLASSES, n_hidden=256, n_layers=3, verbose=0):\n",
    "        super().__init__()\n",
    "\n",
    "        self.n_layers = n_layers\n",
    "        self.verbose = verbose\n",
    "        self.conv1d_1 = nn.Conv1d(\n",
    "            in_channels=sequence_len,\n",
    "            out_channels=n_hidden,\n",
    "            kernel_size=3,\n",
    "        )\n",
    "        self.bn = nn.BatchNorm1d(n_hidden)\n",
    "        self.relu = nn.ReLU()\n",
    "\n",
    "        self.conv1d_2 = nn.Conv1d(\n",
    "            in_channels=n_hidden,\n",
    "            out_channels=n_hidden,\n",
    "            kernel_size=3,\n",
    "        )\n",
    "\n",
    "        self.fc = nn.Linear(n_hidden, n_classes)\n",
    "\n",
    "    def forward(self, x):\n",
    "        for i in range(self.n_layers):\n",
    "            if i == 0:\n",
    "                x = self.conv1d_1(x)\n",
    "            else:\n",
    "                x = self.conv1d_2(x)\n",
    "            ## optionally print shapes to see the changes\n",
    "            # print(x.shape)\n",
    "            x = self.bn(x)\n",
    "            # print(x.shape)\n",
    "            x = self.relu(x)\n",
    "            # print(x.shape)\n",
    "\n",
    "        # global average pooling\n",
    "        x = x.mean(axis=-1)\n",
    "        # print(x.shape)\n",
    "\n",
    "        x = self.fc(x)\n",
    "        # print(x.shape)\n",
    "        return x"
   ]
  },
  {
   "cell_type": "code",
   "execution_count": null,
   "id": "SHMJGu1nGXVy",
   "metadata": {
    "colab": {
     "base_uri": "https://localhost:8080/"
    },
    "id": "SHMJGu1nGXVy",
    "outputId": "c0e3f767-e75a-49a2-b7e1-d4302db8762c"
   },
   "outputs": [
    {
     "data": {
      "text/plain": [
       "SequenceConvModel(\n",
       "  (conv1d_1): Conv1d(128, 256, kernel_size=(3,), stride=(1,))\n",
       "  (bn): BatchNorm1d(256, eps=1e-05, momentum=0.1, affine=True, track_running_stats=True)\n",
       "  (relu): ReLU()\n",
       "  (conv1d_2): Conv1d(256, 256, kernel_size=(3,), stride=(1,))\n",
       "  (fc): Linear(in_features=256, out_features=9, bias=True)\n",
       ")"
      ]
     },
     "execution_count": 54,
     "metadata": {},
     "output_type": "execute_result"
    }
   ],
   "source": [
    "model = SequenceConvModel(\n",
    "    sequence_len=SEQUENCE_LENGTH,\n",
    "    n_classes=N_CLASSES,\n",
    "    n_hidden=256,\n",
    "    n_layers=3\n",
    ")\n",
    "model.to(device)"
   ]
  },
  {
   "cell_type": "code",
   "execution_count": null,
   "id": "Lpo1GseiKew3",
   "metadata": {
    "colab": {
     "base_uri": "https://localhost:8080/"
    },
    "id": "Lpo1GseiKew3",
    "outputId": "3247a6f0-5895-4cc5-9247-0e6f94527020"
   },
   "outputs": [
    {
     "data": {
      "text/plain": [
       "torch.Size([64, 9])"
      ]
     },
     "execution_count": 55,
     "metadata": {},
     "output_type": "execute_result"
    }
   ],
   "source": [
    "model(x.to(device)).shape"
   ]
  },
  {
   "cell_type": "code",
   "execution_count": null,
   "id": "EXeatJyJGXVz",
   "metadata": {
    "id": "EXeatJyJGXVz"
   },
   "outputs": [],
   "source": [
    "criterion = nn.CrossEntropyLoss()\n",
    "optimizer = Adam(model.parameters(), lr=1e-4)\n",
    "scheduler = ReduceLROnPlateau(optimizer, 'min', patience=5)"
   ]
  },
  {
   "cell_type": "code",
   "execution_count": null,
   "id": "0KePNraTGUgw",
   "metadata": {
    "colab": {
     "base_uri": "https://localhost:8080/"
    },
    "id": "0KePNraTGUgw",
    "outputId": "0769f769-1cad-4537-d8e8-232270c42db5"
   },
   "outputs": [
    {
     "name": "stdout",
     "output_type": "stream",
     "text": [
      "Epoch (0/250):"
     ]
    },
    {
     "name": "stderr",
     "output_type": "stream",
     "text": []
    },
    {
     "name": "stdout",
     "output_type": "stream",
     "text": [
      " 0.53 s\n",
      "[INFO] Saving checkpoint\n",
      "accuracy = 0.35  loss = 1.8685134649276733  val_accuracy = 0.3858267716535433  val_loss = 2.054148813088735\n",
      "\n",
      "Epoch (1/250):"
     ]
    },
    {
     "name": "stderr",
     "output_type": "stream",
     "text": []
    },
    {
     "name": "stdout",
     "output_type": "stream",
     "text": [
      " 0.52 s\n",
      "[INFO] Saving checkpoint\n",
      "accuracy = 0.35  loss = 1.6262222528457642  val_accuracy = 0.3884514435695538  val_loss = 2.001406192779541\n",
      "\n",
      "Epoch (2/250):"
     ]
    },
    {
     "name": "stderr",
     "output_type": "stream",
     "text": []
    },
    {
     "name": "stdout",
     "output_type": "stream",
     "text": [
      " 0.50 s\n",
      "[INFO] Saving checkpoint\n",
      "accuracy = 0.45  loss = 1.5352104902267456  val_accuracy = 0.3858267716535433  val_loss = 1.961215188105901\n",
      "\n",
      "Epoch (3/250):"
     ]
    },
    {
     "name": "stderr",
     "output_type": "stream",
     "text": []
    },
    {
     "name": "stdout",
     "output_type": "stream",
     "text": [
      " 0.50 s\n",
      "[INFO] Saving checkpoint\n",
      "accuracy = 0.525  loss = 1.3242249488830566  val_accuracy = 0.3805774278215223  val_loss = 1.9533019463221233\n",
      "\n",
      "Epoch (4/250):"
     ]
    },
    {
     "name": "stderr",
     "output_type": "stream",
     "text": []
    },
    {
     "name": "stdout",
     "output_type": "stream",
     "text": [
      " 0.48 s\n",
      "[INFO] Saving checkpoint\n",
      "accuracy = 0.525  loss = 1.4042149782180786  val_accuracy = 0.3661417322834646  val_loss = 1.9345272779464722\n",
      "\n",
      "Epoch (5/250):"
     ]
    },
    {
     "name": "stderr",
     "output_type": "stream",
     "text": []
    },
    {
     "name": "stdout",
     "output_type": "stream",
     "text": [
      " 0.50 s\n",
      "[INFO] Saving checkpoint\n",
      "accuracy = 0.675  loss = 1.1048606634140015  val_accuracy = 0.36876640419947504  val_loss = 1.9297284682591755\n",
      "\n",
      "Epoch (6/250):"
     ]
    },
    {
     "name": "stderr",
     "output_type": "stream",
     "text": []
    },
    {
     "name": "stdout",
     "output_type": "stream",
     "text": [
      " 0.49 s\n",
      "[INFO] Saving checkpoint\n",
      "accuracy = 0.6  loss = 1.2094985246658325  val_accuracy = 0.38188976377952755  val_loss = 1.9168894588947296\n",
      "\n",
      "Epoch (7/250):"
     ]
    },
    {
     "name": "stderr",
     "output_type": "stream",
     "text": []
    },
    {
     "name": "stdout",
     "output_type": "stream",
     "text": [
      " 0.49 s\n",
      "accuracy = 0.675  loss = 1.1109367609024048  val_accuracy = 0.39763779527559057  val_loss = 1.9234680831432343\n",
      "\n",
      "Epoch (8/250):"
     ]
    },
    {
     "name": "stderr",
     "output_type": "stream",
     "text": []
    },
    {
     "name": "stdout",
     "output_type": "stream",
     "text": [
      " 0.49 s\n",
      "[INFO] Saving checkpoint\n",
      "accuracy = 0.725  loss = 1.0605576038360596  val_accuracy = 0.39501312335958005  val_loss = 1.9126664499441783\n",
      "\n",
      "Epoch (9/250):"
     ]
    },
    {
     "name": "stderr",
     "output_type": "stream",
     "text": []
    },
    {
     "name": "stdout",
     "output_type": "stream",
     "text": [
      " 0.47 s\n",
      "accuracy = 0.675  loss = 1.0606906414031982  val_accuracy = 0.3910761154855643  val_loss = 1.9150671859582264\n",
      "\n",
      "Epoch (10/250):"
     ]
    },
    {
     "name": "stderr",
     "output_type": "stream",
     "text": []
    },
    {
     "name": "stdout",
     "output_type": "stream",
     "text": [
      " 0.50 s\n",
      "accuracy = 0.825  loss = 0.8488283157348633  val_accuracy = 0.4146981627296588  val_loss = 1.913215845823288\n",
      "\n",
      "Epoch (11/250):"
     ]
    },
    {
     "name": "stderr",
     "output_type": "stream",
     "text": []
    },
    {
     "name": "stdout",
     "output_type": "stream",
     "text": [
      " 0.49 s\n",
      "[INFO] Saving checkpoint\n",
      "accuracy = 0.6  loss = 1.0019185543060303  val_accuracy = 0.41338582677165353  val_loss = 1.8864747285842896\n",
      "\n",
      "Epoch (12/250):"
     ]
    },
    {
     "name": "stderr",
     "output_type": "stream",
     "text": []
    },
    {
     "name": "stdout",
     "output_type": "stream",
     "text": [
      " 0.47 s\n",
      "accuracy = 0.75  loss = 0.8465863466262817  val_accuracy = 0.4225721784776903  val_loss = 1.8935059309005737\n",
      "\n",
      "Epoch (13/250):"
     ]
    },
    {
     "name": "stderr",
     "output_type": "stream",
     "text": []
    },
    {
     "name": "stdout",
     "output_type": "stream",
     "text": [
      " 0.49 s\n",
      "[INFO] Saving checkpoint\n",
      "accuracy = 0.675  loss = 0.9885022044181824  val_accuracy = 0.431758530183727  val_loss = 1.8720890084902446\n",
      "\n",
      "Epoch (14/250):"
     ]
    },
    {
     "name": "stderr",
     "output_type": "stream",
     "text": []
    },
    {
     "name": "stdout",
     "output_type": "stream",
     "text": [
      " 0.48 s\n",
      "[INFO] Saving checkpoint\n",
      "accuracy = 0.75  loss = 0.7502049207687378  val_accuracy = 0.4553805774278215  val_loss = 1.857382744550705\n",
      "\n",
      "Epoch (15/250):"
     ]
    },
    {
     "name": "stderr",
     "output_type": "stream",
     "text": []
    },
    {
     "name": "stdout",
     "output_type": "stream",
     "text": [
      " 0.48 s\n",
      "[INFO] Saving checkpoint\n",
      "accuracy = 0.875  loss = 0.7081617116928101  val_accuracy = 0.484251968503937  val_loss = 1.844153771797816\n",
      "\n",
      "Epoch (16/250):"
     ]
    },
    {
     "name": "stderr",
     "output_type": "stream",
     "text": []
    },
    {
     "name": "stdout",
     "output_type": "stream",
     "text": [
      " 0.48 s\n",
      "[INFO] Saving checkpoint\n",
      "accuracy = 0.725  loss = 0.7499655485153198  val_accuracy = 0.5459317585301837  val_loss = 1.8371375898520153\n",
      "\n",
      "Epoch (17/250):"
     ]
    },
    {
     "name": "stderr",
     "output_type": "stream",
     "text": []
    },
    {
     "name": "stdout",
     "output_type": "stream",
     "text": [
      " 0.47 s\n",
      "[INFO] Saving checkpoint\n",
      "accuracy = 0.8  loss = 0.7391335964202881  val_accuracy = 0.5511811023622047  val_loss = 1.833258718252182\n",
      "\n",
      "Epoch (18/250):"
     ]
    },
    {
     "name": "stderr",
     "output_type": "stream",
     "text": []
    },
    {
     "name": "stdout",
     "output_type": "stream",
     "text": [
      " 0.46 s\n",
      "[INFO] Saving checkpoint\n",
      "accuracy = 0.775  loss = 0.6490997672080994  val_accuracy = 0.5695538057742782  val_loss = 1.8308399418989818\n",
      "\n",
      "Epoch (19/250):"
     ]
    },
    {
     "name": "stderr",
     "output_type": "stream",
     "text": []
    },
    {
     "name": "stdout",
     "output_type": "stream",
     "text": [
      " 0.48 s\n",
      "[INFO] Saving checkpoint\n",
      "accuracy = 0.825  loss = 0.7055893540382385  val_accuracy = 0.5341207349081365  val_loss = 1.81932932138443\n",
      "\n",
      "Epoch (20/250):"
     ]
    },
    {
     "name": "stderr",
     "output_type": "stream",
     "text": []
    },
    {
     "name": "stdout",
     "output_type": "stream",
     "text": [
      " 0.47 s\n",
      "[INFO] Saving checkpoint\n",
      "accuracy = 0.85  loss = 0.5792377591133118  val_accuracy = 0.5275590551181102  val_loss = 1.7799886961778004\n",
      "\n",
      "Epoch (21/250):"
     ]
    },
    {
     "name": "stderr",
     "output_type": "stream",
     "text": []
    },
    {
     "name": "stdout",
     "output_type": "stream",
     "text": [
      " 0.49 s\n",
      "accuracy = 0.825  loss = 0.6288360953330994  val_accuracy = 0.5616797900262467  val_loss = 1.8226336240768433\n",
      "\n",
      "Epoch (22/250):"
     ]
    },
    {
     "name": "stderr",
     "output_type": "stream",
     "text": []
    },
    {
     "name": "stdout",
     "output_type": "stream",
     "text": [
      " 0.49 s\n",
      "accuracy = 0.8  loss = 0.6134260892868042  val_accuracy = 0.5393700787401575  val_loss = 1.786725252866745\n",
      "\n",
      "Epoch (23/250):"
     ]
    },
    {
     "name": "stderr",
     "output_type": "stream",
     "text": []
    },
    {
     "name": "stdout",
     "output_type": "stream",
     "text": [
      " 0.47 s\n",
      "[INFO] Saving checkpoint\n",
      "accuracy = 0.85  loss = 0.6217590570449829  val_accuracy = 0.5590551181102362  val_loss = 1.763011356194814\n",
      "\n",
      "Epoch (24/250):"
     ]
    },
    {
     "name": "stderr",
     "output_type": "stream",
     "text": []
    },
    {
     "name": "stdout",
     "output_type": "stream",
     "text": [
      " 0.49 s\n",
      "accuracy = 0.875  loss = 0.4837877154350281  val_accuracy = 0.5065616797900262  val_loss = 1.7806577881177266\n",
      "\n",
      "Epoch (25/250):"
     ]
    },
    {
     "name": "stderr",
     "output_type": "stream",
     "text": []
    },
    {
     "name": "stdout",
     "output_type": "stream",
     "text": [
      " 0.47 s\n",
      "accuracy = 0.85  loss = 0.4012376666069031  val_accuracy = 0.5590551181102362  val_loss = 1.776725172996521\n",
      "\n",
      "Epoch (26/250):"
     ]
    },
    {
     "name": "stderr",
     "output_type": "stream",
     "text": []
    },
    {
     "name": "stdout",
     "output_type": "stream",
     "text": [
      " 0.47 s\n",
      "[INFO] Saving checkpoint\n",
      "accuracy = 0.825  loss = 0.43615564703941345  val_accuracy = 0.531496062992126  val_loss = 1.7616690695285797\n",
      "\n",
      "Epoch (27/250):"
     ]
    },
    {
     "name": "stderr",
     "output_type": "stream",
     "text": []
    },
    {
     "name": "stdout",
     "output_type": "stream",
     "text": [
      " 0.46 s\n",
      "accuracy = 0.95  loss = 0.3669779598712921  val_accuracy = 0.5485564304461942  val_loss = 1.7669397095839183\n",
      "\n",
      "Epoch (28/250):"
     ]
    },
    {
     "name": "stderr",
     "output_type": "stream",
     "text": []
    },
    {
     "name": "stdout",
     "output_type": "stream",
     "text": [
      " 0.48 s\n",
      "[INFO] Saving checkpoint\n",
      "accuracy = 0.775  loss = 0.5961989164352417  val_accuracy = 0.5997375328083989  val_loss = 1.7510198652744293\n",
      "\n",
      "Epoch (29/250):"
     ]
    },
    {
     "name": "stderr",
     "output_type": "stream",
     "text": []
    },
    {
     "name": "stdout",
     "output_type": "stream",
     "text": [
      " 0.47 s\n",
      "accuracy = 0.975  loss = 0.24940255284309387  val_accuracy = 0.536745406824147  val_loss = 1.763136972983678\n",
      "\n",
      "Epoch (30/250):"
     ]
    },
    {
     "name": "stderr",
     "output_type": "stream",
     "text": []
    },
    {
     "name": "stdout",
     "output_type": "stream",
     "text": [
      " 0.48 s\n",
      "[INFO] Saving checkpoint\n",
      "accuracy = 0.875  loss = 0.3848554491996765  val_accuracy = 0.5905511811023622  val_loss = 1.7311590611934662\n",
      "\n",
      "Epoch (31/250):"
     ]
    },
    {
     "name": "stderr",
     "output_type": "stream",
     "text": []
    },
    {
     "name": "stdout",
     "output_type": "stream",
     "text": [
      " 0.48 s\n",
      "accuracy = 0.925  loss = 0.39383143186569214  val_accuracy = 0.531496062992126  val_loss = 1.770919144153595\n",
      "\n",
      "Epoch (32/250):"
     ]
    },
    {
     "name": "stderr",
     "output_type": "stream",
     "text": []
    },
    {
     "name": "stdout",
     "output_type": "stream",
     "text": [
      " 0.48 s\n",
      "accuracy = 0.925  loss = 0.3800293803215027  val_accuracy = 0.5813648293963255  val_loss = 1.7499607801437378\n",
      "\n",
      "Epoch (33/250):"
     ]
    },
    {
     "name": "stderr",
     "output_type": "stream",
     "text": []
    },
    {
     "name": "stdout",
     "output_type": "stream",
     "text": [
      " 0.49 s\n",
      "accuracy = 0.875  loss = 0.3700985908508301  val_accuracy = 0.5538057742782152  val_loss = 1.7810248136520386\n",
      "\n",
      "Epoch (34/250):"
     ]
    },
    {
     "name": "stderr",
     "output_type": "stream",
     "text": []
    },
    {
     "name": "stdout",
     "output_type": "stream",
     "text": [
      " 0.48 s\n",
      "[INFO] Saving checkpoint\n",
      "accuracy = 0.9  loss = 0.3092319369316101  val_accuracy = 0.5813648293963255  val_loss = 1.7272006173928578\n",
      "\n",
      "Epoch (35/250):"
     ]
    },
    {
     "name": "stderr",
     "output_type": "stream",
     "text": []
    },
    {
     "name": "stdout",
     "output_type": "stream",
     "text": [
      " 0.47 s\n",
      "accuracy = 0.925  loss = 0.2758024334907532  val_accuracy = 0.562992125984252  val_loss = 1.7352551917235057\n",
      "\n",
      "Epoch (36/250):"
     ]
    },
    {
     "name": "stderr",
     "output_type": "stream",
     "text": []
    },
    {
     "name": "stdout",
     "output_type": "stream",
     "text": [
      " 0.49 s\n",
      "accuracy = 0.975  loss = 0.20784911513328552  val_accuracy = 0.5131233595800525  val_loss = 1.7501669824123383\n",
      "\n",
      "Epoch (37/250):"
     ]
    },
    {
     "name": "stderr",
     "output_type": "stream",
     "text": []
    },
    {
     "name": "stdout",
     "output_type": "stream",
     "text": [
      " 0.47 s\n",
      "accuracy = 1.0  loss = 0.15792451798915863  val_accuracy = 0.5511811023622047  val_loss = 1.7701544264952342\n",
      "\n",
      "Epoch (38/250):"
     ]
    },
    {
     "name": "stderr",
     "output_type": "stream",
     "text": []
    },
    {
     "name": "stdout",
     "output_type": "stream",
     "text": [
      " 0.48 s\n",
      "accuracy = 0.95  loss = 0.20794722437858582  val_accuracy = 0.5091863517060368  val_loss = 1.7496849596500397\n",
      "\n",
      "Epoch (39/250):"
     ]
    },
    {
     "name": "stderr",
     "output_type": "stream",
     "text": []
    },
    {
     "name": "stdout",
     "output_type": "stream",
     "text": [
      " 0.50 s\n",
      "accuracy = 0.975  loss = 0.16244849562644958  val_accuracy = 0.44750656167979  val_loss = 1.765333314736684\n",
      "\n",
      "Epoch (40/250):"
     ]
    },
    {
     "name": "stderr",
     "output_type": "stream",
     "text": []
    },
    {
     "name": "stdout",
     "output_type": "stream",
     "text": [
      " 0.48 s\n",
      "accuracy = 0.95  loss = 0.2751108705997467  val_accuracy = 0.452755905511811  val_loss = 1.7807143727938335\n",
      "\n",
      "Epoch (41/250):"
     ]
    },
    {
     "name": "stderr",
     "output_type": "stream",
     "text": []
    },
    {
     "name": "stdout",
     "output_type": "stream",
     "text": [
      " 0.46 s\n",
      "accuracy = 1.0  loss = 0.0993381217122078  val_accuracy = 0.48293963254593175  val_loss = 1.7541999320189159\n",
      "\n",
      "Epoch (42/250):"
     ]
    },
    {
     "name": "stderr",
     "output_type": "stream",
     "text": []
    },
    {
     "name": "stdout",
     "output_type": "stream",
     "text": [
      " 0.49 s\n",
      "accuracy = 1.0  loss = 0.12786389887332916  val_accuracy = 0.5275590551181102  val_loss = 1.728048950433731\n",
      "\n",
      "Epoch (43/250):"
     ]
    },
    {
     "name": "stderr",
     "output_type": "stream",
     "text": []
    },
    {
     "name": "stdout",
     "output_type": "stream",
     "text": [
      " 0.47 s\n",
      "accuracy = 0.925  loss = 0.27104517817497253  val_accuracy = 0.49343832020997375  val_loss = 1.7390487293402355\n",
      "\n",
      "Epoch (44/250):"
     ]
    },
    {
     "name": "stderr",
     "output_type": "stream",
     "text": []
    },
    {
     "name": "stdout",
     "output_type": "stream",
     "text": [
      " 0.49 s\n",
      "accuracy = 0.95  loss = 0.16762688755989075  val_accuracy = 0.5183727034120735  val_loss = 1.7296023468176525\n",
      "\n",
      "Epoch (45/250):"
     ]
    },
    {
     "name": "stderr",
     "output_type": "stream",
     "text": []
    },
    {
     "name": "stdout",
     "output_type": "stream",
     "text": [
      " 0.48 s\n",
      "accuracy = 0.975  loss = 0.13781340420246124  val_accuracy = 0.5078740157480315  val_loss = 1.7391759256521861\n",
      "\n",
      "Epoch (46/250):"
     ]
    },
    {
     "name": "stderr",
     "output_type": "stream",
     "text": []
    },
    {
     "name": "stdout",
     "output_type": "stream",
     "text": [
      " 0.48 s\n",
      "accuracy = 1.0  loss = 0.15389224886894226  val_accuracy = 0.49606299212598426  val_loss = 1.7405367692311604\n",
      "\n",
      "Epoch (47/250):"
     ]
    },
    {
     "name": "stderr",
     "output_type": "stream",
     "text": []
    },
    {
     "name": "stdout",
     "output_type": "stream",
     "text": [
      " 0.49 s\n",
      "accuracy = 0.975  loss = 0.16332128643989563  val_accuracy = 0.505249343832021  val_loss = 1.7471555570761363\n",
      "\n",
      "Epoch (48/250):"
     ]
    },
    {
     "name": "stderr",
     "output_type": "stream",
     "text": []
    },
    {
     "name": "stdout",
     "output_type": "stream",
     "text": [
      " 0.48 s\n",
      "accuracy = 0.925  loss = 0.26060840487480164  val_accuracy = 0.48031496062992124  val_loss = 1.7563926080862682\n",
      "\n",
      "Epoch (49/250):"
     ]
    },
    {
     "name": "stderr",
     "output_type": "stream",
     "text": []
    },
    {
     "name": "stdout",
     "output_type": "stream",
     "text": [
      " 0.49 s\n",
      "accuracy = 0.975  loss = 0.14464125037193298  val_accuracy = 0.5183727034120735  val_loss = 1.7477181951204936\n",
      "\n",
      "Epoch (50/250):"
     ]
    },
    {
     "name": "stderr",
     "output_type": "stream",
     "text": []
    },
    {
     "name": "stdout",
     "output_type": "stream",
     "text": [
      " 0.49 s\n",
      "accuracy = 0.975  loss = 0.14827799797058105  val_accuracy = 0.5013123359580053  val_loss = 1.7449571291605632\n",
      "\n",
      "Epoch (51/250):"
     ]
    },
    {
     "name": "stderr",
     "output_type": "stream",
     "text": []
    },
    {
     "name": "stdout",
     "output_type": "stream",
     "text": [
      " 0.49 s\n",
      "accuracy = 0.95  loss = 0.21988539397716522  val_accuracy = 0.5065616797900262  val_loss = 1.7412219643592834\n",
      "\n",
      "Epoch (52/250):"
     ]
    },
    {
     "name": "stderr",
     "output_type": "stream",
     "text": []
    },
    {
     "name": "stdout",
     "output_type": "stream",
     "text": [
      " 0.51 s\n",
      "accuracy = 1.0  loss = 0.09648121893405914  val_accuracy = 0.5039370078740157  val_loss = 1.7411787907282512\n",
      "\n",
      "Epoch (53/250):"
     ]
    },
    {
     "name": "stderr",
     "output_type": "stream",
     "text": []
    },
    {
     "name": "stdout",
     "output_type": "stream",
     "text": [
      " 0.48 s\n",
      "accuracy = 0.975  loss = 0.13334618508815765  val_accuracy = 0.484251968503937  val_loss = 1.7545588215192158\n",
      "\n",
      "Epoch (54/250):"
     ]
    },
    {
     "name": "stderr",
     "output_type": "stream",
     "text": []
    },
    {
     "name": "stdout",
     "output_type": "stream",
     "text": [
      " 0.49 s\n",
      "accuracy = 0.95  loss = 0.22520804405212402  val_accuracy = 0.5144356955380578  val_loss = 1.755476862192154\n",
      "\n",
      "Epoch (55/250):"
     ]
    },
    {
     "name": "stderr",
     "output_type": "stream",
     "text": []
    },
    {
     "name": "stdout",
     "output_type": "stream",
     "text": [
      " 0.48 s\n",
      "accuracy = 0.925  loss = 0.26798954606056213  val_accuracy = 0.49606299212598426  val_loss = 1.7534580131371815\n",
      "\n",
      "Epoch (56/250):"
     ]
    },
    {
     "name": "stderr",
     "output_type": "stream",
     "text": []
    },
    {
     "name": "stdout",
     "output_type": "stream",
     "text": [
      " 0.50 s\n",
      "accuracy = 0.975  loss = 0.15395230054855347  val_accuracy = 0.48556430446194226  val_loss = 1.7550071080525715\n",
      "\n",
      "Epoch (57/250):"
     ]
    },
    {
     "name": "stderr",
     "output_type": "stream",
     "text": []
    },
    {
     "name": "stdout",
     "output_type": "stream",
     "text": [
      " 0.48 s\n",
      "accuracy = 0.95  loss = 0.1932348906993866  val_accuracy = 0.5078740157480315  val_loss = 1.7425493995348613\n",
      "\n",
      "Epoch (58/250):"
     ]
    },
    {
     "name": "stderr",
     "output_type": "stream",
     "text": []
    },
    {
     "name": "stdout",
     "output_type": "stream",
     "text": [
      " 0.49 s\n",
      "accuracy = 1.0  loss = 0.16728153824806213  val_accuracy = 0.5039370078740157  val_loss = 1.7452121078968048\n",
      "\n",
      "Epoch (59/250):"
     ]
    },
    {
     "name": "stderr",
     "output_type": "stream",
     "text": []
    },
    {
     "name": "stdout",
     "output_type": "stream",
     "text": [
      " 0.50 s\n",
      "accuracy = 1.0  loss = 0.09151821583509445  val_accuracy = 0.5026246719160105  val_loss = 1.7390350997447968\n",
      "\n",
      "Epoch (60/250):"
     ]
    },
    {
     "name": "stderr",
     "output_type": "stream",
     "text": []
    },
    {
     "name": "stdout",
     "output_type": "stream",
     "text": [
      " 0.48 s\n",
      "accuracy = 0.975  loss = 0.1432696282863617  val_accuracy = 0.4658792650918635  val_loss = 1.7554903030395508\n",
      "\n",
      "Epoch (61/250):"
     ]
    },
    {
     "name": "stderr",
     "output_type": "stream",
     "text": []
    },
    {
     "name": "stdout",
     "output_type": "stream",
     "text": [
      " 0.47 s\n",
      "accuracy = 0.95  loss = 0.1856681853532791  val_accuracy = 0.49081364829396323  val_loss = 1.7497905492782593\n",
      "\n",
      "Epoch (62/250):"
     ]
    },
    {
     "name": "stderr",
     "output_type": "stream",
     "text": []
    },
    {
     "name": "stdout",
     "output_type": "stream",
     "text": [
      " 0.50 s\n",
      "accuracy = 1.0  loss = 0.09676020592451096  val_accuracy = 0.520997375328084  val_loss = 1.7422524392604828\n",
      "\n",
      "Epoch (63/250):"
     ]
    },
    {
     "name": "stderr",
     "output_type": "stream",
     "text": []
    },
    {
     "name": "stdout",
     "output_type": "stream",
     "text": [
      " 0.48 s\n",
      "accuracy = 0.975  loss = 0.1568901240825653  val_accuracy = 0.48293963254593175  val_loss = 1.7466689745585124\n",
      "\n",
      "Epoch (64/250):"
     ]
    },
    {
     "name": "stderr",
     "output_type": "stream",
     "text": []
    },
    {
     "name": "stdout",
     "output_type": "stream",
     "text": [
      " 0.50 s\n",
      "accuracy = 1.0  loss = 0.11216101795434952  val_accuracy = 0.43832020997375326  val_loss = 1.7634242177009583\n",
      "\n",
      "Epoch (65/250):"
     ]
    },
    {
     "name": "stderr",
     "output_type": "stream",
     "text": []
    },
    {
     "name": "stdout",
     "output_type": "stream",
     "text": [
      " 0.47 s\n",
      "accuracy = 1.0  loss = 0.09246411174535751  val_accuracy = 0.4776902887139108  val_loss = 1.7588822146256764\n",
      "\n",
      "Epoch (66/250):"
     ]
    },
    {
     "name": "stderr",
     "output_type": "stream",
     "text": []
    },
    {
     "name": "stdout",
     "output_type": "stream",
     "text": [
      " 0.49 s\n",
      "accuracy = 1.0  loss = 0.08777032792568207  val_accuracy = 0.5131233595800525  val_loss = 1.7316586176554363\n",
      "\n",
      "Epoch (67/250):"
     ]
    },
    {
     "name": "stderr",
     "output_type": "stream",
     "text": []
    },
    {
     "name": "stdout",
     "output_type": "stream",
     "text": [
      " 0.48 s\n",
      "accuracy = 1.0  loss = 0.11944892257452011  val_accuracy = 0.48293963254593175  val_loss = 1.7523187895615895\n",
      "\n",
      "Epoch (68/250):"
     ]
    },
    {
     "name": "stderr",
     "output_type": "stream",
     "text": []
    },
    {
     "name": "stdout",
     "output_type": "stream",
     "text": [
      " 0.51 s\n",
      "accuracy = 0.975  loss = 0.1234138160943985  val_accuracy = 0.48556430446194226  val_loss = 1.7485921283562977\n",
      "\n",
      "Epoch (69/250):"
     ]
    },
    {
     "name": "stderr",
     "output_type": "stream",
     "text": []
    },
    {
     "name": "stdout",
     "output_type": "stream",
     "text": [
      " 0.47 s\n",
      "accuracy = 0.975  loss = 0.1567177176475525  val_accuracy = 0.49868766404199477  val_loss = 1.7536970575650532\n",
      "\n",
      "Epoch (70/250):"
     ]
    },
    {
     "name": "stderr",
     "output_type": "stream",
     "text": []
    },
    {
     "name": "stdout",
     "output_type": "stream",
     "text": [
      " 0.48 s\n",
      "accuracy = 0.975  loss = 0.1100163459777832  val_accuracy = 0.4816272965879265  val_loss = 1.7487615247567494\n",
      "\n",
      "Epoch (71/250):"
     ]
    },
    {
     "name": "stderr",
     "output_type": "stream",
     "text": []
    },
    {
     "name": "stdout",
     "output_type": "stream",
     "text": [
      " 0.48 s\n",
      "accuracy = 0.975  loss = 0.23298995196819305  val_accuracy = 0.4881889763779528  val_loss = 1.7599288721879323\n",
      "\n",
      "Epoch (72/250):"
     ]
    },
    {
     "name": "stderr",
     "output_type": "stream",
     "text": []
    },
    {
     "name": "stdout",
     "output_type": "stream",
     "text": [
      " 0.50 s\n",
      "accuracy = 1.0  loss = 0.13049784302711487  val_accuracy = 0.47244094488188976  val_loss = 1.759006788333257\n",
      "\n",
      "Epoch (73/250):"
     ]
    },
    {
     "name": "stderr",
     "output_type": "stream",
     "text": []
    },
    {
     "name": "stdout",
     "output_type": "stream",
     "text": [
      " 0.48 s\n",
      "accuracy = 1.0  loss = 0.09499960392713547  val_accuracy = 0.47244094488188976  val_loss = 1.7529841661453247\n",
      "\n",
      "Epoch (74/250):"
     ]
    },
    {
     "name": "stderr",
     "output_type": "stream",
     "text": []
    },
    {
     "name": "stdout",
     "output_type": "stream",
     "text": [
      " 0.51 s\n",
      "accuracy = 1.0  loss = 0.10033619403839111  val_accuracy = 0.505249343832021  val_loss = 1.7516415615876515\n",
      "\n",
      "Epoch (75/250):"
     ]
    },
    {
     "name": "stderr",
     "output_type": "stream",
     "text": []
    },
    {
     "name": "stdout",
     "output_type": "stream",
     "text": [
      " 0.49 s\n",
      "accuracy = 1.0  loss = 0.12576159834861755  val_accuracy = 0.5144356955380578  val_loss = 1.7385768592357635\n",
      "\n",
      "Epoch (76/250):"
     ]
    },
    {
     "name": "stderr",
     "output_type": "stream",
     "text": []
    },
    {
     "name": "stdout",
     "output_type": "stream",
     "text": [
      " 0.49 s\n",
      "accuracy = 0.925  loss = 0.22425469756126404  val_accuracy = 0.5131233595800525  val_loss = 1.7399088044961293\n",
      "\n",
      "Epoch (77/250):"
     ]
    },
    {
     "name": "stderr",
     "output_type": "stream",
     "text": []
    },
    {
     "name": "stdout",
     "output_type": "stream",
     "text": [
      " 0.50 s\n",
      "accuracy = 1.0  loss = 0.0978165715932846  val_accuracy = 0.5026246719160105  val_loss = 1.7409929633140564\n",
      "\n",
      "Epoch (78/250):"
     ]
    },
    {
     "name": "stderr",
     "output_type": "stream",
     "text": []
    },
    {
     "name": "stdout",
     "output_type": "stream",
     "text": [
      " 0.48 s\n",
      "accuracy = 0.975  loss = 0.23545654118061066  val_accuracy = 0.49343832020997375  val_loss = 1.7428701917330425\n",
      "\n",
      "Epoch (79/250):"
     ]
    },
    {
     "name": "stderr",
     "output_type": "stream",
     "text": []
    },
    {
     "name": "stdout",
     "output_type": "stream",
     "text": [
      " 0.49 s\n",
      "accuracy = 1.0  loss = 0.08027137815952301  val_accuracy = 0.49606299212598426  val_loss = 1.753978321949641\n",
      "\n",
      "Epoch (80/250):"
     ]
    },
    {
     "name": "stderr",
     "output_type": "stream",
     "text": []
    },
    {
     "name": "stdout",
     "output_type": "stream",
     "text": [
      " 0.49 s\n",
      "accuracy = 0.975  loss = 0.13774287700653076  val_accuracy = 0.49868766404199477  val_loss = 1.7407239973545074\n",
      "\n",
      "Epoch (81/250):"
     ]
    },
    {
     "name": "stderr",
     "output_type": "stream",
     "text": []
    },
    {
     "name": "stdout",
     "output_type": "stream",
     "text": [
      " 0.47 s\n",
      "accuracy = 0.925  loss = 0.25155436992645264  val_accuracy = 0.5091863517060368  val_loss = 1.7457719147205353\n",
      "\n",
      "Epoch (82/250):"
     ]
    },
    {
     "name": "stderr",
     "output_type": "stream",
     "text": []
    },
    {
     "name": "stdout",
     "output_type": "stream",
     "text": [
      " 0.47 s\n",
      "accuracy = 0.925  loss = 0.297346293926239  val_accuracy = 0.48556430446194226  val_loss = 1.7511920134226482\n",
      "\n",
      "Epoch (83/250):"
     ]
    },
    {
     "name": "stderr",
     "output_type": "stream",
     "text": []
    },
    {
     "name": "stdout",
     "output_type": "stream",
     "text": [
      " 0.49 s\n",
      "accuracy = 0.95  loss = 0.1879355013370514  val_accuracy = 0.494750656167979  val_loss = 1.7473264932632446\n",
      "\n",
      "Epoch (84/250):"
     ]
    },
    {
     "name": "stderr",
     "output_type": "stream",
     "text": []
    },
    {
     "name": "stdout",
     "output_type": "stream",
     "text": [
      " 0.48 s\n",
      "[INFO] Saving checkpoint\n",
      "accuracy = 0.95  loss = 0.2594931423664093  val_accuracy = 0.531496062992126  val_loss = 1.7232764661312103\n",
      "\n",
      "Epoch (85/250):"
     ]
    },
    {
     "name": "stderr",
     "output_type": "stream",
     "text": []
    },
    {
     "name": "stdout",
     "output_type": "stream",
     "text": [
      " 0.50 s\n",
      "accuracy = 0.95  loss = 0.15049055218696594  val_accuracy = 0.4973753280839895  val_loss = 1.7495562434196472\n",
      "\n",
      "Epoch (86/250):"
     ]
    },
    {
     "name": "stderr",
     "output_type": "stream",
     "text": []
    },
    {
     "name": "stdout",
     "output_type": "stream",
     "text": [
      " 0.48 s\n",
      "accuracy = 0.975  loss = 0.12565460801124573  val_accuracy = 0.5091863517060368  val_loss = 1.747317334016164\n",
      "\n",
      "Epoch (87/250):"
     ]
    },
    {
     "name": "stderr",
     "output_type": "stream",
     "text": []
    },
    {
     "name": "stdout",
     "output_type": "stream",
     "text": [
      " 0.48 s\n",
      "accuracy = 0.975  loss = 0.27421310544013977  val_accuracy = 0.45144356955380577  val_loss = 1.7648998200893402\n",
      "\n",
      "Epoch (88/250):"
     ]
    },
    {
     "name": "stderr",
     "output_type": "stream",
     "text": []
    },
    {
     "name": "stdout",
     "output_type": "stream",
     "text": [
      " 0.47 s\n",
      "accuracy = 0.95  loss = 0.1782805323600769  val_accuracy = 0.510498687664042  val_loss = 1.755903422832489\n",
      "\n",
      "Epoch (89/250):"
     ]
    },
    {
     "name": "stderr",
     "output_type": "stream",
     "text": []
    },
    {
     "name": "stdout",
     "output_type": "stream",
     "text": [
      " 0.48 s\n",
      "accuracy = 0.95  loss = 0.13381657004356384  val_accuracy = 0.47244094488188976  val_loss = 1.7615635991096497\n",
      "\n",
      "Epoch (90/250):"
     ]
    },
    {
     "name": "stderr",
     "output_type": "stream",
     "text": []
    },
    {
     "name": "stdout",
     "output_type": "stream",
     "text": [
      " 0.48 s\n",
      "accuracy = 1.0  loss = 0.12197791039943695  val_accuracy = 0.4763779527559055  val_loss = 1.7529486616452534\n",
      "\n",
      "Epoch (91/250):"
     ]
    },
    {
     "name": "stderr",
     "output_type": "stream",
     "text": []
    },
    {
     "name": "stdout",
     "output_type": "stream",
     "text": [
      " 0.48 s\n",
      "accuracy = 0.975  loss = 0.14797943830490112  val_accuracy = 0.49081364829396323  val_loss = 1.74366690715154\n",
      "\n",
      "Epoch (92/250):"
     ]
    },
    {
     "name": "stderr",
     "output_type": "stream",
     "text": []
    },
    {
     "name": "stdout",
     "output_type": "stream",
     "text": [
      " 0.47 s\n",
      "accuracy = 0.95  loss = 0.15928509831428528  val_accuracy = 0.473753280839895  val_loss = 1.7547110418478649\n",
      "\n",
      "Epoch (93/250):"
     ]
    },
    {
     "name": "stderr",
     "output_type": "stream",
     "text": []
    },
    {
     "name": "stdout",
     "output_type": "stream",
     "text": [
      " 0.49 s\n",
      "accuracy = 1.0  loss = 0.10936363786458969  val_accuracy = 0.47506561679790027  val_loss = 1.7513050536314647\n",
      "\n",
      "Epoch (94/250):"
     ]
    },
    {
     "name": "stderr",
     "output_type": "stream",
     "text": []
    },
    {
     "name": "stdout",
     "output_type": "stream",
     "text": [
      " 0.48 s\n",
      "accuracy = 1.0  loss = 0.1021292582154274  val_accuracy = 0.47112860892388453  val_loss = 1.761357804139455\n",
      "\n",
      "Epoch (95/250):"
     ]
    },
    {
     "name": "stderr",
     "output_type": "stream",
     "text": []
    },
    {
     "name": "stdout",
     "output_type": "stream",
     "text": [
      " 0.50 s\n",
      "accuracy = 0.975  loss = 0.18238891661167145  val_accuracy = 0.49606299212598426  val_loss = 1.7513009508450825\n",
      "\n",
      "Epoch (96/250):"
     ]
    },
    {
     "name": "stderr",
     "output_type": "stream",
     "text": []
    },
    {
     "name": "stdout",
     "output_type": "stream",
     "text": [
      " 0.46 s\n",
      "accuracy = 0.975  loss = 0.13156870007514954  val_accuracy = 0.5  val_loss = 1.7504522502422333\n",
      "\n",
      "Epoch (97/250):"
     ]
    },
    {
     "name": "stderr",
     "output_type": "stream",
     "text": []
    },
    {
     "name": "stdout",
     "output_type": "stream",
     "text": [
      " 0.50 s\n",
      "accuracy = 1.0  loss = 0.11739238351583481  val_accuracy = 0.515748031496063  val_loss = 1.7319799462954204\n",
      "\n",
      "Epoch (98/250):"
     ]
    },
    {
     "name": "stderr",
     "output_type": "stream",
     "text": []
    },
    {
     "name": "stdout",
     "output_type": "stream",
     "text": [
      " 0.47 s\n",
      "accuracy = 0.95  loss = 0.16628265380859375  val_accuracy = 0.4921259842519685  val_loss = 1.7468758722146351\n",
      "\n",
      "Epoch (99/250):"
     ]
    },
    {
     "name": "stderr",
     "output_type": "stream",
     "text": []
    },
    {
     "name": "stdout",
     "output_type": "stream",
     "text": [
      " 0.48 s\n",
      "accuracy = 0.95  loss = 0.22692258656024933  val_accuracy = 0.48556430446194226  val_loss = 1.7543146808942158\n",
      "\n",
      "Epoch (100/250):"
     ]
    },
    {
     "name": "stderr",
     "output_type": "stream",
     "text": []
    },
    {
     "name": "stdout",
     "output_type": "stream",
     "text": [
      " 0.47 s\n",
      "accuracy = 1.0  loss = 0.12309849262237549  val_accuracy = 0.5131233595800525  val_loss = 1.7351259291172028\n",
      "\n",
      "Epoch (101/250):"
     ]
    },
    {
     "name": "stderr",
     "output_type": "stream",
     "text": []
    },
    {
     "name": "stdout",
     "output_type": "stream",
     "text": [
      " 0.48 s\n",
      "accuracy = 0.975  loss = 0.2334560602903366  val_accuracy = 0.489501312335958  val_loss = 1.7362558543682098\n",
      "\n",
      "Epoch (102/250):"
     ]
    },
    {
     "name": "stderr",
     "output_type": "stream",
     "text": []
    },
    {
     "name": "stdout",
     "output_type": "stream",
     "text": [
      " 0.48 s\n",
      "accuracy = 0.975  loss = 0.15069767832756042  val_accuracy = 0.45144356955380577  val_loss = 1.7660651206970215\n",
      "\n",
      "Epoch (103/250):"
     ]
    },
    {
     "name": "stderr",
     "output_type": "stream",
     "text": []
    },
    {
     "name": "stdout",
     "output_type": "stream",
     "text": [
      " 0.48 s\n",
      "accuracy = 0.95  loss = 0.16583094000816345  val_accuracy = 0.5275590551181102  val_loss = 1.7304595112800598\n",
      "\n",
      "Epoch (104/250):"
     ]
    },
    {
     "name": "stderr",
     "output_type": "stream",
     "text": []
    },
    {
     "name": "stdout",
     "output_type": "stream",
     "text": [
      " 0.49 s\n",
      "accuracy = 0.95  loss = 0.16722582280635834  val_accuracy = 0.5249343832020997  val_loss = 1.7284038563569386\n",
      "\n",
      "Epoch (105/250):"
     ]
    },
    {
     "name": "stderr",
     "output_type": "stream",
     "text": []
    },
    {
     "name": "stdout",
     "output_type": "stream",
     "text": [
      " 0.48 s\n",
      "accuracy = 1.0  loss = 0.13617001473903656  val_accuracy = 0.45931758530183725  val_loss = 1.760963906844457\n",
      "\n",
      "Epoch (106/250):"
     ]
    },
    {
     "name": "stderr",
     "output_type": "stream",
     "text": []
    },
    {
     "name": "stdout",
     "output_type": "stream",
     "text": [
      " 0.49 s\n",
      "accuracy = 0.975  loss = 0.13299618661403656  val_accuracy = 0.48293963254593175  val_loss = 1.7519083420435588\n",
      "\n",
      "Epoch (107/250):"
     ]
    },
    {
     "name": "stderr",
     "output_type": "stream",
     "text": []
    },
    {
     "name": "stdout",
     "output_type": "stream",
     "text": [
      " 0.49 s\n",
      "accuracy = 1.0  loss = 0.11926152557134628  val_accuracy = 0.5170603674540682  val_loss = 1.7317340075969696\n",
      "\n",
      "Epoch (108/250):"
     ]
    },
    {
     "name": "stderr",
     "output_type": "stream",
     "text": []
    },
    {
     "name": "stdout",
     "output_type": "stream",
     "text": [
      " 0.50 s\n",
      "accuracy = 0.95  loss = 0.1665402054786682  val_accuracy = 0.4881889763779528  val_loss = 1.7503060003121693\n",
      "\n",
      "Epoch (109/250):"
     ]
    },
    {
     "name": "stderr",
     "output_type": "stream",
     "text": []
    },
    {
     "name": "stdout",
     "output_type": "stream",
     "text": [
      " 0.48 s\n",
      "accuracy = 0.975  loss = 0.14518311619758606  val_accuracy = 0.484251968503937  val_loss = 1.7591625054677327\n",
      "\n",
      "Epoch (110/250):"
     ]
    },
    {
     "name": "stderr",
     "output_type": "stream",
     "text": []
    },
    {
     "name": "stdout",
     "output_type": "stream",
     "text": [
      " 0.50 s\n",
      "accuracy = 1.0  loss = 0.07849058508872986  val_accuracy = 0.49081364829396323  val_loss = 1.7532642583052318\n",
      "\n",
      "Epoch (111/250):"
     ]
    },
    {
     "name": "stderr",
     "output_type": "stream",
     "text": []
    },
    {
     "name": "stdout",
     "output_type": "stream",
     "text": [
      " 0.48 s\n",
      "accuracy = 0.975  loss = 0.1346236914396286  val_accuracy = 0.489501312335958  val_loss = 1.7488568524519603\n",
      "\n",
      "Epoch (112/250):"
     ]
    },
    {
     "name": "stderr",
     "output_type": "stream",
     "text": []
    },
    {
     "name": "stdout",
     "output_type": "stream",
     "text": [
      " 0.51 s\n",
      "accuracy = 0.975  loss = 0.14478912949562073  val_accuracy = 0.5170603674540682  val_loss = 1.7345429162184398\n",
      "\n",
      "Epoch (113/250):"
     ]
    },
    {
     "name": "stderr",
     "output_type": "stream",
     "text": []
    },
    {
     "name": "stdout",
     "output_type": "stream",
     "text": [
      " 0.50 s\n",
      "accuracy = 0.95  loss = 0.23809294402599335  val_accuracy = 0.48556430446194226  val_loss = 1.7544936835765839\n",
      "\n",
      "Epoch (114/250):"
     ]
    },
    {
     "name": "stderr",
     "output_type": "stream",
     "text": []
    },
    {
     "name": "stdout",
     "output_type": "stream",
     "text": [
      " 0.48 s\n",
      "accuracy = 0.975  loss = 0.1291116178035736  val_accuracy = 0.468503937007874  val_loss = 1.7542769014835358\n",
      "\n",
      "Epoch (115/250):"
     ]
    },
    {
     "name": "stderr",
     "output_type": "stream",
     "text": []
    },
    {
     "name": "stdout",
     "output_type": "stream",
     "text": [
      " 0.48 s\n",
      "accuracy = 0.95  loss = 0.257062166929245  val_accuracy = 0.4868766404199475  val_loss = 1.757995883623759\n",
      "\n",
      "Epoch (116/250):"
     ]
    },
    {
     "name": "stderr",
     "output_type": "stream",
     "text": []
    },
    {
     "name": "stdout",
     "output_type": "stream",
     "text": [
      " 0.52 s\n",
      "accuracy = 1.0  loss = 0.11942168325185776  val_accuracy = 0.4973753280839895  val_loss = 1.7475579281648\n",
      "\n",
      "Epoch (117/250):"
     ]
    },
    {
     "name": "stderr",
     "output_type": "stream",
     "text": []
    },
    {
     "name": "stdout",
     "output_type": "stream",
     "text": [
      " 0.48 s\n",
      "accuracy = 0.95  loss = 0.15724721550941467  val_accuracy = 0.48556430446194226  val_loss = 1.7598258753617604\n",
      "\n",
      "Epoch (118/250):"
     ]
    },
    {
     "name": "stderr",
     "output_type": "stream",
     "text": []
    },
    {
     "name": "stdout",
     "output_type": "stream",
     "text": [
      " 0.50 s\n",
      "accuracy = 1.0  loss = 0.158389613032341  val_accuracy = 0.5511811023622047  val_loss = 1.726200004418691\n",
      "\n",
      "Epoch (119/250):"
     ]
    },
    {
     "name": "stderr",
     "output_type": "stream",
     "text": []
    },
    {
     "name": "stdout",
     "output_type": "stream",
     "text": [
      " 0.47 s\n",
      "accuracy = 0.95  loss = 0.2354450225830078  val_accuracy = 0.4973753280839895  val_loss = 1.7533836265405018\n",
      "\n",
      "Epoch (120/250):"
     ]
    },
    {
     "name": "stderr",
     "output_type": "stream",
     "text": []
    },
    {
     "name": "stdout",
     "output_type": "stream",
     "text": [
      " 0.50 s\n",
      "accuracy = 0.975  loss = 0.18008868396282196  val_accuracy = 0.5026246719160105  val_loss = 1.741004337867101\n",
      "\n",
      "Epoch (121/250):"
     ]
    },
    {
     "name": "stderr",
     "output_type": "stream",
     "text": []
    },
    {
     "name": "stdout",
     "output_type": "stream",
     "text": [
      " 0.47 s\n",
      "accuracy = 0.975  loss = 0.1555335521697998  val_accuracy = 0.452755905511811  val_loss = 1.7596156597137451\n",
      "\n",
      "Epoch (122/250):"
     ]
    },
    {
     "name": "stderr",
     "output_type": "stream",
     "text": []
    },
    {
     "name": "stdout",
     "output_type": "stream",
     "text": [
      " 0.53 s\n",
      "accuracy = 1.0  loss = 0.11696984618902206  val_accuracy = 0.5118110236220472  val_loss = 1.7429500023523967\n",
      "\n",
      "Epoch (123/250):"
     ]
    },
    {
     "name": "stderr",
     "output_type": "stream",
     "text": []
    },
    {
     "name": "stdout",
     "output_type": "stream",
     "text": [
      " 0.47 s\n",
      "accuracy = 0.975  loss = 0.14102932810783386  val_accuracy = 0.5026246719160105  val_loss = 1.7556811074415843\n",
      "\n",
      "Epoch (124/250):"
     ]
    },
    {
     "name": "stderr",
     "output_type": "stream",
     "text": []
    },
    {
     "name": "stdout",
     "output_type": "stream",
     "text": [
      " 0.49 s\n",
      "accuracy = 0.95  loss = 0.26264578104019165  val_accuracy = 0.4921259842519685  val_loss = 1.7452983856201172\n",
      "\n",
      "Epoch (125/250):"
     ]
    },
    {
     "name": "stderr",
     "output_type": "stream",
     "text": []
    },
    {
     "name": "stdout",
     "output_type": "stream",
     "text": [
      " 0.49 s\n",
      "accuracy = 1.0  loss = 0.08260014653205872  val_accuracy = 0.47112860892388453  val_loss = 1.7546468873818715\n",
      "\n",
      "Epoch (126/250):"
     ]
    },
    {
     "name": "stderr",
     "output_type": "stream",
     "text": []
    },
    {
     "name": "stdout",
     "output_type": "stream",
     "text": [
      " 0.49 s\n",
      "accuracy = 0.95  loss = 0.19279488921165466  val_accuracy = 0.479002624671916  val_loss = 1.7529233694076538\n",
      "\n",
      "Epoch (127/250):"
     ]
    },
    {
     "name": "stderr",
     "output_type": "stream",
     "text": []
    },
    {
     "name": "stdout",
     "output_type": "stream",
     "text": [
      " 0.50 s\n",
      "accuracy = 1.0  loss = 0.11297128349542618  val_accuracy = 0.5091863517060368  val_loss = 1.7405482331911724\n",
      "\n",
      "Epoch (128/250):"
     ]
    },
    {
     "name": "stderr",
     "output_type": "stream",
     "text": []
    },
    {
     "name": "stdout",
     "output_type": "stream",
     "text": [
      " 0.50 s\n",
      "accuracy = 1.0  loss = 0.14695081114768982  val_accuracy = 0.47244094488188976  val_loss = 1.7575820287068684\n",
      "\n",
      "Epoch (129/250):"
     ]
    },
    {
     "name": "stderr",
     "output_type": "stream",
     "text": []
    },
    {
     "name": "stdout",
     "output_type": "stream",
     "text": [
      " 0.48 s\n",
      "accuracy = 0.925  loss = 0.19101180136203766  val_accuracy = 0.489501312335958  val_loss = 1.7409314413865407\n",
      "\n",
      "Epoch (130/250):"
     ]
    },
    {
     "name": "stderr",
     "output_type": "stream",
     "text": []
    },
    {
     "name": "stdout",
     "output_type": "stream",
     "text": [
      " 0.49 s\n",
      "accuracy = 0.95  loss = 0.1923704445362091  val_accuracy = 0.4658792650918635  val_loss = 1.760814239581426\n",
      "\n",
      "Epoch (131/250):"
     ]
    },
    {
     "name": "stderr",
     "output_type": "stream",
     "text": []
    },
    {
     "name": "stdout",
     "output_type": "stream",
     "text": [
      " 0.49 s\n",
      "accuracy = 0.975  loss = 0.16608819365501404  val_accuracy = 0.4921259842519685  val_loss = 1.7496110995610554\n",
      "\n",
      "Epoch (132/250):"
     ]
    },
    {
     "name": "stderr",
     "output_type": "stream",
     "text": []
    },
    {
     "name": "stdout",
     "output_type": "stream",
     "text": [
      " 0.48 s\n",
      "accuracy = 0.975  loss = 0.12209290266036987  val_accuracy = 0.49343832020997375  val_loss = 1.7463462551434834\n",
      "\n",
      "Epoch (133/250):"
     ]
    },
    {
     "name": "stderr",
     "output_type": "stream",
     "text": []
    },
    {
     "name": "stdout",
     "output_type": "stream",
     "text": [
      " 0.48 s\n",
      "accuracy = 0.95  loss = 0.21521449089050293  val_accuracy = 0.48556430446194226  val_loss = 1.7445801397164662\n",
      "\n",
      "Epoch (134/250):"
     ]
    },
    {
     "name": "stderr",
     "output_type": "stream",
     "text": []
    },
    {
     "name": "stdout",
     "output_type": "stream",
     "text": [
      " 0.49 s\n",
      "accuracy = 0.95  loss = 0.19626490771770477  val_accuracy = 0.5196850393700787  val_loss = 1.7347582479317982\n",
      "\n",
      "Epoch (135/250):"
     ]
    },
    {
     "name": "stderr",
     "output_type": "stream",
     "text": []
    },
    {
     "name": "stdout",
     "output_type": "stream",
     "text": [
      " 0.51 s\n",
      "accuracy = 0.9  loss = 0.3241105377674103  val_accuracy = 0.5249343832020997  val_loss = 1.7341889242331188\n",
      "\n",
      "Epoch (136/250):"
     ]
    },
    {
     "name": "stderr",
     "output_type": "stream",
     "text": []
    },
    {
     "name": "stdout",
     "output_type": "stream",
     "text": [
      " 0.48 s\n",
      "accuracy = 1.0  loss = 0.10975246131420135  val_accuracy = 0.48556430446194226  val_loss = 1.7531767984231312\n",
      "\n",
      "Epoch (137/250):"
     ]
    },
    {
     "name": "stderr",
     "output_type": "stream",
     "text": []
    },
    {
     "name": "stdout",
     "output_type": "stream",
     "text": [
      " 0.49 s\n",
      "accuracy = 0.95  loss = 0.25925371050834656  val_accuracy = 0.4973753280839895  val_loss = 1.7459933658440907\n",
      "\n",
      "Epoch (138/250):"
     ]
    },
    {
     "name": "stderr",
     "output_type": "stream",
     "text": []
    },
    {
     "name": "stdout",
     "output_type": "stream",
     "text": [
      " 0.51 s\n",
      "accuracy = 1.0  loss = 0.1331016719341278  val_accuracy = 0.49606299212598426  val_loss = 1.7504463990529378\n",
      "\n",
      "Epoch (139/250):"
     ]
    },
    {
     "name": "stderr",
     "output_type": "stream",
     "text": []
    },
    {
     "name": "stdout",
     "output_type": "stream",
     "text": [
      " 0.50 s\n",
      "accuracy = 0.925  loss = 0.3275614082813263  val_accuracy = 0.4881889763779528  val_loss = 1.7552688717842102\n",
      "\n",
      "Epoch (140/250):"
     ]
    },
    {
     "name": "stderr",
     "output_type": "stream",
     "text": []
    },
    {
     "name": "stdout",
     "output_type": "stream",
     "text": [
      " 0.49 s\n",
      "accuracy = 0.95  loss = 0.23298418521881104  val_accuracy = 0.515748031496063  val_loss = 1.7308914462725322\n",
      "\n",
      "Epoch (141/250):"
     ]
    },
    {
     "name": "stderr",
     "output_type": "stream",
     "text": []
    },
    {
     "name": "stdout",
     "output_type": "stream",
     "text": [
      " 0.47 s\n",
      "accuracy = 0.95  loss = 0.2578638195991516  val_accuracy = 0.5091863517060368  val_loss = 1.7375873625278473\n",
      "\n",
      "Epoch (142/250):"
     ]
    },
    {
     "name": "stderr",
     "output_type": "stream",
     "text": []
    },
    {
     "name": "stdout",
     "output_type": "stream",
     "text": [
      " 0.49 s\n",
      "accuracy = 0.95  loss = 0.22164495289325714  val_accuracy = 0.505249343832021  val_loss = 1.7421992818514507\n",
      "\n",
      "Epoch (143/250):"
     ]
    },
    {
     "name": "stderr",
     "output_type": "stream",
     "text": []
    },
    {
     "name": "stdout",
     "output_type": "stream",
     "text": [
      " 0.49 s\n",
      "accuracy = 1.0  loss = 0.10712536424398422  val_accuracy = 0.49868766404199477  val_loss = 1.7406726777553558\n",
      "\n",
      "Epoch (144/250):"
     ]
    },
    {
     "name": "stderr",
     "output_type": "stream",
     "text": []
    },
    {
     "name": "stdout",
     "output_type": "stream",
     "text": [
      " 0.48 s\n",
      "accuracy = 0.975  loss = 0.13497933745384216  val_accuracy = 0.4816272965879265  val_loss = 1.7613744139671326\n",
      "\n",
      "Epoch (145/250):"
     ]
    },
    {
     "name": "stderr",
     "output_type": "stream",
     "text": []
    },
    {
     "name": "stdout",
     "output_type": "stream",
     "text": [
      " 0.49 s\n",
      "accuracy = 1.0  loss = 0.14252783358097076  val_accuracy = 0.5091863517060368  val_loss = 1.7406827608744304\n",
      "\n",
      "Epoch (146/250):"
     ]
    },
    {
     "name": "stderr",
     "output_type": "stream",
     "text": []
    },
    {
     "name": "stdout",
     "output_type": "stream",
     "text": [
      " 0.48 s\n",
      "accuracy = 0.975  loss = 0.18643246591091156  val_accuracy = 0.479002624671916  val_loss = 1.7615633308887482\n",
      "\n",
      "Epoch (147/250):"
     ]
    },
    {
     "name": "stderr",
     "output_type": "stream",
     "text": []
    },
    {
     "name": "stdout",
     "output_type": "stream",
     "text": [
      " 0.48 s\n",
      "accuracy = 1.0  loss = 0.09914623200893402  val_accuracy = 0.520997375328084  val_loss = 1.7397878567377727\n",
      "\n",
      "Epoch (148/250):"
     ]
    },
    {
     "name": "stderr",
     "output_type": "stream",
     "text": []
    },
    {
     "name": "stdout",
     "output_type": "stream",
     "text": [
      " 0.49 s\n",
      "accuracy = 0.975  loss = 0.11028139293193817  val_accuracy = 0.48556430446194226  val_loss = 1.7573558986186981\n",
      "\n",
      "Epoch (149/250):"
     ]
    },
    {
     "name": "stderr",
     "output_type": "stream",
     "text": []
    },
    {
     "name": "stdout",
     "output_type": "stream",
     "text": [
      " 0.48 s\n",
      "accuracy = 0.975  loss = 0.20068761706352234  val_accuracy = 0.45144356955380577  val_loss = 1.7668819626172383\n",
      "\n",
      "Epoch (150/250):"
     ]
    },
    {
     "name": "stderr",
     "output_type": "stream",
     "text": []
    },
    {
     "name": "stdout",
     "output_type": "stream",
     "text": [
      " 0.48 s\n",
      "accuracy = 0.975  loss = 0.13077004253864288  val_accuracy = 0.5065616797900262  val_loss = 1.7417079508304596\n",
      "\n",
      "Epoch (151/250):"
     ]
    },
    {
     "name": "stderr",
     "output_type": "stream",
     "text": []
    },
    {
     "name": "stdout",
     "output_type": "stream",
     "text": [
      " 0.49 s\n",
      "accuracy = 0.975  loss = 0.19086244702339172  val_accuracy = 0.5013123359580053  val_loss = 1.759696255127589\n",
      "\n",
      "Epoch (152/250):"
     ]
    },
    {
     "name": "stderr",
     "output_type": "stream",
     "text": []
    },
    {
     "name": "stdout",
     "output_type": "stream",
     "text": [
      " 0.50 s\n",
      "accuracy = 1.0  loss = 0.1276482343673706  val_accuracy = 0.5249343832020997  val_loss = 1.7324837644894917\n",
      "\n",
      "Epoch (153/250):"
     ]
    },
    {
     "name": "stderr",
     "output_type": "stream",
     "text": []
    },
    {
     "name": "stdout",
     "output_type": "stream",
     "text": [
      " 0.50 s\n",
      "accuracy = 0.975  loss = 0.10899476706981659  val_accuracy = 0.4868766404199475  val_loss = 1.748235414425532\n",
      "\n",
      "Epoch (154/250):"
     ]
    },
    {
     "name": "stderr",
     "output_type": "stream",
     "text": []
    },
    {
     "name": "stdout",
     "output_type": "stream",
     "text": [
      " 0.50 s\n",
      "accuracy = 1.0  loss = 0.11764900386333466  val_accuracy = 0.5013123359580053  val_loss = 1.7402105927467346\n",
      "\n",
      "Epoch (155/250):"
     ]
    },
    {
     "name": "stderr",
     "output_type": "stream",
     "text": []
    },
    {
     "name": "stdout",
     "output_type": "stream",
     "text": [
      " 0.50 s\n",
      "accuracy = 0.95  loss = 0.1776183694601059  val_accuracy = 0.484251968503937  val_loss = 1.7630536754926045\n",
      "\n",
      "Epoch (156/250):"
     ]
    },
    {
     "name": "stderr",
     "output_type": "stream",
     "text": []
    },
    {
     "name": "stdout",
     "output_type": "stream",
     "text": [
      " 0.52 s\n",
      "accuracy = 0.975  loss = 0.13756772875785828  val_accuracy = 0.494750656167979  val_loss = 1.745588779449463\n",
      "\n",
      "Epoch (157/250):"
     ]
    },
    {
     "name": "stderr",
     "output_type": "stream",
     "text": []
    },
    {
     "name": "stdout",
     "output_type": "stream",
     "text": [
      " 0.49 s\n",
      "accuracy = 0.95  loss = 0.23086205124855042  val_accuracy = 0.458005249343832  val_loss = 1.7617704570293427\n",
      "\n",
      "Epoch (158/250):"
     ]
    },
    {
     "name": "stderr",
     "output_type": "stream",
     "text": []
    },
    {
     "name": "stdout",
     "output_type": "stream",
     "text": [
      " 0.51 s\n",
      "accuracy = 1.0  loss = 0.15548044443130493  val_accuracy = 0.4868766404199475  val_loss = 1.753217875957489\n",
      "\n",
      "Epoch (159/250):"
     ]
    },
    {
     "name": "stderr",
     "output_type": "stream",
     "text": []
    },
    {
     "name": "stdout",
     "output_type": "stream",
     "text": [
      " 0.50 s\n",
      "accuracy = 1.0  loss = 0.1861506998538971  val_accuracy = 0.44750656167979  val_loss = 1.7811371386051178\n",
      "\n",
      "Epoch (160/250):"
     ]
    },
    {
     "name": "stderr",
     "output_type": "stream",
     "text": []
    },
    {
     "name": "stdout",
     "output_type": "stream",
     "text": [
      " 0.50 s\n",
      "accuracy = 0.975  loss = 0.19192185997962952  val_accuracy = 0.5118110236220472  val_loss = 1.7307209372520447\n",
      "\n",
      "Epoch (161/250):"
     ]
    },
    {
     "name": "stderr",
     "output_type": "stream",
     "text": []
    },
    {
     "name": "stdout",
     "output_type": "stream",
     "text": [
      " 0.49 s\n",
      "accuracy = 1.0  loss = 0.1318199187517166  val_accuracy = 0.48293963254593175  val_loss = 1.7488580445448558\n",
      "\n",
      "Epoch (162/250):"
     ]
    },
    {
     "name": "stderr",
     "output_type": "stream",
     "text": []
    },
    {
     "name": "stdout",
     "output_type": "stream",
     "text": [
      " 0.50 s\n",
      "accuracy = 0.925  loss = 0.3522058129310608  val_accuracy = 0.4973753280839895  val_loss = 1.7431121269861858\n",
      "\n",
      "Epoch (163/250):"
     ]
    },
    {
     "name": "stderr",
     "output_type": "stream",
     "text": []
    },
    {
     "name": "stdout",
     "output_type": "stream",
     "text": [
      " 0.48 s\n",
      "accuracy = 0.95  loss = 0.1890730857849121  val_accuracy = 0.5118110236220472  val_loss = 1.7358392576376598\n",
      "\n",
      "Epoch (164/250):"
     ]
    },
    {
     "name": "stderr",
     "output_type": "stream",
     "text": []
    },
    {
     "name": "stdout",
     "output_type": "stream",
     "text": [
      " 0.50 s\n",
      "accuracy = 0.975  loss = 0.1925833523273468  val_accuracy = 0.48556430446194226  val_loss = 1.7510331273078918\n",
      "\n",
      "Epoch (165/250):"
     ]
    },
    {
     "name": "stderr",
     "output_type": "stream",
     "text": []
    },
    {
     "name": "stdout",
     "output_type": "stream",
     "text": [
      " 0.50 s\n",
      "accuracy = 0.975  loss = 0.11134060472249985  val_accuracy = 0.479002624671916  val_loss = 1.7485005656878154\n",
      "\n",
      "Epoch (166/250):"
     ]
    },
    {
     "name": "stderr",
     "output_type": "stream",
     "text": []
    },
    {
     "name": "stdout",
     "output_type": "stream",
     "text": [
      " 0.50 s\n",
      "accuracy = 0.975  loss = 0.1715877652168274  val_accuracy = 0.47506561679790027  val_loss = 1.755622237920761\n",
      "\n",
      "Epoch (167/250):"
     ]
    },
    {
     "name": "stderr",
     "output_type": "stream",
     "text": []
    },
    {
     "name": "stdout",
     "output_type": "stream",
     "text": [
      " 0.51 s\n",
      "accuracy = 1.0  loss = 0.07264292240142822  val_accuracy = 0.5026246719160105  val_loss = 1.7543045779069264\n",
      "\n",
      "Epoch (168/250):"
     ]
    },
    {
     "name": "stderr",
     "output_type": "stream",
     "text": []
    },
    {
     "name": "stdout",
     "output_type": "stream",
     "text": [
      " 0.51 s\n",
      "accuracy = 0.9  loss = 0.28854432702064514  val_accuracy = 0.5118110236220472  val_loss = 1.7354549566904705\n",
      "\n",
      "Epoch (169/250):"
     ]
    },
    {
     "name": "stderr",
     "output_type": "stream",
     "text": []
    },
    {
     "name": "stdout",
     "output_type": "stream",
     "text": [
      " 0.49 s\n",
      "accuracy = 0.975  loss = 0.16679039597511292  val_accuracy = 0.5039370078740157  val_loss = 1.7382795015970867\n",
      "\n",
      "Epoch (170/250):"
     ]
    },
    {
     "name": "stderr",
     "output_type": "stream",
     "text": []
    },
    {
     "name": "stdout",
     "output_type": "stream",
     "text": [
      " 0.50 s\n",
      "accuracy = 0.975  loss = 0.15276114642620087  val_accuracy = 0.49606299212598426  val_loss = 1.7412704825401306\n",
      "\n",
      "Epoch (171/250):"
     ]
    },
    {
     "name": "stderr",
     "output_type": "stream",
     "text": []
    },
    {
     "name": "stdout",
     "output_type": "stream",
     "text": [
      " 0.50 s\n",
      "accuracy = 0.975  loss = 0.15158505737781525  val_accuracy = 0.5275590551181102  val_loss = 1.7340295910835266\n",
      "\n",
      "Epoch (172/250):"
     ]
    },
    {
     "name": "stderr",
     "output_type": "stream",
     "text": []
    },
    {
     "name": "stdout",
     "output_type": "stream",
     "text": [
      " 0.50 s\n",
      "accuracy = 1.0  loss = 0.08217035233974457  val_accuracy = 0.4763779527559055  val_loss = 1.747753878434499\n",
      "\n",
      "Epoch (173/250):"
     ]
    },
    {
     "name": "stderr",
     "output_type": "stream",
     "text": []
    },
    {
     "name": "stdout",
     "output_type": "stream",
     "text": [
      " 0.51 s\n",
      "accuracy = 0.95  loss = 0.21193301677703857  val_accuracy = 0.49868766404199477  val_loss = 1.7413273056348164\n",
      "\n",
      "Epoch (174/250):"
     ]
    },
    {
     "name": "stderr",
     "output_type": "stream",
     "text": []
    },
    {
     "name": "stdout",
     "output_type": "stream",
     "text": [
      " 0.48 s\n",
      "accuracy = 1.0  loss = 0.09765781462192535  val_accuracy = 0.46981627296587924  val_loss = 1.7626619637012482\n",
      "\n",
      "Epoch (175/250):"
     ]
    },
    {
     "name": "stderr",
     "output_type": "stream",
     "text": []
    },
    {
     "name": "stdout",
     "output_type": "stream",
     "text": [
      " 0.49 s\n",
      "accuracy = 0.975  loss = 0.11091122776269913  val_accuracy = 0.48556430446194226  val_loss = 1.746774007876714\n",
      "\n",
      "Epoch (176/250):"
     ]
    },
    {
     "name": "stderr",
     "output_type": "stream",
     "text": []
    },
    {
     "name": "stdout",
     "output_type": "stream",
     "text": [
      " 0.49 s\n",
      "accuracy = 0.975  loss = 0.12365684658288956  val_accuracy = 0.505249343832021  val_loss = 1.7406951189041138\n",
      "\n",
      "Epoch (177/250):"
     ]
    },
    {
     "name": "stderr",
     "output_type": "stream",
     "text": []
    },
    {
     "name": "stdout",
     "output_type": "stream",
     "text": [
      " 0.48 s\n",
      "accuracy = 0.975  loss = 0.14366582036018372  val_accuracy = 0.49606299212598426  val_loss = 1.7587720553080242\n",
      "\n",
      "Epoch (178/250):"
     ]
    },
    {
     "name": "stderr",
     "output_type": "stream",
     "text": []
    },
    {
     "name": "stdout",
     "output_type": "stream",
     "text": [
      " 0.49 s\n",
      "accuracy = 0.975  loss = 0.13184064626693726  val_accuracy = 0.49606299212598426  val_loss = 1.7367160717646282\n",
      "\n",
      "Epoch (179/250):"
     ]
    },
    {
     "name": "stderr",
     "output_type": "stream",
     "text": []
    },
    {
     "name": "stdout",
     "output_type": "stream",
     "text": [
      " 0.49 s\n",
      "accuracy = 0.975  loss = 0.14037398993968964  val_accuracy = 0.5  val_loss = 1.7421863575776417\n",
      "\n",
      "Epoch (180/250):"
     ]
    },
    {
     "name": "stderr",
     "output_type": "stream",
     "text": []
    },
    {
     "name": "stdout",
     "output_type": "stream",
     "text": [
      " 0.52 s\n",
      "accuracy = 1.0  loss = 0.10650130361318588  val_accuracy = 0.5065616797900262  val_loss = 1.7421279152234395\n",
      "\n",
      "Epoch (181/250):"
     ]
    },
    {
     "name": "stderr",
     "output_type": "stream",
     "text": []
    },
    {
     "name": "stdout",
     "output_type": "stream",
     "text": [
      " 0.49 s\n",
      "accuracy = 0.975  loss = 0.18565428256988525  val_accuracy = 0.505249343832021  val_loss = 1.7367189129193623\n",
      "\n",
      "Epoch (182/250):"
     ]
    },
    {
     "name": "stderr",
     "output_type": "stream",
     "text": []
    },
    {
     "name": "stdout",
     "output_type": "stream",
     "text": [
      " 0.51 s\n",
      "accuracy = 0.975  loss = 0.14421671628952026  val_accuracy = 0.49868766404199477  val_loss = 1.7488556106885274\n",
      "\n",
      "Epoch (183/250):"
     ]
    },
    {
     "name": "stderr",
     "output_type": "stream",
     "text": []
    },
    {
     "name": "stdout",
     "output_type": "stream",
     "text": [
      " 0.50 s\n",
      "accuracy = 0.95  loss = 0.20560748875141144  val_accuracy = 0.4763779527559055  val_loss = 1.7507558564345043\n",
      "\n",
      "Epoch (184/250):"
     ]
    },
    {
     "name": "stderr",
     "output_type": "stream",
     "text": []
    },
    {
     "name": "stdout",
     "output_type": "stream",
     "text": [
      " 0.49 s\n",
      "accuracy = 0.925  loss = 0.39013779163360596  val_accuracy = 0.489501312335958  val_loss = 1.761004904905955\n",
      "\n",
      "Epoch (185/250):"
     ]
    },
    {
     "name": "stderr",
     "output_type": "stream",
     "text": []
    },
    {
     "name": "stdout",
     "output_type": "stream",
     "text": [
      " 0.50 s\n",
      "accuracy = 1.0  loss = 0.09382034093141556  val_accuracy = 0.5039370078740157  val_loss = 1.743059863646825\n",
      "\n",
      "Epoch (186/250):"
     ]
    },
    {
     "name": "stderr",
     "output_type": "stream",
     "text": []
    },
    {
     "name": "stdout",
     "output_type": "stream",
     "text": [
      " 0.48 s\n",
      "accuracy = 0.925  loss = 0.22136585414409637  val_accuracy = 0.479002624671916  val_loss = 1.744021197160085\n",
      "\n",
      "Epoch (187/250):"
     ]
    },
    {
     "name": "stderr",
     "output_type": "stream",
     "text": []
    },
    {
     "name": "stdout",
     "output_type": "stream",
     "text": [
      " 0.51 s\n",
      "accuracy = 0.975  loss = 0.15058700740337372  val_accuracy = 0.49081364829396323  val_loss = 1.7437110145886738\n",
      "\n",
      "Epoch (188/250):"
     ]
    },
    {
     "name": "stderr",
     "output_type": "stream",
     "text": []
    },
    {
     "name": "stdout",
     "output_type": "stream",
     "text": [
      " 0.48 s\n",
      "accuracy = 0.95  loss = 0.21730537712574005  val_accuracy = 0.5118110236220472  val_loss = 1.7356779078642528\n",
      "\n",
      "Epoch (189/250):"
     ]
    },
    {
     "name": "stderr",
     "output_type": "stream",
     "text": []
    },
    {
     "name": "stdout",
     "output_type": "stream",
     "text": [
      " 0.51 s\n",
      "accuracy = 1.0  loss = 0.15759675204753876  val_accuracy = 0.49606299212598426  val_loss = 1.7395541667938232\n",
      "\n",
      "Epoch (190/250):"
     ]
    },
    {
     "name": "stderr",
     "output_type": "stream",
     "text": []
    },
    {
     "name": "stdout",
     "output_type": "stream",
     "text": [
      " 0.48 s\n",
      "accuracy = 0.95  loss = 0.2558017373085022  val_accuracy = 0.5118110236220472  val_loss = 1.7405634621779125\n",
      "\n",
      "Epoch (191/250):"
     ]
    },
    {
     "name": "stderr",
     "output_type": "stream",
     "text": []
    },
    {
     "name": "stdout",
     "output_type": "stream",
     "text": [
      " 0.50 s\n",
      "accuracy = 0.925  loss = 0.23735825717449188  val_accuracy = 0.5  val_loss = 1.7448517779509227\n",
      "\n",
      "Epoch (192/250):"
     ]
    },
    {
     "name": "stderr",
     "output_type": "stream",
     "text": []
    },
    {
     "name": "stdout",
     "output_type": "stream",
     "text": [
      " 0.50 s\n",
      "accuracy = 0.95  loss = 0.2680198848247528  val_accuracy = 0.5078740157480315  val_loss = 1.7481025159358978\n",
      "\n",
      "Epoch (193/250):"
     ]
    },
    {
     "name": "stderr",
     "output_type": "stream",
     "text": []
    },
    {
     "name": "stdout",
     "output_type": "stream",
     "text": [
      " 0.50 s\n",
      "accuracy = 1.0  loss = 0.08654378354549408  val_accuracy = 0.48293963254593175  val_loss = 1.7513360182444255\n",
      "\n",
      "Epoch (194/250):"
     ]
    },
    {
     "name": "stderr",
     "output_type": "stream",
     "text": []
    },
    {
     "name": "stdout",
     "output_type": "stream",
     "text": [
      " 0.50 s\n",
      "accuracy = 1.0  loss = 0.08725284039974213  val_accuracy = 0.5196850393700787  val_loss = 1.731882522503535\n",
      "\n",
      "Epoch (195/250):"
     ]
    },
    {
     "name": "stderr",
     "output_type": "stream",
     "text": []
    },
    {
     "name": "stdout",
     "output_type": "stream",
     "text": [
      " 0.51 s\n",
      "accuracy = 1.0  loss = 0.12287936359643936  val_accuracy = 0.48556430446194226  val_loss = 1.7540360788504283\n",
      "\n",
      "Epoch (196/250):"
     ]
    },
    {
     "name": "stderr",
     "output_type": "stream",
     "text": []
    },
    {
     "name": "stdout",
     "output_type": "stream",
     "text": [
      " 0.49 s\n",
      "accuracy = 0.95  loss = 0.1468755155801773  val_accuracy = 0.5078740157480315  val_loss = 1.743272344271342\n",
      "\n",
      "Epoch (197/250):"
     ]
    },
    {
     "name": "stderr",
     "output_type": "stream",
     "text": []
    },
    {
     "name": "stdout",
     "output_type": "stream",
     "text": [
      " 0.50 s\n",
      "accuracy = 0.975  loss = 0.16630885004997253  val_accuracy = 0.5118110236220472  val_loss = 1.7433319687843323\n",
      "\n",
      "Epoch (198/250):"
     ]
    },
    {
     "name": "stderr",
     "output_type": "stream",
     "text": []
    },
    {
     "name": "stdout",
     "output_type": "stream",
     "text": [
      " 0.49 s\n",
      "accuracy = 0.975  loss = 0.1696833223104477  val_accuracy = 0.47506561679790027  val_loss = 1.7613526086012523\n",
      "\n",
      "Epoch (199/250):"
     ]
    },
    {
     "name": "stderr",
     "output_type": "stream",
     "text": []
    },
    {
     "name": "stdout",
     "output_type": "stream",
     "text": [
      " 0.50 s\n",
      "accuracy = 1.0  loss = 0.13076376914978027  val_accuracy = 0.5091863517060368  val_loss = 1.742127964893977\n",
      "\n",
      "Epoch (200/250):"
     ]
    },
    {
     "name": "stderr",
     "output_type": "stream",
     "text": []
    },
    {
     "name": "stdout",
     "output_type": "stream",
     "text": [
      " 0.49 s\n",
      "accuracy = 0.975  loss = 0.2680068910121918  val_accuracy = 0.5118110236220472  val_loss = 1.7398091753323872\n",
      "\n",
      "Epoch (201/250):"
     ]
    },
    {
     "name": "stderr",
     "output_type": "stream",
     "text": []
    },
    {
     "name": "stdout",
     "output_type": "stream",
     "text": [
      " 0.53 s\n",
      "accuracy = 1.0  loss = 0.09745585918426514  val_accuracy = 0.494750656167979  val_loss = 1.7588245670000713\n",
      "\n",
      "Epoch (202/250):"
     ]
    },
    {
     "name": "stderr",
     "output_type": "stream",
     "text": []
    },
    {
     "name": "stdout",
     "output_type": "stream",
     "text": [
      " 0.50 s\n",
      "accuracy = 0.925  loss = 0.28846025466918945  val_accuracy = 0.5039370078740157  val_loss = 1.7501904269059498\n",
      "\n",
      "Epoch (203/250):"
     ]
    },
    {
     "name": "stderr",
     "output_type": "stream",
     "text": []
    },
    {
     "name": "stdout",
     "output_type": "stream",
     "text": [
      " 0.48 s\n",
      "accuracy = 1.0  loss = 0.11792878806591034  val_accuracy = 0.5131233595800525  val_loss = 1.733537604411443\n",
      "\n",
      "Epoch (204/250):"
     ]
    },
    {
     "name": "stderr",
     "output_type": "stream",
     "text": []
    },
    {
     "name": "stdout",
     "output_type": "stream",
     "text": [
      " 0.49 s\n",
      "accuracy = 0.975  loss = 0.13198992609977722  val_accuracy = 0.5065616797900262  val_loss = 1.7535083889961243\n",
      "\n",
      "Epoch (205/250):"
     ]
    },
    {
     "name": "stderr",
     "output_type": "stream",
     "text": []
    },
    {
     "name": "stdout",
     "output_type": "stream",
     "text": [
      " 0.50 s\n",
      "accuracy = 1.0  loss = 0.1450474113225937  val_accuracy = 0.4816272965879265  val_loss = 1.7559774816036224\n",
      "\n",
      "Epoch (206/250):"
     ]
    },
    {
     "name": "stderr",
     "output_type": "stream",
     "text": []
    },
    {
     "name": "stdout",
     "output_type": "stream",
     "text": [
      " 0.48 s\n",
      "accuracy = 0.975  loss = 0.16927902400493622  val_accuracy = 0.5223097112860893  val_loss = 1.7385343313217163\n",
      "\n",
      "Epoch (207/250):"
     ]
    },
    {
     "name": "stderr",
     "output_type": "stream",
     "text": []
    },
    {
     "name": "stdout",
     "output_type": "stream",
     "text": [
      " 0.48 s\n",
      "accuracy = 0.925  loss = 0.24161048233509064  val_accuracy = 0.5039370078740157  val_loss = 1.740347534418106\n",
      "\n",
      "Epoch (208/250):"
     ]
    },
    {
     "name": "stderr",
     "output_type": "stream",
     "text": []
    },
    {
     "name": "stdout",
     "output_type": "stream",
     "text": [
      " 0.49 s\n",
      "accuracy = 0.975  loss = 0.19981010258197784  val_accuracy = 0.5341207349081365  val_loss = 1.7311597963174183\n",
      "\n",
      "Epoch (209/250):"
     ]
    },
    {
     "name": "stderr",
     "output_type": "stream",
     "text": []
    },
    {
     "name": "stdout",
     "output_type": "stream",
     "text": [
      " 0.51 s\n",
      "accuracy = 0.95  loss = 0.16540083289146423  val_accuracy = 0.4763779527559055  val_loss = 1.7529632945855458\n",
      "\n",
      "Epoch (210/250):"
     ]
    },
    {
     "name": "stderr",
     "output_type": "stream",
     "text": []
    },
    {
     "name": "stdout",
     "output_type": "stream",
     "text": [
      " 0.50 s\n",
      "accuracy = 0.95  loss = 0.17384180426597595  val_accuracy = 0.5131233595800525  val_loss = 1.744557778040568\n",
      "\n",
      "Epoch (211/250):"
     ]
    },
    {
     "name": "stderr",
     "output_type": "stream",
     "text": []
    },
    {
     "name": "stdout",
     "output_type": "stream",
     "text": [
      " 0.51 s\n",
      "accuracy = 0.975  loss = 0.16260077059268951  val_accuracy = 0.5065616797900262  val_loss = 1.734486718972524\n",
      "\n",
      "Epoch (212/250):"
     ]
    },
    {
     "name": "stderr",
     "output_type": "stream",
     "text": []
    },
    {
     "name": "stdout",
     "output_type": "stream",
     "text": [
      " 0.48 s\n",
      "accuracy = 1.0  loss = 0.10507305711507797  val_accuracy = 0.505249343832021  val_loss = 1.7389972805976868\n",
      "\n",
      "Epoch (213/250):"
     ]
    },
    {
     "name": "stderr",
     "output_type": "stream",
     "text": []
    },
    {
     "name": "stdout",
     "output_type": "stream",
     "text": [
      " 0.49 s\n",
      "accuracy = 0.975  loss = 0.18891021609306335  val_accuracy = 0.510498687664042  val_loss = 1.7307868500550587\n",
      "\n",
      "Epoch (214/250):"
     ]
    },
    {
     "name": "stderr",
     "output_type": "stream",
     "text": []
    },
    {
     "name": "stdout",
     "output_type": "stream",
     "text": [
      " 0.50 s\n",
      "accuracy = 0.9  loss = 0.2450614720582962  val_accuracy = 0.4868766404199475  val_loss = 1.7568717102209728\n",
      "\n",
      "Epoch (215/250):"
     ]
    },
    {
     "name": "stderr",
     "output_type": "stream",
     "text": []
    },
    {
     "name": "stdout",
     "output_type": "stream",
     "text": [
      " 0.51 s\n",
      "accuracy = 0.975  loss = 0.1748269498348236  val_accuracy = 0.48556430446194226  val_loss = 1.7538712918758392\n",
      "\n",
      "Epoch (216/250):"
     ]
    },
    {
     "name": "stderr",
     "output_type": "stream",
     "text": []
    },
    {
     "name": "stdout",
     "output_type": "stream",
     "text": [
      " 0.50 s\n",
      "accuracy = 1.0  loss = 0.07017217576503754  val_accuracy = 0.463254593175853  val_loss = 1.7588369747002919\n",
      "\n",
      "Epoch (217/250):"
     ]
    },
    {
     "name": "stderr",
     "output_type": "stream",
     "text": []
    },
    {
     "name": "stdout",
     "output_type": "stream",
     "text": [
      " 0.51 s\n",
      "accuracy = 0.975  loss = 0.15233390033245087  val_accuracy = 0.4776902887139108  val_loss = 1.7639127373695374\n",
      "\n",
      "Epoch (218/250):"
     ]
    },
    {
     "name": "stderr",
     "output_type": "stream",
     "text": []
    },
    {
     "name": "stdout",
     "output_type": "stream",
     "text": [
      " 0.48 s\n",
      "accuracy = 1.0  loss = 0.10910648107528687  val_accuracy = 0.5  val_loss = 1.752461353937785\n",
      "\n",
      "Epoch (219/250):"
     ]
    },
    {
     "name": "stderr",
     "output_type": "stream",
     "text": []
    },
    {
     "name": "stdout",
     "output_type": "stream",
     "text": [
      " 0.52 s\n",
      "accuracy = 0.975  loss = 0.142580047249794  val_accuracy = 0.5118110236220472  val_loss = 1.7334629396597545\n",
      "\n",
      "Epoch (220/250):"
     ]
    },
    {
     "name": "stderr",
     "output_type": "stream",
     "text": []
    },
    {
     "name": "stdout",
     "output_type": "stream",
     "text": [
      " 0.49 s\n",
      "accuracy = 0.975  loss = 0.1913314312696457  val_accuracy = 0.5091863517060368  val_loss = 1.737089325984319\n",
      "\n",
      "Epoch (221/250):"
     ]
    },
    {
     "name": "stderr",
     "output_type": "stream",
     "text": []
    },
    {
     "name": "stdout",
     "output_type": "stream",
     "text": [
      " 0.49 s\n",
      "accuracy = 0.925  loss = 0.22930753231048584  val_accuracy = 0.49343832020997375  val_loss = 1.7527163624763489\n",
      "\n",
      "Epoch (222/250):"
     ]
    },
    {
     "name": "stderr",
     "output_type": "stream",
     "text": []
    },
    {
     "name": "stdout",
     "output_type": "stream",
     "text": [
      " 0.52 s\n",
      "accuracy = 0.95  loss = 0.15876075625419617  val_accuracy = 0.5039370078740157  val_loss = 1.7447248895963032\n",
      "\n",
      "Epoch (223/250):"
     ]
    },
    {
     "name": "stderr",
     "output_type": "stream",
     "text": []
    },
    {
     "name": "stdout",
     "output_type": "stream",
     "text": [
      " 0.50 s\n",
      "accuracy = 0.95  loss = 0.15008072555065155  val_accuracy = 0.4816272965879265  val_loss = 1.7495283484458923\n",
      "\n",
      "Epoch (224/250):"
     ]
    },
    {
     "name": "stderr",
     "output_type": "stream",
     "text": []
    },
    {
     "name": "stdout",
     "output_type": "stream",
     "text": [
      " 0.49 s\n",
      "accuracy = 1.0  loss = 0.09382244199514389  val_accuracy = 0.4868766404199475  val_loss = 1.7512667675813038\n",
      "\n",
      "Epoch (225/250):"
     ]
    },
    {
     "name": "stderr",
     "output_type": "stream",
     "text": []
    },
    {
     "name": "stdout",
     "output_type": "stream",
     "text": [
      " 0.52 s\n",
      "accuracy = 1.0  loss = 0.09362838417291641  val_accuracy = 0.48556430446194226  val_loss = 1.7437046865622203\n",
      "\n",
      "Epoch (226/250):"
     ]
    },
    {
     "name": "stderr",
     "output_type": "stream",
     "text": []
    },
    {
     "name": "stdout",
     "output_type": "stream",
     "text": [
      " 0.48 s\n",
      "accuracy = 0.95  loss = 0.27071312069892883  val_accuracy = 0.5301837270341208  val_loss = 1.7236205041408539\n",
      "\n",
      "Epoch (227/250):"
     ]
    },
    {
     "name": "stderr",
     "output_type": "stream",
     "text": []
    },
    {
     "name": "stdout",
     "output_type": "stream",
     "text": [
      " 0.50 s\n",
      "accuracy = 0.975  loss = 0.1900499165058136  val_accuracy = 0.5065616797900262  val_loss = 1.7479226489861805\n",
      "\n",
      "Epoch (228/250):"
     ]
    },
    {
     "name": "stderr",
     "output_type": "stream",
     "text": []
    },
    {
     "name": "stdout",
     "output_type": "stream",
     "text": [
      " 0.50 s\n",
      "accuracy = 1.0  loss = 0.07505897432565689  val_accuracy = 0.458005249343832  val_loss = 1.7564839720726013\n",
      "\n",
      "Epoch (229/250):"
     ]
    },
    {
     "name": "stderr",
     "output_type": "stream",
     "text": []
    },
    {
     "name": "stdout",
     "output_type": "stream",
     "text": [
      " 0.50 s\n",
      "accuracy = 0.95  loss = 0.18300262093544006  val_accuracy = 0.5  val_loss = 1.7545569638411205\n",
      "\n",
      "Epoch (230/250):"
     ]
    },
    {
     "name": "stderr",
     "output_type": "stream",
     "text": []
    },
    {
     "name": "stdout",
     "output_type": "stream",
     "text": [
      " 0.50 s\n",
      "accuracy = 0.95  loss = 0.15284962952136993  val_accuracy = 0.510498687664042  val_loss = 1.7439958254496257\n",
      "\n",
      "Epoch (231/250):"
     ]
    },
    {
     "name": "stderr",
     "output_type": "stream",
     "text": []
    },
    {
     "name": "stdout",
     "output_type": "stream",
     "text": [
      " 0.52 s\n",
      "accuracy = 0.975  loss = 0.1604776233434677  val_accuracy = 0.5118110236220472  val_loss = 1.730751633644104\n",
      "\n",
      "Epoch (232/250):"
     ]
    },
    {
     "name": "stderr",
     "output_type": "stream",
     "text": []
    },
    {
     "name": "stdout",
     "output_type": "stream",
     "text": [
      " 0.49 s\n",
      "accuracy = 0.975  loss = 0.13124476373195648  val_accuracy = 0.4921259842519685  val_loss = 1.751710683107376\n",
      "\n",
      "Epoch (233/250):"
     ]
    },
    {
     "name": "stderr",
     "output_type": "stream",
     "text": []
    },
    {
     "name": "stdout",
     "output_type": "stream",
     "text": [
      " 0.50 s\n",
      "accuracy = 1.0  loss = 0.08374899625778198  val_accuracy = 0.4973753280839895  val_loss = 1.7483019530773163\n",
      "\n",
      "Epoch (234/250):"
     ]
    },
    {
     "name": "stderr",
     "output_type": "stream",
     "text": []
    },
    {
     "name": "stdout",
     "output_type": "stream",
     "text": [
      " 0.49 s\n",
      "accuracy = 1.0  loss = 0.11486263573169708  val_accuracy = 0.4973753280839895  val_loss = 1.754645824432373\n",
      "\n",
      "Epoch (235/250):"
     ]
    },
    {
     "name": "stderr",
     "output_type": "stream",
     "text": []
    },
    {
     "name": "stdout",
     "output_type": "stream",
     "text": [
      " 0.53 s\n",
      "accuracy = 0.95  loss = 0.17543968558311462  val_accuracy = 0.5131233595800525  val_loss = 1.7336386740207672\n",
      "\n",
      "Epoch (236/250):"
     ]
    },
    {
     "name": "stderr",
     "output_type": "stream",
     "text": []
    },
    {
     "name": "stdout",
     "output_type": "stream",
     "text": [
      " 0.50 s\n",
      "accuracy = 0.975  loss = 0.1662219762802124  val_accuracy = 0.5118110236220472  val_loss = 1.7290875315666199\n",
      "\n",
      "Epoch (237/250):"
     ]
    },
    {
     "name": "stderr",
     "output_type": "stream",
     "text": []
    },
    {
     "name": "stdout",
     "output_type": "stream",
     "text": [
      " 0.49 s\n",
      "accuracy = 0.95  loss = 0.19686995446681976  val_accuracy = 0.5091863517060368  val_loss = 1.7491757571697235\n",
      "\n",
      "Epoch (238/250):"
     ]
    },
    {
     "name": "stderr",
     "output_type": "stream",
     "text": []
    },
    {
     "name": "stdout",
     "output_type": "stream",
     "text": [
      " 0.51 s\n",
      "accuracy = 1.0  loss = 0.11564303934574127  val_accuracy = 0.5013123359580053  val_loss = 1.7410051027933757\n",
      "\n",
      "Epoch (239/250):"
     ]
    },
    {
     "name": "stderr",
     "output_type": "stream",
     "text": []
    },
    {
     "name": "stdout",
     "output_type": "stream",
     "text": [
      " 0.51 s\n",
      "accuracy = 1.0  loss = 0.0952276885509491  val_accuracy = 0.4868766404199475  val_loss = 1.7485297719637554\n",
      "\n",
      "Epoch (240/250):"
     ]
    },
    {
     "name": "stderr",
     "output_type": "stream",
     "text": []
    },
    {
     "name": "stdout",
     "output_type": "stream",
     "text": [
      " 0.51 s\n",
      "accuracy = 0.925  loss = 0.2135039120912552  val_accuracy = 0.5078740157480315  val_loss = 1.750493049621582\n",
      "\n",
      "Epoch (241/250):"
     ]
    },
    {
     "name": "stderr",
     "output_type": "stream",
     "text": []
    },
    {
     "name": "stdout",
     "output_type": "stream",
     "text": [
      " 0.49 s\n",
      "accuracy = 0.95  loss = 0.20077034831047058  val_accuracy = 0.5144356955380578  val_loss = 1.7448998192946117\n",
      "\n",
      "Epoch (242/250):"
     ]
    },
    {
     "name": "stderr",
     "output_type": "stream",
     "text": []
    },
    {
     "name": "stdout",
     "output_type": "stream",
     "text": [
      " 0.51 s\n",
      "accuracy = 1.0  loss = 0.1541782021522522  val_accuracy = 0.5078740157480315  val_loss = 1.7474929690361023\n",
      "\n",
      "Epoch (243/250):"
     ]
    },
    {
     "name": "stderr",
     "output_type": "stream",
     "text": []
    },
    {
     "name": "stdout",
     "output_type": "stream",
     "text": [
      " 0.50 s\n",
      "accuracy = 0.975  loss = 0.21617135405540466  val_accuracy = 0.4973753280839895  val_loss = 1.7439594666163127\n",
      "\n",
      "Epoch (244/250):"
     ]
    },
    {
     "name": "stderr",
     "output_type": "stream",
     "text": []
    },
    {
     "name": "stdout",
     "output_type": "stream",
     "text": [
      " 0.50 s\n",
      "accuracy = 1.0  loss = 0.08783655613660812  val_accuracy = 0.5144356955380578  val_loss = 1.742480605840683\n",
      "\n",
      "Epoch (245/250):"
     ]
    },
    {
     "name": "stderr",
     "output_type": "stream",
     "text": []
    },
    {
     "name": "stdout",
     "output_type": "stream",
     "text": [
      " 0.51 s\n",
      "accuracy = 0.975  loss = 0.15547038614749908  val_accuracy = 0.5078740157480315  val_loss = 1.7483913898468018\n",
      "\n",
      "Epoch (246/250):"
     ]
    },
    {
     "name": "stderr",
     "output_type": "stream",
     "text": []
    },
    {
     "name": "stdout",
     "output_type": "stream",
     "text": [
      " 0.51 s\n",
      "accuracy = 1.0  loss = 0.12629434466362  val_accuracy = 0.4658792650918635  val_loss = 1.7553574244181316\n",
      "\n",
      "Epoch (247/250):"
     ]
    },
    {
     "name": "stderr",
     "output_type": "stream",
     "text": []
    },
    {
     "name": "stdout",
     "output_type": "stream",
     "text": [
      " 0.48 s\n",
      "accuracy = 0.95  loss = 0.17380525171756744  val_accuracy = 0.4973753280839895  val_loss = 1.7452649772167206\n",
      "\n",
      "Epoch (248/250):"
     ]
    },
    {
     "name": "stderr",
     "output_type": "stream",
     "text": []
    },
    {
     "name": "stdout",
     "output_type": "stream",
     "text": [
      " 0.52 s\n",
      "accuracy = 1.0  loss = 0.0609063096344471  val_accuracy = 0.484251968503937  val_loss = 1.75143497188886\n",
      "\n",
      "Epoch (249/250):"
     ]
    },
    {
     "name": "stderr",
     "output_type": "stream",
     "text": [
      "                                      "
     ]
    },
    {
     "name": "stdout",
     "output_type": "stream",
     "text": [
      " 0.50 s\n",
      "accuracy = 0.975  loss = 0.14894865453243256  val_accuracy = 0.5078740157480315  val_loss = 1.73232505718867\n",
      "\n"
     ]
    },
    {
     "name": "stderr",
     "output_type": "stream",
     "text": [
      "\r"
     ]
    }
   ],
   "source": [
    "from collections import defaultdict\n",
    "\n",
    "# to store our training accuracy and losses\n",
    "history = defaultdict(list)\n",
    "best_val_loss = np.inf\n",
    "\n",
    "for epoch in range(EPOCHS):\n",
    "    print(f\"Epoch ({epoch}/{EPOCHS}):\", end=\"\")\n",
    "    start_t = time.perf_counter()\n",
    "\n",
    "    train_accuracy, train_loss = fit(\n",
    "        model,\n",
    "        train_dl,\n",
    "        train_dataset,\n",
    "        optimizer,\n",
    "        criterion\n",
    "    )\n",
    "\n",
    "    val_accuracy, val_loss = validate(\n",
    "        model,\n",
    "        val_dl,\n",
    "        val_dataset,\n",
    "        criterion\n",
    "    )\n",
    "\n",
    "    end_t = time.perf_counter()\n",
    "    print(f\" {end_t - start_t:.2f} s\")\n",
    "\n",
    "    ## optionally can save checkpoint automatically\n",
    "    if val_loss < best_val_loss:\n",
    "        best_val_loss = val_loss\n",
    "        save_ckpt(model.state_dict(), \"conv1d_model_ckpt.pth.tar\")\n",
    "    \n",
    "    scheduler.step(val_loss)\n",
    "\n",
    "    history['train_accuracy'].append(train_accuracy)\n",
    "    history['train_loss'].append(train_loss)\n",
    "    history['val_accuracy'].append(val_accuracy)\n",
    "    history['val_loss'].append(val_loss)\n",
    "\n",
    "    print(f\"accuracy = {train_accuracy}  loss = {train_loss}  \"\n",
    "    f\"val_accuracy = {val_accuracy}  val_loss = {val_loss}\\n\")"
   ]
  },
  {
   "cell_type": "code",
   "execution_count": null,
   "id": "x8XnfLpeLXLy",
   "metadata": {
    "id": "x8XnfLpeLXLy"
   },
   "outputs": [],
   "source": []
  }
 ],
 "metadata": {
  "accelerator": "GPU",
  "colab": {
   "collapsed_sections": [],
   "name": "2. Training - Time Series Classification.ipynb",
   "provenance": [],
   "toc_visible": true
  },
  "kernelspec": {
   "display_name": "Python 3 (ipykernel)",
   "language": "python",
   "name": "python3"
  },
  "language_info": {
   "codemirror_mode": {
    "name": "ipython",
    "version": 3
   },
   "file_extension": ".py",
   "mimetype": "text/x-python",
   "name": "python",
   "nbconvert_exporter": "python",
   "pygments_lexer": "ipython3",
   "version": "3.8.11"
  }
 },
 "nbformat": 4,
 "nbformat_minor": 5
}
