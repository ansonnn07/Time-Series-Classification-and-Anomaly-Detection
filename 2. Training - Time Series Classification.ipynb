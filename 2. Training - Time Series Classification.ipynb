{
 "cells": [
  {
   "cell_type": "markdown",
   "id": "56c638fd-0806-4e11-920f-f2f68eaaaf6e",
   "metadata": {},
   "source": [
    "# Setup"
   ]
  },
  {
   "cell_type": "code",
   "execution_count": 1,
   "id": "6c517d36-86ee-49ec-8687-07fc911cdc4d",
   "metadata": {
    "tags": []
   },
   "outputs": [],
   "source": [
    "import os\n",
    "\n",
    "# use this display function to display DataFrames nicely\n",
    "from IPython.display import display\n",
    "\n",
    "import pandas as pd\n",
    "import numpy as np\n",
    "import matplotlib.pyplot as plt\n",
    "import seaborn as sns\n",
    "\n",
    "# change the font_scale all at once\n",
    "sns.set(font_scale=1.5)\n",
    "\n",
    "# use the ggplot theme for our figures\n",
    "plt.style.use('ggplot')\n",
    "# set default figure size\n",
    "plt.rcParams['figure.figsize'] = (16, 10)\n",
    "\n",
    "from sklearn.model_selection import train_test_split\n",
    "\n",
    "import torch\n",
    "from torch.utils.data import Dataset, DataLoader"
   ]
  },
  {
   "cell_type": "code",
   "execution_count": 2,
   "id": "2d64ee9c-6d94-4785-aed9-4e942c66ed95",
   "metadata": {},
   "outputs": [
    {
     "data": {
      "text/plain": [
       "True"
      ]
     },
     "execution_count": 2,
     "metadata": {},
     "output_type": "execute_result"
    }
   ],
   "source": [
    "# check whether your PyTorch has access to GPU\n",
    "# if you don't, make sure to follow the steps mentioned\n",
    "#  in the README file.\n",
    "torch.cuda.is_available()"
   ]
  },
  {
   "cell_type": "code",
   "execution_count": 3,
   "id": "3fd31c15-308f-4d66-a603-67a17d06a9de",
   "metadata": {},
   "outputs": [],
   "source": [
    "# set up the device to use for our torch tensors\n",
    "device = 'cuda' if torch.cuda.is_available() else 'cpu'"
   ]
  },
  {
   "cell_type": "code",
   "execution_count": 4,
   "id": "001a2f42-92c0-4ce8-a1dd-470a17e79156",
   "metadata": {},
   "outputs": [],
   "source": [
    "DATA_PATH = os.path.join(\"data\", \"career-con-2019\")"
   ]
  },
  {
   "cell_type": "code",
   "execution_count": 5,
   "id": "79c3edfa-e0ec-4216-b0b7-dacee9bd2117",
   "metadata": {},
   "outputs": [
    {
     "data": {
      "text/html": [
       "<div>\n",
       "<style scoped>\n",
       "    .dataframe tbody tr th:only-of-type {\n",
       "        vertical-align: middle;\n",
       "    }\n",
       "\n",
       "    .dataframe tbody tr th {\n",
       "        vertical-align: top;\n",
       "    }\n",
       "\n",
       "    .dataframe thead th {\n",
       "        text-align: right;\n",
       "    }\n",
       "</style>\n",
       "<table border=\"1\" class=\"dataframe\">\n",
       "  <thead>\n",
       "    <tr style=\"text-align: right;\">\n",
       "      <th></th>\n",
       "      <th>row_id</th>\n",
       "      <th>series_id</th>\n",
       "      <th>measurement_number</th>\n",
       "      <th>orientation_X</th>\n",
       "      <th>orientation_Y</th>\n",
       "      <th>orientation_Z</th>\n",
       "      <th>orientation_W</th>\n",
       "      <th>angular_velocity_X</th>\n",
       "      <th>angular_velocity_Y</th>\n",
       "      <th>angular_velocity_Z</th>\n",
       "      <th>linear_acceleration_X</th>\n",
       "      <th>linear_acceleration_Y</th>\n",
       "      <th>linear_acceleration_Z</th>\n",
       "    </tr>\n",
       "  </thead>\n",
       "  <tbody>\n",
       "    <tr>\n",
       "      <th>0</th>\n",
       "      <td>0_0</td>\n",
       "      <td>0</td>\n",
       "      <td>0</td>\n",
       "      <td>-0.75853</td>\n",
       "      <td>-0.63435</td>\n",
       "      <td>-0.10488</td>\n",
       "      <td>-0.10597</td>\n",
       "      <td>0.107650</td>\n",
       "      <td>0.017561</td>\n",
       "      <td>0.000767</td>\n",
       "      <td>-0.74857</td>\n",
       "      <td>2.1030</td>\n",
       "      <td>-9.7532</td>\n",
       "    </tr>\n",
       "    <tr>\n",
       "      <th>1</th>\n",
       "      <td>0_1</td>\n",
       "      <td>0</td>\n",
       "      <td>1</td>\n",
       "      <td>-0.75853</td>\n",
       "      <td>-0.63434</td>\n",
       "      <td>-0.10490</td>\n",
       "      <td>-0.10600</td>\n",
       "      <td>0.067851</td>\n",
       "      <td>0.029939</td>\n",
       "      <td>0.003386</td>\n",
       "      <td>0.33995</td>\n",
       "      <td>1.5064</td>\n",
       "      <td>-9.4128</td>\n",
       "    </tr>\n",
       "    <tr>\n",
       "      <th>2</th>\n",
       "      <td>0_2</td>\n",
       "      <td>0</td>\n",
       "      <td>2</td>\n",
       "      <td>-0.75853</td>\n",
       "      <td>-0.63435</td>\n",
       "      <td>-0.10492</td>\n",
       "      <td>-0.10597</td>\n",
       "      <td>0.007275</td>\n",
       "      <td>0.028934</td>\n",
       "      <td>-0.005978</td>\n",
       "      <td>-0.26429</td>\n",
       "      <td>1.5922</td>\n",
       "      <td>-8.7267</td>\n",
       "    </tr>\n",
       "    <tr>\n",
       "      <th>3</th>\n",
       "      <td>0_3</td>\n",
       "      <td>0</td>\n",
       "      <td>3</td>\n",
       "      <td>-0.75852</td>\n",
       "      <td>-0.63436</td>\n",
       "      <td>-0.10495</td>\n",
       "      <td>-0.10597</td>\n",
       "      <td>-0.013053</td>\n",
       "      <td>0.019448</td>\n",
       "      <td>-0.008974</td>\n",
       "      <td>0.42684</td>\n",
       "      <td>1.0993</td>\n",
       "      <td>-10.0960</td>\n",
       "    </tr>\n",
       "    <tr>\n",
       "      <th>4</th>\n",
       "      <td>0_4</td>\n",
       "      <td>0</td>\n",
       "      <td>4</td>\n",
       "      <td>-0.75852</td>\n",
       "      <td>-0.63435</td>\n",
       "      <td>-0.10495</td>\n",
       "      <td>-0.10596</td>\n",
       "      <td>0.005135</td>\n",
       "      <td>0.007652</td>\n",
       "      <td>0.005245</td>\n",
       "      <td>-0.50969</td>\n",
       "      <td>1.4689</td>\n",
       "      <td>-10.4410</td>\n",
       "    </tr>\n",
       "  </tbody>\n",
       "</table>\n",
       "</div>"
      ],
      "text/plain": [
       "  row_id  series_id  measurement_number  orientation_X  orientation_Y  \\\n",
       "0    0_0          0                   0       -0.75853       -0.63435   \n",
       "1    0_1          0                   1       -0.75853       -0.63434   \n",
       "2    0_2          0                   2       -0.75853       -0.63435   \n",
       "3    0_3          0                   3       -0.75852       -0.63436   \n",
       "4    0_4          0                   4       -0.75852       -0.63435   \n",
       "\n",
       "   orientation_Z  orientation_W  angular_velocity_X  angular_velocity_Y  \\\n",
       "0       -0.10488       -0.10597            0.107650            0.017561   \n",
       "1       -0.10490       -0.10600            0.067851            0.029939   \n",
       "2       -0.10492       -0.10597            0.007275            0.028934   \n",
       "3       -0.10495       -0.10597           -0.013053            0.019448   \n",
       "4       -0.10495       -0.10596            0.005135            0.007652   \n",
       "\n",
       "   angular_velocity_Z  linear_acceleration_X  linear_acceleration_Y  \\\n",
       "0            0.000767               -0.74857                 2.1030   \n",
       "1            0.003386                0.33995                 1.5064   \n",
       "2           -0.005978               -0.26429                 1.5922   \n",
       "3           -0.008974                0.42684                 1.0993   \n",
       "4            0.005245               -0.50969                 1.4689   \n",
       "\n",
       "   linear_acceleration_Z  \n",
       "0                -9.7532  \n",
       "1                -9.4128  \n",
       "2                -8.7267  \n",
       "3               -10.0960  \n",
       "4               -10.4410  "
      ]
     },
     "execution_count": 5,
     "metadata": {},
     "output_type": "execute_result"
    }
   ],
   "source": [
    "X_train = pd.read_csv(os.path.join(DATA_PATH, \"X_train.csv\"))\n",
    "X_train.head()"
   ]
  },
  {
   "cell_type": "code",
   "execution_count": 6,
   "id": "21065d7e-4fa5-4d7f-b8ac-87168c930bed",
   "metadata": {},
   "outputs": [
    {
     "data": {
      "text/html": [
       "<div>\n",
       "<style scoped>\n",
       "    .dataframe tbody tr th:only-of-type {\n",
       "        vertical-align: middle;\n",
       "    }\n",
       "\n",
       "    .dataframe tbody tr th {\n",
       "        vertical-align: top;\n",
       "    }\n",
       "\n",
       "    .dataframe thead th {\n",
       "        text-align: right;\n",
       "    }\n",
       "</style>\n",
       "<table border=\"1\" class=\"dataframe\">\n",
       "  <thead>\n",
       "    <tr style=\"text-align: right;\">\n",
       "      <th></th>\n",
       "      <th>series_id</th>\n",
       "      <th>group_id</th>\n",
       "      <th>surface</th>\n",
       "    </tr>\n",
       "  </thead>\n",
       "  <tbody>\n",
       "    <tr>\n",
       "      <th>0</th>\n",
       "      <td>0</td>\n",
       "      <td>13</td>\n",
       "      <td>fine_concrete</td>\n",
       "    </tr>\n",
       "    <tr>\n",
       "      <th>1</th>\n",
       "      <td>1</td>\n",
       "      <td>31</td>\n",
       "      <td>concrete</td>\n",
       "    </tr>\n",
       "    <tr>\n",
       "      <th>2</th>\n",
       "      <td>2</td>\n",
       "      <td>20</td>\n",
       "      <td>concrete</td>\n",
       "    </tr>\n",
       "    <tr>\n",
       "      <th>3</th>\n",
       "      <td>3</td>\n",
       "      <td>31</td>\n",
       "      <td>concrete</td>\n",
       "    </tr>\n",
       "    <tr>\n",
       "      <th>4</th>\n",
       "      <td>4</td>\n",
       "      <td>22</td>\n",
       "      <td>soft_tiles</td>\n",
       "    </tr>\n",
       "  </tbody>\n",
       "</table>\n",
       "</div>"
      ],
      "text/plain": [
       "   series_id  group_id        surface\n",
       "0          0        13  fine_concrete\n",
       "1          1        31       concrete\n",
       "2          2        20       concrete\n",
       "3          3        31       concrete\n",
       "4          4        22     soft_tiles"
      ]
     },
     "execution_count": 6,
     "metadata": {},
     "output_type": "execute_result"
    }
   ],
   "source": [
    "y_train = pd.read_csv(os.path.join(DATA_PATH, \"y_train.csv\"))\n",
    "y_train.head()"
   ]
  },
  {
   "cell_type": "markdown",
   "id": "5b81de63-d9e2-4b0d-8abc-cd58545a455d",
   "metadata": {},
   "source": [
    "# Training Config"
   ]
  },
  {
   "cell_type": "code",
   "execution_count": 7,
   "id": "218fb4f4-61cf-4062-9da2-0e805e1a88ad",
   "metadata": {},
   "outputs": [],
   "source": [
    "BATCH_SIZE = 64\n",
    "EPOCHS = 250"
   ]
  },
  {
   "cell_type": "markdown",
   "id": "2281e018-6fee-4df7-ba22-0e1eb28a6305",
   "metadata": {},
   "source": [
    "# Some Visualizations"
   ]
  },
  {
   "cell_type": "code",
   "execution_count": 8,
   "id": "c32a1b89-254b-4b21-b495-19f57c647075",
   "metadata": {},
   "outputs": [
    {
     "data": {
      "image/png": "[encoded data removed]",
      "text/plain": [
       "<Figure size 1152x720 with 1 Axes>"
      ]
     },
     "metadata": {},
     "output_type": "display_data"
    }
   ],
   "source": [
    "y_train['surface'].value_counts().plot(kind='bar')\n",
    "plt.title(\"Number of Sequences for each Class\", size=20)\n",
    "plt.xticks(rotation=45);"
   ]
  },
  {
   "cell_type": "markdown",
   "id": "c073f219-708f-4d89-9731-47e67e82caf8",
   "metadata": {},
   "source": [
    "# Preprocess the data"
   ]
  },
  {
   "cell_type": "code",
   "execution_count": 9,
   "id": "56098b46-37c9-4ba7-8d5a-efa5b275459e",
   "metadata": {},
   "outputs": [],
   "source": [
    "# encode the labels into ids\n",
    "unique_labels = y_train['surface'].unique()\n",
    "label_name2encoded = {name: idx for idx, name in enumerate(unique_labels)}\n",
    "label_encoded2name = {idx: name for name, idx in label_name2encoded.items()}"
   ]
  },
  {
   "cell_type": "code",
   "execution_count": 10,
   "id": "9750a739-ccdb-4015-9ed6-5b424b7d1394",
   "metadata": {},
   "outputs": [
    {
     "name": "stdout",
     "output_type": "stream",
     "text": [
      "{'fine_concrete': 0, 'concrete': 1, 'soft_tiles': 2, 'tiled': 3, 'soft_pvc': 4, 'hard_tiles_large_space': 5, 'carpet': 6, 'hard_tiles': 7, 'wood': 8}\n",
      "{0: 'fine_concrete', 1: 'concrete', 2: 'soft_tiles', 3: 'tiled', 4: 'soft_pvc', 5: 'hard_tiles_large_space', 6: 'carpet', 7: 'hard_tiles', 8: 'wood'}\n"
     ]
    }
   ],
   "source": [
    "print(label_name2encoded)\n",
    "print(label_encoded2name)"
   ]
  },
  {
   "cell_type": "code",
   "execution_count": 11,
   "id": "b546f9fc-95e2-48cf-af56-9bcfaa6bf6da",
   "metadata": {
    "tags": []
   },
   "outputs": [
    {
     "data": {
      "text/plain": [
       "array(['orientation_X', 'orientation_Y', 'orientation_Z', 'orientation_W',\n",
       "       'angular_velocity_X', 'angular_velocity_Y', 'angular_velocity_Z',\n",
       "       'linear_acceleration_X', 'linear_acceleration_Y',\n",
       "       'linear_acceleration_Z'], dtype=object)"
      ]
     },
     "execution_count": 11,
     "metadata": {},
     "output_type": "execute_result"
    }
   ],
   "source": [
    "# get the feature columns\n",
    "feature_cols = X_train.columns[3:].values\n",
    "feature_cols"
   ]
  },
  {
   "cell_type": "code",
   "execution_count": 12,
   "id": "0f457744-aad7-4514-a4f1-4494d761075d",
   "metadata": {},
   "outputs": [
    {
     "data": {
      "text/plain": [
       "True"
      ]
     },
     "execution_count": 12,
     "metadata": {},
     "output_type": "execute_result"
    }
   ],
   "source": [
    "# there are 128 timesteps for each sequence\n",
    "(X_train.groupby(\"series_id\")['row_id'].count() == 128).all()"
   ]
  },
  {
   "cell_type": "code",
   "execution_count": 13,
   "id": "ae7ccdc0-3d67-4db1-830b-0f85e6e37d83",
   "metadata": {},
   "outputs": [],
   "source": [
    "# create a list of tuples of sequences and encoded labels\n",
    "sequence_list = []\n",
    "for series_id, group in X_train.groupby(\"series_id\"):\n",
    "    sequence = group[feature_cols].values\n",
    "    label = y_train.loc[y_train['series_id'] == series_id, 'surface'].values[0]\n",
    "    encoded_label = label_name2encoded[label]\n",
    "    # append the sequence and label as tuple into the list\n",
    "    sequence_list.append((sequence, encoded_label))"
   ]
  },
  {
   "cell_type": "code",
   "execution_count": 14,
   "id": "83798162-3761-40d6-b9ac-2af5f08bffe6",
   "metadata": {},
   "outputs": [
    {
     "name": "stdout",
     "output_type": "stream",
     "text": [
      "label = 0\n",
      "fine_concrete\n",
      "[[ -0.75853  -0.63435  -0.10488 ...  -0.74857   2.103    -9.7532 ]\n",
      " [ -0.75853  -0.63434  -0.1049  ...   0.33995   1.5064   -9.4128 ]\n",
      " [ -0.75853  -0.63435  -0.10492 ...  -0.26429   1.5922   -8.7267 ]\n",
      " ...\n",
      " [ -0.75949  -0.63309  -0.10467 ...  -0.98193   0.97328  -9.9795 ]\n",
      " [ -0.7595   -0.63307  -0.10464 ...  -0.72591   0.34931 -11.977  ]\n",
      " [ -0.75953  -0.63306  -0.10461 ...  -0.53426   0.80346 -10.697  ]]\n"
     ]
    }
   ],
   "source": [
    "# showing an example of sequence with its label\n",
    "sequence_idx = 0\n",
    "sequence = sequence_list[sequence_idx][0]\n",
    "label = sequence_list[sequence_idx][1]\n",
    "print(f\"label = {label}\")\n",
    "print(label_encoded2name[label])\n",
    "print(sequence)"
   ]
  },
  {
   "cell_type": "code",
   "execution_count": 15,
   "id": "90d11064-1b20-473b-aec1-f1f7d650da27",
   "metadata": {},
   "outputs": [
    {
     "name": "stdout",
     "output_type": "stream",
     "text": [
      "3048\n",
      "762\n"
     ]
    }
   ],
   "source": [
    "train_sequences, val_sequences = train_test_split(sequence_list, test_size=0.2)\n",
    "print(len(train_sequences))\n",
    "print(len(val_sequences))"
   ]
  },
  {
   "cell_type": "markdown",
   "id": "de1567d3-6eba-4da4-bb9b-013384d193c4",
   "metadata": {},
   "source": [
    "# Create PyTorch Dataset and DataLoaders"
   ]
  },
  {
   "cell_type": "code",
   "execution_count": 16,
   "id": "6515a02a-06e6-4875-8b56-78ad886fe6e5",
   "metadata": {},
   "outputs": [],
   "source": [
    "# create PyTorch dataset by inheriting the Dataset class\n",
    "class SequenceDataset(Dataset):\n",
    "    def __init__(self, sequence_list):\n",
    "        \"\"\"The `sequence_list` parameter contains tuples of (sequence, label).\"\"\"\n",
    "        self.sequence_list = sequence_list\n",
    "        \n",
    "    def __len__(self):\n",
    "        return len(self.sequence_list)\n",
    "    \n",
    "    def __getitem__(self, idx):\n",
    "        sequence = sequence_list[idx][0]\n",
    "        label = sequence_list[idx][1]\n",
    "        \n",
    "        sequence = torch.tensor(sequence).float()\n",
    "        label = torch.tensor(label)\n",
    "        return sequence, label"
   ]
  },
  {
   "cell_type": "code",
   "execution_count": 17,
   "id": "5b6acb2e-39a1-4a83-889f-3f373d76fc73",
   "metadata": {},
   "outputs": [],
   "source": [
    "train_dataset = SequenceDataset(train_sequences)\n",
    "val_dataset = SequenceDataset(val_sequences)"
   ]
  },
  {
   "cell_type": "code",
   "execution_count": 18,
   "id": "92b1e324-1c19-4844-8d1e-376d7eeec6ea",
   "metadata": {},
   "outputs": [
    {
     "name": "stdout",
     "output_type": "stream",
     "text": [
      "tensor(0)\n",
      "tensor([[ -0.7585,  -0.6344,  -0.1049,  ...,  -0.7486,   2.1030,  -9.7532],\n",
      "        [ -0.7585,  -0.6343,  -0.1049,  ...,   0.3399,   1.5064,  -9.4128],\n",
      "        [ -0.7585,  -0.6344,  -0.1049,  ...,  -0.2643,   1.5922,  -8.7267],\n",
      "        ...,\n",
      "        [ -0.7595,  -0.6331,  -0.1047,  ...,  -0.9819,   0.9733,  -9.9795],\n",
      "        [ -0.7595,  -0.6331,  -0.1046,  ...,  -0.7259,   0.3493, -11.9770],\n",
      "        [ -0.7595,  -0.6331,  -0.1046,  ...,  -0.5343,   0.8035, -10.6970]])\n",
      "torch.Size([128, 10])\n"
     ]
    }
   ],
   "source": [
    "for x, y in train_dataset:\n",
    "    print(y)\n",
    "    print(x)\n",
    "    print(x.shape)\n",
    "    break"
   ]
  },
  {
   "cell_type": "code",
   "execution_count": 20,
   "id": "a7144d36-ca03-42d0-8ec2-9ed3df8b662a",
   "metadata": {},
   "outputs": [],
   "source": [
    "train_dl = DataLoader(train_dataset, batch_size=BATCH_SIZE, shuffle=True)\n",
    "val_dl = DataLoader(val_dataset, batch_size=BATCH_SIZE, shuffle=False)"
   ]
  },
  {
   "cell_type": "code",
   "execution_count": 21,
   "id": "03a3f630-13e2-471f-8d2a-87c48f8114fc",
   "metadata": {},
   "outputs": [
    {
     "name": "stdout",
     "output_type": "stream",
     "text": [
      "torch.Size([64, 128, 10])\n",
      "torch.Size([64])\n"
     ]
    }
   ],
   "source": [
    "for x, y in train_dl:\n",
    "    print(x.shape)\n",
    "    print(y.shape)\n",
    "    break"
   ]
  },
  {
   "cell_type": "markdown",
   "id": "bd84c29b-27bd-49c4-a5a5-020709ddd39a",
   "metadata": {},
   "source": [
    "# Build Model"
   ]
  },
  {
   "cell_type": "code",
   "execution_count": null,
   "id": "25ab4285-c424-426a-af20-cfc8964ca64e",
   "metadata": {},
   "outputs": [],
   "source": []
  },
  {
   "cell_type": "code",
   "execution_count": null,
   "id": "11fd5edd-cee5-4f56-801f-7130491ff006",
   "metadata": {},
   "outputs": [],
   "source": []
  }
 ],
 "metadata": {
  "kernelspec": {
   "display_name": "torch",
   "language": "python",
   "name": "torch"
  },
  "language_info": {
   "codemirror_mode": {
    "name": "ipython",
    "version": 3
   },
   "file_extension": ".py",
   "mimetype": "text/x-python",
   "name": "python",
   "nbconvert_exporter": "python",
   "pygments_lexer": "ipython3",
   "version": "3.8.11"
  }
 },
 "nbformat": 4,
 "nbformat_minor": 5
}
